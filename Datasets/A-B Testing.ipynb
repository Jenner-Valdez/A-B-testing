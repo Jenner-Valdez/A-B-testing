{
 "cells": [
  {
   "cell_type": "markdown",
   "metadata": {},
   "source": [
    "# A/B Testing"
   ]
  },
  {
   "cell_type": "markdown",
   "metadata": {
    "vscode": {
     "languageId": "plaintext"
    }
   },
   "source": [
    "We are doing a A/B testing to check different hypothesis to increase the revenue for the Online Store."
   ]
  },
  {
   "cell_type": "code",
   "execution_count": 1,
   "metadata": {},
   "outputs": [],
   "source": [
    "#import all the libraries neccesaries\n",
    "import pandas as pd\n",
    "import matplotlib.pyplot as plt\n",
    "import seaborn as sns\n",
    "from scipy.stats import chi2_contingency\n",
    "from scipy.stats import ttest_ind"
   ]
  },
  {
   "cell_type": "code",
   "execution_count": 2,
   "metadata": {},
   "outputs": [],
   "source": [
    "#Read all the libraries and assign them to a variable for easy access\n",
    "hypo_log = '/datasets/hypotheses_us.csv'\n",
    "orders_log = '/datasets/orders_us.csv'\n",
    "visits_log = '/datasets/visits_us.csv'"
   ]
  },
  {
   "cell_type": "markdown",
   "metadata": {},
   "source": [
    "The following code will read and clean the 'hypo' dataset"
   ]
  },
  {
   "cell_type": "code",
   "execution_count": 3,
   "metadata": {},
   "outputs": [],
   "source": [
    "#Read the csv file\n",
    "hypo  = pd.read_csv(hypo_log, delimiter=';')"
   ]
  },
  {
   "cell_type": "code",
   "execution_count": 4,
   "metadata": {},
   "outputs": [
    {
     "data": {
      "text/html": [
       "<div>\n",
       "<style scoped>\n",
       "    .dataframe tbody tr th:only-of-type {\n",
       "        vertical-align: middle;\n",
       "    }\n",
       "\n",
       "    .dataframe tbody tr th {\n",
       "        vertical-align: top;\n",
       "    }\n",
       "\n",
       "    .dataframe thead th {\n",
       "        text-align: right;\n",
       "    }\n",
       "</style>\n",
       "<table border=\"1\" class=\"dataframe\">\n",
       "  <thead>\n",
       "    <tr style=\"text-align: right;\">\n",
       "      <th></th>\n",
       "      <th>Hypothesis</th>\n",
       "      <th>Reach</th>\n",
       "      <th>Impact</th>\n",
       "      <th>Confidence</th>\n",
       "      <th>Effort</th>\n",
       "    </tr>\n",
       "  </thead>\n",
       "  <tbody>\n",
       "    <tr>\n",
       "      <th>0</th>\n",
       "      <td>Add two new channels for attracting traffic. T...</td>\n",
       "      <td>3</td>\n",
       "      <td>10</td>\n",
       "      <td>8</td>\n",
       "      <td>6</td>\n",
       "    </tr>\n",
       "    <tr>\n",
       "      <th>1</th>\n",
       "      <td>Launch your own delivery service. This will sh...</td>\n",
       "      <td>2</td>\n",
       "      <td>5</td>\n",
       "      <td>4</td>\n",
       "      <td>10</td>\n",
       "    </tr>\n",
       "    <tr>\n",
       "      <th>2</th>\n",
       "      <td>Add product recommendation blocks to the store...</td>\n",
       "      <td>8</td>\n",
       "      <td>3</td>\n",
       "      <td>7</td>\n",
       "      <td>3</td>\n",
       "    </tr>\n",
       "    <tr>\n",
       "      <th>3</th>\n",
       "      <td>Change the category structure. This will incre...</td>\n",
       "      <td>8</td>\n",
       "      <td>3</td>\n",
       "      <td>3</td>\n",
       "      <td>8</td>\n",
       "    </tr>\n",
       "    <tr>\n",
       "      <th>4</th>\n",
       "      <td>Change the background color on the main page. ...</td>\n",
       "      <td>3</td>\n",
       "      <td>1</td>\n",
       "      <td>1</td>\n",
       "      <td>1</td>\n",
       "    </tr>\n",
       "  </tbody>\n",
       "</table>\n",
       "</div>"
      ],
      "text/plain": [
       "                                          Hypothesis  Reach  Impact  \\\n",
       "0  Add two new channels for attracting traffic. T...      3      10   \n",
       "1  Launch your own delivery service. This will sh...      2       5   \n",
       "2  Add product recommendation blocks to the store...      8       3   \n",
       "3  Change the category structure. This will incre...      8       3   \n",
       "4  Change the background color on the main page. ...      3       1   \n",
       "\n",
       "   Confidence  Effort  \n",
       "0           8       6  \n",
       "1           4      10  \n",
       "2           7       3  \n",
       "3           3       8  \n",
       "4           1       1  "
      ]
     },
     "execution_count": 4,
     "metadata": {},
     "output_type": "execute_result"
    }
   ],
   "source": [
    "#Print the head to make sure it was read properly\n",
    "hypo.head()"
   ]
  },
  {
   "cell_type": "code",
   "execution_count": 5,
   "metadata": {},
   "outputs": [
    {
     "name": "stdout",
     "output_type": "stream",
     "text": [
      "<class 'pandas.core.frame.DataFrame'>\n",
      "RangeIndex: 9 entries, 0 to 8\n",
      "Data columns (total 5 columns):\n",
      " #   Column      Non-Null Count  Dtype \n",
      "---  ------      --------------  ----- \n",
      " 0   Hypothesis  9 non-null      object\n",
      " 1   Reach       9 non-null      int64 \n",
      " 2   Impact      9 non-null      int64 \n",
      " 3   Confidence  9 non-null      int64 \n",
      " 4   Effort      9 non-null      int64 \n",
      "dtypes: int64(4), object(1)\n",
      "memory usage: 488.0+ bytes\n"
     ]
    }
   ],
   "source": [
    "#Print the info of the dataset to check on data types per column\n",
    "hypo.info()"
   ]
  },
  {
   "cell_type": "markdown",
   "metadata": {},
   "source": [
    "All the columns are the right data type"
   ]
  },
  {
   "cell_type": "code",
   "execution_count": 6,
   "metadata": {},
   "outputs": [
    {
     "data": {
      "text/plain": [
       "Hypothesis    0\n",
       "Reach         0\n",
       "Impact        0\n",
       "Confidence    0\n",
       "Effort        0\n",
       "dtype: int64"
      ]
     },
     "execution_count": 6,
     "metadata": {},
     "output_type": "execute_result"
    }
   ],
   "source": [
    "#Check on missing parts of the dataset even if its small\n",
    "hypo.isnull().sum()"
   ]
  },
  {
   "cell_type": "markdown",
   "metadata": {},
   "source": [
    "There are no empty values in dataset"
   ]
  },
  {
   "cell_type": "markdown",
   "metadata": {},
   "source": [
    "The following code will read and clean the 'orders' dataset"
   ]
  },
  {
   "cell_type": "code",
   "execution_count": 7,
   "metadata": {},
   "outputs": [],
   "source": [
    "#Read the csv file\n",
    "orders  = pd.read_csv(orders_log)"
   ]
  },
  {
   "cell_type": "code",
   "execution_count": 8,
   "metadata": {},
   "outputs": [
    {
     "name": "stdout",
     "output_type": "stream",
     "text": [
      "   transactionId   visitorId        date  revenue group\n",
      "0     3667963787  3312258926  2019-08-15     30.4     B\n",
      "1     2804400009  3642806036  2019-08-15     15.2     B\n",
      "2     2961555356  4069496402  2019-08-15     10.2     A\n",
      "3     3797467345  1196621759  2019-08-15    155.1     B\n",
      "4     2282983706  2322279887  2019-08-15     40.5     B\n"
     ]
    }
   ],
   "source": [
    "#Print the head to make sure it was read properly\n",
    "print(orders.head(5))"
   ]
  },
  {
   "cell_type": "code",
   "execution_count": 9,
   "metadata": {},
   "outputs": [
    {
     "name": "stdout",
     "output_type": "stream",
     "text": [
      "<class 'pandas.core.frame.DataFrame'>\n",
      "RangeIndex: 1197 entries, 0 to 1196\n",
      "Data columns (total 5 columns):\n",
      " #   Column         Non-Null Count  Dtype  \n",
      "---  ------         --------------  -----  \n",
      " 0   transactionId  1197 non-null   int64  \n",
      " 1   visitorId      1197 non-null   int64  \n",
      " 2   date           1197 non-null   object \n",
      " 3   revenue        1197 non-null   float64\n",
      " 4   group          1197 non-null   object \n",
      "dtypes: float64(1), int64(2), object(2)\n",
      "memory usage: 46.9+ KB\n"
     ]
    }
   ],
   "source": [
    "#Print the info of the dataset to check on data types per column\n",
    "orders.info()"
   ]
  },
  {
   "cell_type": "markdown",
   "metadata": {},
   "source": [
    "All the columns are the right data type"
   ]
  },
  {
   "cell_type": "code",
   "execution_count": 10,
   "metadata": {},
   "outputs": [
    {
     "data": {
      "text/plain": [
       "transactionId    0\n",
       "visitorId        0\n",
       "date             0\n",
       "revenue          0\n",
       "group            0\n",
       "dtype: int64"
      ]
     },
     "execution_count": 10,
     "metadata": {},
     "output_type": "execute_result"
    }
   ],
   "source": [
    "#Check on missing parts of the dataset\n",
    "orders.isnull().sum()"
   ]
  },
  {
   "cell_type": "markdown",
   "metadata": {},
   "source": [
    "No data is missing from the datasets columns"
   ]
  },
  {
   "cell_type": "code",
   "execution_count": 11,
   "metadata": {},
   "outputs": [
    {
     "name": "stdout",
     "output_type": "stream",
     "text": [
      "0\n"
     ]
    }
   ],
   "source": [
    "#check for duplicates in the dataset\n",
    "print(orders.duplicated().sum())"
   ]
  },
  {
   "cell_type": "markdown",
   "metadata": {},
   "source": [
    "There seems to be no duplicates."
   ]
  },
  {
   "cell_type": "markdown",
   "metadata": {},
   "source": [
    "The following code will clean the 'visits' dataset."
   ]
  },
  {
   "cell_type": "code",
   "execution_count": 12,
   "metadata": {},
   "outputs": [],
   "source": [
    "#Read the csv file\n",
    "visits = pd.read_csv(visits_log)"
   ]
  },
  {
   "cell_type": "code",
   "execution_count": 13,
   "metadata": {},
   "outputs": [
    {
     "name": "stdout",
     "output_type": "stream",
     "text": [
      "         date group  visits\n",
      "0  2019-08-01     A     719\n",
      "1  2019-08-02     A     619\n",
      "2  2019-08-03     A     507\n",
      "3  2019-08-04     A     717\n",
      "4  2019-08-05     A     756\n"
     ]
    }
   ],
   "source": [
    "#Print the head to make sure it was read properly\n",
    "print(visits.head(5))"
   ]
  },
  {
   "cell_type": "code",
   "execution_count": 14,
   "metadata": {},
   "outputs": [],
   "source": [
    "#Group by visitorId and count the number of unique groups each visitor is in\n",
    "visitor_group_counts = orders.groupby('visitorId')['group'].nunique().reset_index()"
   ]
  },
  {
   "cell_type": "code",
   "execution_count": 15,
   "metadata": {},
   "outputs": [
    {
     "name": "stdout",
     "output_type": "stream",
     "text": [
      "Visitors in both groups:\n",
      "2          8300375\n",
      "44       199603092\n",
      "51       232979603\n",
      "55       237748145\n",
      "66       276558944\n",
      "84       351125977\n",
      "97       393266494\n",
      "114      457167155\n",
      "119      471551937\n",
      "122      477780734\n",
      "192      818047933\n",
      "236      963407295\n",
      "299     1230306981\n",
      "311     1294878855\n",
      "316     1316129916\n",
      "318     1333886533\n",
      "340     1404934699\n",
      "386     1602967004\n",
      "393     1614305549\n",
      "402     1648269707\n",
      "406     1668030113\n",
      "422     1738359350\n",
      "436     1801183820\n",
      "469     1959144690\n",
      "487     2038680547\n",
      "491     2044997962\n",
      "569     2378935119\n",
      "591     2458001652\n",
      "614     2579882178\n",
      "619     2587333274\n",
      "622     2600415354\n",
      "639     2654030115\n",
      "648     2686716486\n",
      "661     2712142231\n",
      "662     2716752286\n",
      "677     2780786433\n",
      "710     2927087541\n",
      "715     2949041841\n",
      "718     2954449915\n",
      "744     3062433592\n",
      "784     3202540741\n",
      "792     3234906277\n",
      "884     3656415546\n",
      "897     3717692402\n",
      "909     3766097110\n",
      "917     3803269165\n",
      "932     3891541246\n",
      "950     3941795274\n",
      "954     3951559397\n",
      "957     3957174400\n",
      "958     3963646447\n",
      "960     3972127743\n",
      "963     3984495233\n",
      "984     4069496402\n",
      "992     4120364173\n",
      "1009    4186807279\n",
      "1023    4256040402\n",
      "1026    4266935830\n",
      "Name: visitorId, dtype: int64\n"
     ]
    }
   ],
   "source": [
    "#Identify visitors who have been in both groups\n",
    "visitors_in_both_groups = visitor_group_counts[visitor_group_counts['group'] > 1]['visitorId']\n",
    "\n",
    "print(\"Visitors in both groups:\")\n",
    "print(visitors_in_both_groups)"
   ]
  },
  {
   "cell_type": "code",
   "execution_count": 16,
   "metadata": {},
   "outputs": [
    {
     "name": "stdout",
     "output_type": "stream",
     "text": [
      "         date group  visits\n",
      "0  2019-08-01     A     719\n",
      "1  2019-08-02     A     619\n",
      "2  2019-08-03     A     507\n",
      "3  2019-08-04     A     717\n",
      "4  2019-08-05     A     756\n",
      "5  2019-08-06     A     667\n",
      "6  2019-08-07     A     644\n",
      "7  2019-08-08     A     610\n",
      "8  2019-08-09     A     617\n",
      "9  2019-08-10     A     406\n"
     ]
    }
   ],
   "source": [
    "#Confirm override of the variable\n",
    "print(visits.head(10))"
   ]
  },
  {
   "cell_type": "markdown",
   "metadata": {},
   "source": [
    "Row 7 is not there which means override worked."
   ]
  },
  {
   "cell_type": "code",
   "execution_count": 17,
   "metadata": {},
   "outputs": [
    {
     "name": "stdout",
     "output_type": "stream",
     "text": [
      "<class 'pandas.core.frame.DataFrame'>\n",
      "RangeIndex: 62 entries, 0 to 61\n",
      "Data columns (total 3 columns):\n",
      " #   Column  Non-Null Count  Dtype \n",
      "---  ------  --------------  ----- \n",
      " 0   date    62 non-null     object\n",
      " 1   group   62 non-null     object\n",
      " 2   visits  62 non-null     int64 \n",
      "dtypes: int64(1), object(2)\n",
      "memory usage: 1.6+ KB\n"
     ]
    }
   ],
   "source": [
    "#Print the info of the dataset to check on data types per column\n",
    "visits.info()"
   ]
  },
  {
   "cell_type": "markdown",
   "metadata": {},
   "source": [
    "All the columns are the right data type"
   ]
  },
  {
   "cell_type": "code",
   "execution_count": 18,
   "metadata": {},
   "outputs": [
    {
     "data": {
      "text/plain": [
       "transactionId    0\n",
       "visitorId        0\n",
       "date             0\n",
       "revenue          0\n",
       "group            0\n",
       "dtype: int64"
      ]
     },
     "execution_count": 18,
     "metadata": {},
     "output_type": "execute_result"
    }
   ],
   "source": [
    "#Check on missing parts of the dataset\n",
    "orders.isnull().sum()"
   ]
  },
  {
   "cell_type": "markdown",
   "metadata": {},
   "source": [
    "No data is missing from the datasets columns"
   ]
  },
  {
   "cell_type": "code",
   "execution_count": 19,
   "metadata": {},
   "outputs": [
    {
     "name": "stdout",
     "output_type": "stream",
     "text": [
      "0\n"
     ]
    }
   ],
   "source": [
    "#check for duplicates in the dataset\n",
    "print(orders.duplicated().sum())"
   ]
  },
  {
   "cell_type": "markdown",
   "metadata": {},
   "source": [
    "There seems to be no duplicates "
   ]
  },
  {
   "cell_type": "markdown",
   "metadata": {},
   "source": [
    "# Prioritizing Hypotheses"
   ]
  },
  {
   "cell_type": "markdown",
   "metadata": {},
   "source": [
    "When testing hypotheses, picking the right one is some what complicated but with analysis we can conclude which one is the most helpful one to make the most out of the money that is being used for testing different groups in the A/B testing of the hypotheses."
   ]
  },
  {
   "cell_type": "code",
   "execution_count": 20,
   "metadata": {
    "scrolled": true
   },
   "outputs": [
    {
     "name": "stdout",
     "output_type": "stream",
     "text": [
      "                                          Hypothesis  Reach  Impact  \\\n",
      "0  Add two new channels for attracting traffic. T...      3      10   \n",
      "1  Launch your own delivery service. This will sh...      2       5   \n",
      "2  Add product recommendation blocks to the store...      8       3   \n",
      "3  Change the category structure. This will incre...      8       3   \n",
      "4  Change the background color on the main page. ...      3       1   \n",
      "\n",
      "   Confidence  Effort  \n",
      "0           8       6  \n",
      "1           4      10  \n",
      "2           7       3  \n",
      "3           3       8  \n",
      "4           1       1  \n"
     ]
    }
   ],
   "source": [
    "print(hypo.head(5))"
   ]
  },
  {
   "cell_type": "code",
   "execution_count": 21,
   "metadata": {},
   "outputs": [],
   "source": [
    "pd.set_option('display.max_colwidth', None)"
   ]
  },
  {
   "cell_type": "markdown",
   "metadata": {},
   "source": [
    "Sort the Hypothesis dataset into ICE priority"
   ]
  },
  {
   "cell_type": "code",
   "execution_count": 22,
   "metadata": {},
   "outputs": [],
   "source": [
    "#ICE calculation to rate it\n",
    "hypo['ICE Score'] = (hypo['Impact'] * hypo['Confidence']) / hypo['Effort']"
   ]
  },
  {
   "cell_type": "code",
   "execution_count": 23,
   "metadata": {},
   "outputs": [
    {
     "name": "stdout",
     "output_type": "stream",
     "text": [
      "                                                                                                               Hypothesis  \\\n",
      "8                                                        Launch a promotion that gives users discounts on their birthdays   \n",
      "0                                             Add two new channels for attracting traffic. This will bring 30% more users   \n",
      "7                                Add a subscription form to all the main pages. This will help you compile a mailing list   \n",
      "6                                 Show banners with current offers and sales on the main page. This will boost conversion   \n",
      "2          Add product recommendation blocks to the store's site. This will increase conversion and average purchase size   \n",
      "1                                                       Launch your own delivery service. This will shorten delivery time   \n",
      "5                                                     Add a customer review page. This will increase the number of orders   \n",
      "3  Change the category structure. This will increase conversion since users will find the products they want more quickly   \n",
      "4                                        Change the background color on the main page. This will increase user engagement   \n",
      "\n",
      "   Reach  Impact  Confidence  Effort  ICE Score  \n",
      "8      1       9           9       5  16.200000  \n",
      "0      3      10           8       6  13.333333  \n",
      "7     10       7           8       5  11.200000  \n",
      "6      5       3           8       3   8.000000  \n",
      "2      8       3           7       3   7.000000  \n",
      "1      2       5           4      10   2.000000  \n",
      "5      3       2           2       3   1.333333  \n",
      "3      8       3           3       8   1.125000  \n",
      "4      3       1           1       1   1.000000  \n"
     ]
    }
   ],
   "source": [
    "#Sort the dataset in ascending order\n",
    "sorted_hypo = hypo.sort_values(by='ICE Score', ascending=False)\n",
    "print(sorted_hypo.head(10))"
   ]
  },
  {
   "cell_type": "markdown",
   "metadata": {},
   "source": [
    "Sort the Hypothesis dataset into RICE priority"
   ]
  },
  {
   "cell_type": "code",
   "execution_count": 24,
   "metadata": {},
   "outputs": [],
   "source": [
    "#RICE calculation to rate it\n",
    "hypo['RICE'] = (hypo['Reach'] * hypo['Impact'] * hypo['Confidence']) / hypo['Effort']"
   ]
  },
  {
   "cell_type": "code",
   "execution_count": 25,
   "metadata": {},
   "outputs": [
    {
     "name": "stdout",
     "output_type": "stream",
     "text": [
      "Index(['Hypothesis', 'Reach', 'Impact', 'Confidence', 'Effort', 'ICE Score',\n",
      "       'RICE'],\n",
      "      dtype='object')\n"
     ]
    }
   ],
   "source": [
    "print(hypo.columns)"
   ]
  },
  {
   "cell_type": "code",
   "execution_count": 26,
   "metadata": {},
   "outputs": [
    {
     "name": "stdout",
     "output_type": "stream",
     "text": [
      "                                                                                                               Hypothesis  \\\n",
      "0                                             Add two new channels for attracting traffic. This will bring 30% more users   \n",
      "1                                                       Launch your own delivery service. This will shorten delivery time   \n",
      "2          Add product recommendation blocks to the store's site. This will increase conversion and average purchase size   \n",
      "3  Change the category structure. This will increase conversion since users will find the products they want more quickly   \n",
      "4                                        Change the background color on the main page. This will increase user engagement   \n",
      "5                                                     Add a customer review page. This will increase the number of orders   \n",
      "6                                 Show banners with current offers and sales on the main page. This will boost conversion   \n",
      "7                                Add a subscription form to all the main pages. This will help you compile a mailing list   \n",
      "8                                                        Launch a promotion that gives users discounts on their birthdays   \n",
      "\n",
      "   Reach  Impact  Confidence  Effort  ICE Score   RICE  \n",
      "0      3      10           8       6  13.333333   40.0  \n",
      "1      2       5           4      10   2.000000    4.0  \n",
      "2      8       3           7       3   7.000000   56.0  \n",
      "3      8       3           3       8   1.125000    9.0  \n",
      "4      3       1           1       1   1.000000    3.0  \n",
      "5      3       2           2       3   1.333333    4.0  \n",
      "6      5       3           8       3   8.000000   40.0  \n",
      "7     10       7           8       5  11.200000  112.0  \n",
      "8      1       9           9       5  16.200000   16.2  \n",
      "                                                                                                               Hypothesis  \\\n",
      "7                                Add a subscription form to all the main pages. This will help you compile a mailing list   \n",
      "2          Add product recommendation blocks to the store's site. This will increase conversion and average purchase size   \n",
      "0                                             Add two new channels for attracting traffic. This will bring 30% more users   \n",
      "6                                 Show banners with current offers and sales on the main page. This will boost conversion   \n",
      "8                                                        Launch a promotion that gives users discounts on their birthdays   \n",
      "3  Change the category structure. This will increase conversion since users will find the products they want more quickly   \n",
      "1                                                       Launch your own delivery service. This will shorten delivery time   \n",
      "5                                                     Add a customer review page. This will increase the number of orders   \n",
      "4                                        Change the background color on the main page. This will increase user engagement   \n",
      "\n",
      "    RICE  \n",
      "7  112.0  \n",
      "2   56.0  \n",
      "0   40.0  \n",
      "6   40.0  \n",
      "8   16.2  \n",
      "3    9.0  \n",
      "1    4.0  \n",
      "5    4.0  \n",
      "4    3.0  \n"
     ]
    }
   ],
   "source": [
    "#Sort the dataset in ascending order\n",
    "print(hypo)\n",
    "print(hypo[['Hypothesis','RICE']].sort_values(by='RICE', ascending=False))"
   ]
  },
  {
   "cell_type": "code",
   "execution_count": 27,
   "metadata": {},
   "outputs": [
    {
     "name": "stdout",
     "output_type": "stream",
     "text": [
      "   ICE Score   RICE\n",
      "0  13.333333   40.0\n",
      "1   2.000000    4.0\n",
      "2   7.000000   56.0\n",
      "3   1.125000    9.0\n",
      "4   1.000000    3.0\n",
      "5   1.333333    4.0\n",
      "6   8.000000   40.0\n",
      "7  11.200000  112.0\n",
      "8  16.200000   16.2\n"
     ]
    }
   ],
   "source": [
    "#Print both columns next to each other to see them better\n",
    "print(hypo[['ICE Score','RICE']])"
   ]
  },
  {
   "cell_type": "markdown",
   "metadata": {},
   "source": [
    "Althought with the ICE score 8 is on the first place, once moved we use the RICE score it all changes since RICE takes in account the reach to see how many will be affected by this. After doing the RICE score, the 8th hypothesis goes down to being 5th place. AS the reach is only 1."
   ]
  },
  {
   "cell_type": "markdown",
   "metadata": {},
   "source": [
    "# A/B Test Analysis"
   ]
  },
  {
   "cell_type": "markdown",
   "metadata": {},
   "source": [
    "### 1. Cumulative revenue by group"
   ]
  },
  {
   "cell_type": "code",
   "execution_count": 28,
   "metadata": {},
   "outputs": [],
   "source": [
    "#Convert the 'date' column to datetime\n",
    "orders['date'] = pd.to_datetime(orders['date'])\n",
    "orders['revenue'] = pd.to_numeric(orders['revenue'], errors='coerce')\n",
    "orders['group'] = orders['group'].astype('category')"
   ]
  },
  {
   "cell_type": "code",
   "execution_count": 29,
   "metadata": {},
   "outputs": [],
   "source": [
    "#Handle any missing or incorrect data\n",
    "orders = orders.dropna(subset=['revenue'])"
   ]
  },
  {
   "cell_type": "code",
   "execution_count": 30,
   "metadata": {},
   "outputs": [],
   "source": [
    "#Sort the data by date\n",
    "orders = orders.sort_values('date')"
   ]
  },
  {
   "cell_type": "code",
   "execution_count": 31,
   "metadata": {},
   "outputs": [],
   "source": [
    "#Calculate cumulative revenue for each group\n",
    "orders['cumulative_revenue'] = orders.groupby('group')['revenue'].cumsum()"
   ]
  },
  {
   "cell_type": "code",
   "execution_count": 32,
   "metadata": {},
   "outputs": [],
   "source": [
    "#Pivot the data to ahve the dates as rows and groups as columns\n",
    "cumulative_revenue_df = orders.pivot_table(index='date', columns='group', values='cumulative_revenue', fill_value=0)"
   ]
  },
  {
   "cell_type": "code",
   "execution_count": 33,
   "metadata": {},
   "outputs": [
    {
     "data": {
      "image/png": "[encoded data removed]",
      "text/plain": [
       "<Figure size 900x600 with 1 Axes>"
      ]
     },
     "metadata": {},
     "output_type": "display_data"
    }
   ],
   "source": [
    "#Plot cumulative revenue by group\n",
    "plt.figure(figsize=(9, 6))\n",
    "plt.plot(cumulative_revenue_df.index, cumulative_revenue_df['A'], label='Group A')\n",
    "plt.plot(cumulative_revenue_df.index, cumulative_revenue_df['B'], label='Group B')\n",
    "plt.xlabel('Date')\n",
    "plt.ylabel('Cumulative Revenue')\n",
    "plt.title('Cumulative Revenue by Group')\n",
    "plt.legend()\n",
    "plt.grid(True)\n",
    "plt.show()"
   ]
  },
  {
   "cell_type": "markdown",
   "metadata": {},
   "source": [
    "After the 17th of august Group A and Group B start to part ways as Group A starts to show how they have more revenue compare to Group B. There was an initial gap but on the 13 it was close short. Until the 17th when Group A took the lead by a lot."
   ]
  },
  {
   "cell_type": "markdown",
   "metadata": {},
   "source": [
    "### 2. Cumulative average order size by group."
   ]
  },
  {
   "cell_type": "code",
   "execution_count": 34,
   "metadata": {},
   "outputs": [],
   "source": [
    "#Calculate cumulative revenue for each group\n",
    "orders['cumulative_revenue'] = orders.groupby('group')['revenue'].cumsum()"
   ]
  },
  {
   "cell_type": "code",
   "execution_count": 35,
   "metadata": {},
   "outputs": [],
   "source": [
    "#Calculate cumulative count of orders for each group\n",
    "orders['cumulative_orders'] = orders.groupby('group').cumcount() + 1"
   ]
  },
  {
   "cell_type": "code",
   "execution_count": 36,
   "metadata": {},
   "outputs": [],
   "source": [
    "#Calculate cumulative average order size\n",
    "orders['cumulative_avg_order_size'] = orders['cumulative_revenue'] / orders['cumulative_orders']"
   ]
  },
  {
   "cell_type": "code",
   "execution_count": 37,
   "metadata": {},
   "outputs": [],
   "source": [
    "#Pivot the data to have dates as rows and groups as columns\n",
    "cumulative_avg_order_size_data = orders.pivot_table(index='date', columns='group', values='cumulative_avg_order_size', fill_value=0)"
   ]
  },
  {
   "cell_type": "code",
   "execution_count": 38,
   "metadata": {},
   "outputs": [
    {
     "data": {
      "image/png": "[encoded data removed]",
      "text/plain": [
       "<Figure size 900x600 with 1 Axes>"
      ]
     },
     "metadata": {},
     "output_type": "display_data"
    }
   ],
   "source": [
    "#Plot cumulative average order size by group\n",
    "plt.figure(figsize=(9, 6))\n",
    "plt.plot(cumulative_avg_order_size_data.index, cumulative_avg_order_size_data['A'], label='Group A')\n",
    "plt.plot(cumulative_avg_order_size_data.index, cumulative_avg_order_size_data['B'], label='Group B')\n",
    "plt.xlabel('Date')\n",
    "plt.ylabel('Cumulative Average Order Size')\n",
    "plt.title('Cumulative Average Order Size by Group')\n",
    "plt.legend()\n",
    "plt.grid(True)\n",
    "plt.show()"
   ]
  },
  {
   "cell_type": "markdown",
   "metadata": {},
   "source": [
    "Again, Group A is taking the lead from Group B after the 17th of August. Prior to that they are both very similar, after this time the order size increase from 110 to 160."
   ]
  },
  {
   "cell_type": "markdown",
   "metadata": {},
   "source": [
    "### 3. Relative difference between cumulative average order size."
   ]
  },
  {
   "cell_type": "code",
   "execution_count": 39,
   "metadata": {},
   "outputs": [
    {
     "data": {
      "text/html": [
       "<div>\n",
       "<style scoped>\n",
       "    .dataframe tbody tr th:only-of-type {\n",
       "        vertical-align: middle;\n",
       "    }\n",
       "\n",
       "    .dataframe tbody tr th {\n",
       "        vertical-align: top;\n",
       "    }\n",
       "\n",
       "    .dataframe thead th {\n",
       "        text-align: right;\n",
       "    }\n",
       "</style>\n",
       "<table border=\"1\" class=\"dataframe\">\n",
       "  <thead>\n",
       "    <tr style=\"text-align: right;\">\n",
       "      <th>group</th>\n",
       "      <th>A</th>\n",
       "      <th>B</th>\n",
       "    </tr>\n",
       "    <tr>\n",
       "      <th>date</th>\n",
       "      <th></th>\n",
       "      <th></th>\n",
       "    </tr>\n",
       "  </thead>\n",
       "  <tbody>\n",
       "    <tr>\n",
       "      <th>2019-08-01</th>\n",
       "      <td>7.856000</td>\n",
       "      <td>7.012987</td>\n",
       "    </tr>\n",
       "    <tr>\n",
       "      <th>2019-08-02</th>\n",
       "      <td>3.899293</td>\n",
       "      <td>4.100290</td>\n",
       "    </tr>\n",
       "    <tr>\n",
       "      <th>2019-08-03</th>\n",
       "      <td>2.419224</td>\n",
       "      <td>3.199683</td>\n",
       "    </tr>\n",
       "    <tr>\n",
       "      <th>2019-08-04</th>\n",
       "      <td>1.910952</td>\n",
       "      <td>2.521227</td>\n",
       "    </tr>\n",
       "    <tr>\n",
       "      <th>2019-08-05</th>\n",
       "      <td>1.469591</td>\n",
       "      <td>1.798272</td>\n",
       "    </tr>\n",
       "  </tbody>\n",
       "</table>\n",
       "</div>"
      ],
      "text/plain": [
       "group              A         B\n",
       "date                          \n",
       "2019-08-01  7.856000  7.012987\n",
       "2019-08-02  3.899293  4.100290\n",
       "2019-08-03  2.419224  3.199683\n",
       "2019-08-04  1.910952  2.521227\n",
       "2019-08-05  1.469591  1.798272"
      ]
     },
     "execution_count": 39,
     "metadata": {},
     "output_type": "execute_result"
    }
   ],
   "source": [
    "# Convert 'date' to datetime format and 'group' to category\n",
    "orders['date'] = pd.to_datetime(orders['date'])\n",
    "orders['group'] = orders['group'].astype('category')\n",
    "\n",
    "# Aggregate revenue and order count by date and group\n",
    "daily_revenue = orders.groupby(['date', 'group']).agg({'revenue': 'sum', 'cumulative_orders': 'sum'}).reset_index()\n",
    "\n",
    "# Calculate the cumulative sum of revenue and order count\n",
    "daily_revenue['cumulative_revenue'] = daily_revenue.groupby('group')['revenue'].cumsum()\n",
    "daily_revenue['cumulative_order_count'] = daily_revenue.groupby('group')['cumulative_orders'].cumsum()\n",
    "\n",
    "# Calculate the cumulative average order size\n",
    "daily_revenue['cumulative_avg_order_size'] = daily_revenue['cumulative_revenue'] / daily_revenue['cumulative_order_count']\n",
    "\n",
    "# Pivot the table to get cumulative average order size for each group\n",
    "pivot_table = daily_revenue.pivot(index='date', columns='group', values='cumulative_avg_order_size')\n",
    "\n",
    "pivot_table.head()"
   ]
  },
  {
   "cell_type": "code",
   "execution_count": 40,
   "metadata": {},
   "outputs": [
    {
     "data": {
      "image/png": "[encoded data removed]",
      "text/plain": [
       "<Figure size 1000x600 with 1 Axes>"
      ]
     },
     "metadata": {},
     "output_type": "display_data"
    }
   ],
   "source": [
    "# Calculate the relative difference\n",
    "relative_difference = (pivot_table['B'] - pivot_table['A']) / pivot_table['A']\n",
    "\n",
    "# Plot the relative difference\n",
    "plt.figure(figsize=(10, 6))\n",
    "plt.plot(pivot_table.index, relative_difference, marker='o', linestyle='-')\n",
    "plt.title('Relative Difference in Cumulative Average Order Size (Group B vs. Group A)')\n",
    "plt.xlabel('Date')\n",
    "plt.ylabel('relative_difference')\n",
    "plt.grid(True)\n",
    "plt.show()"
   ]
  },
  {
   "cell_type": "markdown",
   "metadata": {},
   "source": [
    "According to our graph there is a significant spike at the beginning of the graph around the start of August 2019. This indicates how there is a large difference between both groups. After the initial spike, the relative difference goes down and hovers close to zero. Which suggests that over time, the average order size of the two groups becomes more similar."
   ]
  },
  {
   "cell_type": "markdown",
   "metadata": {},
   "source": [
    "### 4. Group's conversation rate"
   ]
  },
  {
   "cell_type": "code",
   "execution_count": 41,
   "metadata": {},
   "outputs": [
    {
     "data": {
      "text/plain": [
       "(     transactionId   visitorId       date  revenue group  cumulative_revenue  \\\n",
       " 168     2065527789  1581167209 2019-08-01     30.4     A                30.4   \n",
       " 73      1295850747  2947100995 2019-08-01    455.8     A               486.2   \n",
       " 72       477940151  1422773200 2019-08-01     15.8     A               502.0   \n",
       " 71      3679129301     8300375 2019-08-01    165.7     B               165.7   \n",
       " 70      3574407166  2328378067 2019-08-01    140.4     B               306.1   \n",
       " \n",
       "      cumulative_orders  cumulative_avg_order_size  \n",
       " 168                  1                  30.400000  \n",
       " 73                   2                 243.100000  \n",
       " 72                   3                 167.333333  \n",
       " 71                   1                 165.700000  \n",
       " 70                   2                 153.050000  ,\n",
       "          date group  visits\n",
       " 0  2019-08-01     A     719\n",
       " 1  2019-08-02     A     619\n",
       " 2  2019-08-03     A     507\n",
       " 3  2019-08-04     A     717\n",
       " 4  2019-08-05     A     756)"
      ]
     },
     "execution_count": 41,
     "metadata": {},
     "output_type": "execute_result"
    }
   ],
   "source": [
    "#Check for correct data types \n",
    "orders['group'] = orders['group'].astype('category')\n",
    "visits['group'] = visits['group'].astype('category')\n",
    "orders.head(), visits.head()"
   ]
  },
  {
   "cell_type": "code",
   "execution_count": 42,
   "metadata": {},
   "outputs": [],
   "source": [
    "#Convert the 'date' column to datetime\n",
    "orders['date'] = pd.to_datetime(orders['date'])\n",
    "visits['date'] = pd.to_datetime(visits['date'])"
   ]
  },
  {
   "cell_type": "code",
   "execution_count": 43,
   "metadata": {},
   "outputs": [],
   "source": [
    "#Calculate the daily number of orders for each group\n",
    "daily_orders = orders.groupby(['date', 'group']).size().reset_index(name='daily_orders')"
   ]
  },
  {
   "cell_type": "code",
   "execution_count": 44,
   "metadata": {},
   "outputs": [],
   "source": [
    "#Merge daily orders with visits data\n",
    "merged = pd.merge(daily_orders, visits, on=['date', 'group'])"
   ]
  },
  {
   "cell_type": "code",
   "execution_count": 45,
   "metadata": {},
   "outputs": [],
   "source": [
    "#Calculate conversation rate\n",
    "merged['conversion_rate'] = merged['daily_orders'] / merged['visits']"
   ]
  },
  {
   "cell_type": "code",
   "execution_count": 46,
   "metadata": {},
   "outputs": [],
   "source": [
    "#Pibot the daily conversation rates by group\n",
    "conversion_rate_df = merged.pivot_table(index='date', columns='group', values='conversion_rate')"
   ]
  },
  {
   "cell_type": "code",
   "execution_count": 47,
   "metadata": {},
   "outputs": [
    {
     "data": {
      "image/png": "[encoded data removed]",
      "text/plain": [
       "<Figure size 1200x600 with 1 Axes>"
      ]
     },
     "metadata": {},
     "output_type": "display_data"
    }
   ],
   "source": [
    "#Plot the daily conversation rate for group A\n",
    "plt.figure(figsize=(12, 6))\n",
    "plt.plot(conversion_rate_df.index, conversion_rate_df['A'], label='Group A')\n",
    "plt.xlabel('Date')\n",
    "plt.ylabel('Daily Conversion Rate')\n",
    "plt.title('Daily Conversion Rate for Group A')\n",
    "plt.legend()\n",
    "plt.grid(True)\n",
    "plt.show()"
   ]
  },
  {
   "cell_type": "code",
   "execution_count": 48,
   "metadata": {},
   "outputs": [
    {
     "data": {
      "image/png": "[encoded data removed]",
      "text/plain": [
       "<Figure size 1200x600 with 1 Axes>"
      ]
     },
     "metadata": {},
     "output_type": "display_data"
    }
   ],
   "source": [
    "#Plot the daily conversation rate for group B\n",
    "plt.figure(figsize=(12, 6))\n",
    "plt.plot(conversion_rate_df.index, conversion_rate_df['B'], label='Group B', color='orange')\n",
    "plt.xlabel('Date')\n",
    "plt.ylabel('Daily Conversion Rate')\n",
    "plt.title('Daily Conversion Rate for Group B')\n",
    "plt.legend()\n",
    "plt.grid(True)\n",
    "plt.show()"
   ]
  },
  {
   "cell_type": "markdown",
   "metadata": {},
   "source": [
    "Both Group's exhibit significant fluctuations in daily conversation rates throughout the period. There are several peaks and troughs indicating variability in daily conversion performance. If we look at it day to day, no group consistently ourperforms the other during the period of time. They both have days in which they perform better or worse compare to the other group. Overlapping and divergence happens a lot during the time, there are days in which both groups are very close to each other, and other days when they diverge signicantly."
   ]
  },
  {
   "cell_type": "markdown",
   "metadata": {},
   "source": [
    "### 5. Number of orders per user"
   ]
  },
  {
   "cell_type": "code",
   "execution_count": 49,
   "metadata": {},
   "outputs": [],
   "source": [
    "#Calculate the number of order per user\n",
    "orders_per_user = orders.groupby('visitorId').size().reset_index(name='number_of_orders')"
   ]
  },
  {
   "cell_type": "code",
   "execution_count": 50,
   "metadata": {},
   "outputs": [
    {
     "data": {
      "image/png": "[encoded data removed]",
      "text/plain": [
       "<Figure size 1200x600 with 1 Axes>"
      ]
     },
     "metadata": {},
     "output_type": "display_data"
    }
   ],
   "source": [
    "#Plot the scatter chart\n",
    "plt.figure(figsize=(12, 6))\n",
    "plt.scatter(orders_per_user['visitorId'], orders_per_user['number_of_orders'])\n",
    "plt.xlabel('User ID')\n",
    "plt.ylabel('Number of Orders')\n",
    "plt.title('Number of Orders per User')\n",
    "plt.grid(True)\n",
    "plt.show()"
   ]
  },
  {
   "cell_type": "markdown",
   "metadata": {},
   "source": [
    "It seems like majority of users have placed one or two orders. There are a few outliers with significantly higher number of orders. These represent those who have place over 11 orders. There is also a spread of users who have placed 3-6 orders, showing a moderate level of engagement. We have a high proportion of one time buyers."
   ]
  },
  {
   "cell_type": "markdown",
   "metadata": {},
   "source": [
    "### 6. The percentiles for number of order per user"
   ]
  },
  {
   "cell_type": "code",
   "execution_count": 51,
   "metadata": {},
   "outputs": [],
   "source": [
    "#Calculate the number of orders per user\n",
    "orders_per_user = orders.groupby('visitorId').size().reset_index(name='number_of_orders')"
   ]
  },
  {
   "cell_type": "code",
   "execution_count": 52,
   "metadata": {},
   "outputs": [],
   "source": [
    "#Calculate the 95th and 99th percentiles for the number of orders per user\n",
    "percentile_95 = orders_per_user['number_of_orders'].quantile(0.95)\n",
    "percentile_99 = orders_per_user['number_of_orders'].quantile(0.99)"
   ]
  },
  {
   "cell_type": "code",
   "execution_count": 53,
   "metadata": {},
   "outputs": [],
   "source": [
    "#Define the anomaly threshold based on the 99th percentiles\n",
    "anomaly_threshold = percentile_99"
   ]
  },
  {
   "cell_type": "code",
   "execution_count": 54,
   "metadata": {},
   "outputs": [
    {
     "name": "stdout",
     "output_type": "stream",
     "text": [
      "95th Percentile: 2.0\n",
      "99th Percentile: 4.0\n",
      "Anomaly Threshold (99th Percentile): 4.0\n"
     ]
    }
   ],
   "source": [
    "#Print the percentiles and anomaly threshold\n",
    "print(\"95th Percentile:\", percentile_95)\n",
    "print(\"99th Percentile:\", percentile_99)\n",
    "print(\"Anomaly Threshold (99th Percentile):\", anomaly_threshold)"
   ]
  },
  {
   "cell_type": "markdown",
   "metadata": {},
   "source": [
    "The point at which a data point becomes an anomaly is once it passes the Anomaly Threshold which is 4.0"
   ]
  },
  {
   "cell_type": "markdown",
   "metadata": {},
   "source": [
    "### 7. Scatter plot of order prices"
   ]
  },
  {
   "cell_type": "code",
   "execution_count": 55,
   "metadata": {},
   "outputs": [],
   "source": [
    "#Remove orders with the price over 19,000\n",
    "orders = orders[orders['revenue'] < 19000]"
   ]
  },
  {
   "cell_type": "code",
   "execution_count": 56,
   "metadata": {},
   "outputs": [
    {
     "data": {
      "image/png": "[encoded data removed]",
      "text/plain": [
       "<Figure size 1200x600 with 1 Axes>"
      ]
     },
     "metadata": {},
     "output_type": "display_data"
    }
   ],
   "source": [
    "#Plot the scatter chart of order price\n",
    "plt.figure(figsize=(12, 6))\n",
    "plt.scatter(orders['transactionId'], orders['revenue'])\n",
    "plt.xlabel('Transaction ID')\n",
    "plt.ylabel('Order Price')\n",
    "plt.title('Scatter Chart of Order Prices (Outlier Removed)')\n",
    "plt.grid(True)\n",
    "plt.show()"
   ]
  },
  {
   "cell_type": "markdown",
   "metadata": {},
   "source": [
    "Most of the orders seem to b earound the value of 200 to 300 with some going up to 1000 and more. One order with more than 19,000.00 which was remove for better visualization of the scatter plot."
   ]
  },
  {
   "cell_type": "markdown",
   "metadata": {},
   "source": [
    "### 8. Calculate the 95th and 99th percentiles of order prices."
   ]
  },
  {
   "cell_type": "code",
   "execution_count": 57,
   "metadata": {},
   "outputs": [],
   "source": [
    "#Calculate the 95th and 99th percentiles for order prices\n",
    "percentile_95 = orders['revenue'].quantile(0.95)\n",
    "percentile_99 = orders['revenue'].quantile(0.99)"
   ]
  },
  {
   "cell_type": "code",
   "execution_count": 58,
   "metadata": {},
   "outputs": [],
   "source": [
    "#Define the anomaly threshold based on the 99th percentile\n",
    "anomaly_threshold = percentile_99"
   ]
  },
  {
   "cell_type": "code",
   "execution_count": 59,
   "metadata": {},
   "outputs": [
    {
     "name": "stdout",
     "output_type": "stream",
     "text": [
      "95th Percentile: 428.29999999999995\n",
      "99th Percentile: 900.7\n",
      "Anomaly Threshold (99th Percentile): 900.7\n"
     ]
    }
   ],
   "source": [
    "#Display the percentiles and anomaly threshold\n",
    "print(\"95th Percentile:\", percentile_95)\n",
    "print(\"99th Percentile:\", percentile_99)\n",
    "print(\"Anomaly Threshold (99th Percentile):\", anomaly_threshold)"
   ]
  },
  {
   "cell_type": "markdown",
   "metadata": {},
   "source": [
    "The anomaly happens once the price passes the point of 900.7 which is the 99th percentile."
   ]
  },
  {
   "cell_type": "markdown",
   "metadata": {},
   "source": [
    "### 9. Statistical significance of the difference in conversion between the groups using the raw data"
   ]
  },
  {
   "cell_type": "code",
   "execution_count": 60,
   "metadata": {},
   "outputs": [],
   "source": [
    "#Calculate the number of orders for each group\n",
    "orders_count = orders.groupby('group')['transactionId'].nunique().reset_index()\n",
    "orders_count.columns = ['group', 'orders']"
   ]
  },
  {
   "cell_type": "code",
   "execution_count": 61,
   "metadata": {},
   "outputs": [],
   "source": [
    "#Calculate the number of visits for each group\n",
    "visits_count = visits.groupby('group')['visits'].sum().reset_index()"
   ]
  },
  {
   "cell_type": "code",
   "execution_count": 62,
   "metadata": {},
   "outputs": [
    {
     "name": "stdout",
     "output_type": "stream",
     "text": [
      "Contingency Table:\n",
      "  group  orders  visits\n",
      "0     A     557   18736\n",
      "1     B     639   18916\n"
     ]
    }
   ],
   "source": [
    "#Merge the counts to create the contigency table\n",
    "contingency_table = pd.merge(orders_count, visits_count, on='group')\n",
    "contingency_table.columns = ['group', 'orders', 'visits']\n",
    "\n",
    "print(\"Contingency Table:\")\n",
    "print(contingency_table)"
   ]
  },
  {
   "cell_type": "code",
   "execution_count": 63,
   "metadata": {},
   "outputs": [
    {
     "name": "stdout",
     "output_type": "stream",
     "text": [
      "Contingency Matrix:\n",
      "[[557, 18179], [639, 18277]]\n"
     ]
    }
   ],
   "source": [
    "#Create the contingency table for the chi-square test\n",
    "contingency_matrix = [\n",
    "    [contingency_table.loc[contingency_table['group'] == 'A', 'orders'].values[0],\n",
    "     contingency_table.loc[contingency_table['group'] == 'A', 'visits'].values[0] - contingency_table.loc[contingency_table['group'] == 'A', 'orders'].values[0]],\n",
    "    [contingency_table.loc[contingency_table['group'] == 'B', 'orders'].values[0],\n",
    "     contingency_table.loc[contingency_table['group'] == 'B', 'visits'].values[0] - contingency_table.loc[contingency_table['group'] == 'B', 'orders'].values[0]]\n",
    "]\n",
    "\n",
    "print(\"Contingency Matrix:\")\n",
    "print(contingency_matrix)"
   ]
  },
  {
   "cell_type": "code",
   "execution_count": 64,
   "metadata": {},
   "outputs": [
    {
     "name": "stdout",
     "output_type": "stream",
     "text": [
      "Chi-square test statistic: 4.894230384476381\n",
      "P-value: 0.026946581487526742\n"
     ]
    }
   ],
   "source": [
    "#Test the chi-square test\n",
    "chi2, p, dof, expected = chi2_contingency(contingency_matrix)\n",
    "\n",
    "print(f\"Chi-square test statistic: {chi2}\")\n",
    "print(f\"P-value: {p}\")"
   ]
  },
  {
   "cell_type": "markdown",
   "metadata": {},
   "source": [
    "With the results of the P-value and Chi-square, since the p-value is less than 0.05, we decide to reject the null hypothesis. The chi-square test statistic is 4.832. There is a clear significant difference between one and the other. If Group B has a higher conversion rate than Group A, it could indicate that the strategies applied to Group B are more effective."
   ]
  },
  {
   "cell_type": "markdown",
   "metadata": {},
   "source": [
    "### 10. Statistical significance of the difference in average order size between the groups using the raw data."
   ]
  },
  {
   "cell_type": "code",
   "execution_count": 65,
   "metadata": {},
   "outputs": [
    {
     "name": "stdout",
     "output_type": "stream",
     "text": [
      "Average Order Size:\n",
      "  group  average_order_size\n",
      "0     A          115.897487\n",
      "1     B          114.116119\n"
     ]
    }
   ],
   "source": [
    "#Calculate the average order size for each group\n",
    "average_order_size = orders.groupby('group')['revenue'].mean().reset_index()\n",
    "average_order_size.columns = ['group', 'average_order_size']\n",
    "\n",
    "print(\"Average Order Size:\")\n",
    "print(average_order_size)"
   ]
  },
  {
   "cell_type": "code",
   "execution_count": 66,
   "metadata": {},
   "outputs": [],
   "source": [
    "#Extract the order sizes for each group\n",
    "group_a_orders = orders[orders['group'] == 'A']['revenue']\n",
    "group_b_orders = orders[orders['group'] == 'B']['revenue']"
   ]
  },
  {
   "cell_type": "code",
   "execution_count": 67,
   "metadata": {},
   "outputs": [
    {
     "name": "stdout",
     "output_type": "stream",
     "text": [
      "T-test statistic: 0.16281164884946742\n",
      "P-value: 0.870694407195896\n"
     ]
    }
   ],
   "source": [
    "#Perform a two-sample test\n",
    "t_stat, p_value = ttest_ind(group_a_orders, group_b_orders, equal_var=False)\n",
    "\n",
    "print(f\"T-test statistic: {t_stat}\")\n",
    "print(f\"P-value: {p_value}\")"
   ]
  },
  {
   "cell_type": "markdown",
   "metadata": {},
   "source": [
    "The p-value is 0.871, which is significantly higher than the common significance level of 0.05. Since the p-value is much greater than 0.05, we fail to reject the null hypothesis. The t-test statistic of 0.163 indicates that the difference is very small relative to the variability in the data."
   ]
  },
  {
   "cell_type": "markdown",
   "metadata": {},
   "source": [
    "### 11. Statistical significance of the difference in conversion between the groups using the filtered data."
   ]
  },
  {
   "cell_type": "code",
   "execution_count": 68,
   "metadata": {},
   "outputs": [],
   "source": [
    "#Filter out any orders with a revenue of 19,000\n",
    "orders_df_filtered = orders[orders['revenue'] != 19000]"
   ]
  },
  {
   "cell_type": "code",
   "execution_count": 69,
   "metadata": {},
   "outputs": [],
   "source": [
    "#Calculate the number of orders for each group\n",
    "orders_count_filtered = orders_df_filtered.groupby('group')['transactionId'].nunique().reset_index()\n",
    "orders_count_filtered.columns = ['group', 'orders']"
   ]
  },
  {
   "cell_type": "code",
   "execution_count": 70,
   "metadata": {},
   "outputs": [],
   "source": [
    "#Calculate the number of visits for each group\n",
    "visits_count = visits.groupby('group')['visits'].sum().reset_index()"
   ]
  },
  {
   "cell_type": "code",
   "execution_count": 71,
   "metadata": {},
   "outputs": [
    {
     "name": "stdout",
     "output_type": "stream",
     "text": [
      "Contingency Table (Filtered Data):\n",
      "  group  orders  visits\n",
      "0     A     557   18736\n",
      "1     B     639   18916\n"
     ]
    }
   ],
   "source": [
    "#Merge the counts to create the contigency table\n",
    "contingency_table_filtered = pd.merge(orders_count_filtered, visits_count, on='group')\n",
    "contingency_table_filtered.columns = ['group', 'orders', 'visits']\n",
    "\n",
    "print(\"Contingency Table (Filtered Data):\")\n",
    "print(contingency_table_filtered)\n"
   ]
  },
  {
   "cell_type": "code",
   "execution_count": 72,
   "metadata": {},
   "outputs": [
    {
     "name": "stdout",
     "output_type": "stream",
     "text": [
      "Contingency Matrix (Filtered Data):\n",
      "[[557, 18179], [639, 18277]]\n"
     ]
    }
   ],
   "source": [
    "#Create the contingency table for the chi-square table\n",
    "contingency_matrix_filtered = [\n",
    "    [contingency_table_filtered.loc[contingency_table_filtered['group'] == 'A', 'orders'].values[0],\n",
    "     contingency_table_filtered.loc[contingency_table_filtered['group'] == 'A', 'visits'].values[0] - contingency_table_filtered.loc[contingency_table_filtered['group'] == 'A', 'orders'].values[0]],\n",
    "    [contingency_table_filtered.loc[contingency_table_filtered['group'] == 'B', 'orders'].values[0],\n",
    "     contingency_table_filtered.loc[contingency_table_filtered['group'] == 'B', 'visits'].values[0] - contingency_table_filtered.loc[contingency_table_filtered['group'] == 'B', 'orders'].values[0]]\n",
    "]\n",
    "\n",
    "print(\"Contingency Matrix (Filtered Data):\")\n",
    "print(contingency_matrix_filtered)\n"
   ]
  },
  {
   "cell_type": "code",
   "execution_count": 73,
   "metadata": {},
   "outputs": [
    {
     "name": "stdout",
     "output_type": "stream",
     "text": [
      "Chi-square test statistic: 4.894230384476381\n",
      "P-value: 0.026946581487526742\n"
     ]
    }
   ],
   "source": [
    "#Perform the chi-square test\n",
    "chi2_filtered, p_filtered, dof_filtered, expected_filtered = chi2_contingency(contingency_matrix_filtered)\n",
    "\n",
    "print(f\"Chi-square test statistic: {chi2_filtered}\")\n",
    "print(f\"P-value: {p_filtered}\")"
   ]
  },
  {
   "cell_type": "markdown",
   "metadata": {},
   "source": [
    "The p-value is less than 0.05, which mean we reject the null hypothesis as well with the filtered data."
   ]
  },
  {
   "cell_type": "markdown",
   "metadata": {},
   "source": [
    "### 12. Statistical significance of the difference in average order size between the groups using the filtered data. "
   ]
  },
  {
   "cell_type": "code",
   "execution_count": 74,
   "metadata": {},
   "outputs": [],
   "source": [
    "#Filter out any orders with a revenue of 19,000\n",
    "orders_df_filtered = orders[orders['revenue'] != 19000]"
   ]
  },
  {
   "cell_type": "code",
   "execution_count": 75,
   "metadata": {},
   "outputs": [
    {
     "name": "stdout",
     "output_type": "stream",
     "text": [
      "Average Order Size (Filtered Data):\n",
      "  group  average_order_size\n",
      "0     A          115.897487\n",
      "1     B          114.116119\n"
     ]
    }
   ],
   "source": [
    "#Calculate the average order size for each group\n",
    "average_order_size_filtered = orders_df_filtered.groupby('group')['revenue'].mean().reset_index()\n",
    "average_order_size_filtered.columns = ['group', 'average_order_size']\n",
    "\n",
    "print(\"Average Order Size (Filtered Data):\")\n",
    "print(average_order_size_filtered)"
   ]
  },
  {
   "cell_type": "code",
   "execution_count": 76,
   "metadata": {},
   "outputs": [],
   "source": [
    "#Extract the order sizes for each group\n",
    "group_a_orders_filtered = orders_df_filtered[orders_df_filtered['group'] == 'A']['revenue']\n",
    "group_b_orders_filtered = orders_df_filtered[orders_df_filtered['group'] == 'B']['revenue']"
   ]
  },
  {
   "cell_type": "code",
   "execution_count": 77,
   "metadata": {},
   "outputs": [
    {
     "name": "stdout",
     "output_type": "stream",
     "text": [
      "T-test statistic: 0.16281164884946742\n",
      "P-value: 0.870694407195896\n"
     ]
    }
   ],
   "source": [
    "#Perform a two-sample t-test\n",
    "t_stat_filtered, p_value_filtered = ttest_ind(group_a_orders_filtered, group_b_orders_filtered, equal_var=False)\n",
    "\n",
    "print(f\"T-test statistic: {t_stat_filtered}\")\n",
    "print(f\"P-value: {p_value_filtered}\")"
   ]
  },
  {
   "cell_type": "markdown",
   "metadata": {},
   "source": [
    "The value again is higher than 0.05. Since the p-value is much greather than 0.05, we fail to reject the hypothesis. The t-test statistic of 0.163 indicates that the difference is very small relative to the variability in the data."
   ]
  },
  {
   "cell_type": "markdown",
   "metadata": {},
   "source": [
    "# Final analysis"
   ]
  },
  {
   "cell_type": "markdown",
   "metadata": {},
   "source": [
    "After all the testing we conducted, we will go with option 2, which is to conclude the testing and there is no major difference between the groups. After checking the raw and filtered data, there is not much of a difference between Group A and Group B. If possible it would be better to try a different hypotheses from the ones provided to see if other results are possible althought this might be more money for the company to spend if profit is not made from this. "
   ]
  }
 ],
 "metadata": {
  "ExecuteTimeLog": [
   {
    "duration": 5008,
    "start_time": "2024-06-22T04:31:43.949Z"
   },
   {
    "duration": 4,
    "start_time": "2024-06-22T04:31:48.961Z"
   },
   {
    "duration": 13,
    "start_time": "2024-06-22T04:31:48.968Z"
   },
   {
    "duration": 11,
    "start_time": "2024-06-22T04:31:48.983Z"
   },
   {
    "duration": 19,
    "start_time": "2024-06-22T04:31:49.026Z"
   },
   {
    "duration": 15,
    "start_time": "2024-06-22T04:31:49.047Z"
   },
   {
    "duration": 16,
    "start_time": "2024-06-22T04:31:49.065Z"
   },
   {
    "duration": 9,
    "start_time": "2024-06-22T04:31:49.084Z"
   },
   {
    "duration": 44,
    "start_time": "2024-06-22T04:31:49.096Z"
   },
   {
    "duration": 11,
    "start_time": "2024-06-22T04:31:49.143Z"
   },
   {
    "duration": 8,
    "start_time": "2024-06-22T04:31:49.156Z"
   },
   {
    "duration": 10,
    "start_time": "2024-06-22T04:31:49.167Z"
   },
   {
    "duration": 7,
    "start_time": "2024-06-22T04:31:49.179Z"
   },
   {
    "duration": 30,
    "start_time": "2024-06-22T04:31:49.194Z"
   },
   {
    "duration": 5,
    "start_time": "2024-06-22T04:31:49.226Z"
   },
   {
    "duration": 10,
    "start_time": "2024-06-22T04:31:49.234Z"
   },
   {
    "duration": 7,
    "start_time": "2024-06-22T04:31:49.247Z"
   },
   {
    "duration": 18,
    "start_time": "2024-06-22T04:31:49.257Z"
   },
   {
    "duration": 46,
    "start_time": "2024-06-22T04:31:49.277Z"
   },
   {
    "duration": 7,
    "start_time": "2024-06-22T04:31:49.328Z"
   },
   {
    "duration": 17,
    "start_time": "2024-06-22T04:31:49.337Z"
   },
   {
    "duration": 11,
    "start_time": "2024-06-22T04:31:49.363Z"
   },
   {
    "duration": 11,
    "start_time": "2024-06-22T04:31:49.378Z"
   },
   {
    "duration": 32,
    "start_time": "2024-06-22T04:31:49.393Z"
   },
   {
    "duration": 5,
    "start_time": "2024-06-22T04:31:49.428Z"
   },
   {
    "duration": 17,
    "start_time": "2024-06-22T04:31:49.444Z"
   },
   {
    "duration": 8,
    "start_time": "2024-06-22T04:31:49.463Z"
   },
   {
    "duration": 12,
    "start_time": "2024-06-22T04:31:49.474Z"
   },
   {
    "duration": 36,
    "start_time": "2024-06-22T04:31:49.489Z"
   },
   {
    "duration": 6,
    "start_time": "2024-06-22T04:31:49.527Z"
   },
   {
    "duration": 13,
    "start_time": "2024-06-22T04:31:49.536Z"
   },
   {
    "duration": 26,
    "start_time": "2024-06-22T04:31:49.553Z"
   },
   {
    "duration": 380,
    "start_time": "2024-06-22T04:31:49.584Z"
   },
   {
    "duration": 6,
    "start_time": "2024-06-22T04:31:49.966Z"
   },
   {
    "duration": 9,
    "start_time": "2024-06-22T04:31:49.975Z"
   },
   {
    "duration": 39,
    "start_time": "2024-06-22T04:31:49.987Z"
   },
   {
    "duration": 23,
    "start_time": "2024-06-22T04:31:50.036Z"
   },
   {
    "duration": 321,
    "start_time": "2024-06-22T04:31:50.062Z"
   },
   {
    "duration": 6,
    "start_time": "2024-06-22T04:31:50.385Z"
   },
   {
    "duration": 30,
    "start_time": "2024-06-22T04:31:50.394Z"
   },
   {
    "duration": 12,
    "start_time": "2024-06-22T04:31:50.447Z"
   },
   {
    "duration": 24,
    "start_time": "2024-06-22T04:31:50.464Z"
   },
   {
    "duration": 2544,
    "start_time": "2024-06-22T04:31:50.491Z"
   },
   {
    "duration": 0,
    "start_time": "2024-06-22T04:31:53.047Z"
   },
   {
    "duration": 0,
    "start_time": "2024-06-22T04:31:53.048Z"
   },
   {
    "duration": 0,
    "start_time": "2024-06-22T04:31:53.055Z"
   },
   {
    "duration": 0,
    "start_time": "2024-06-22T04:31:53.057Z"
   },
   {
    "duration": 0,
    "start_time": "2024-06-22T04:31:53.061Z"
   },
   {
    "duration": 0,
    "start_time": "2024-06-22T04:31:53.063Z"
   },
   {
    "duration": 0,
    "start_time": "2024-06-22T04:31:53.066Z"
   },
   {
    "duration": 0,
    "start_time": "2024-06-22T04:31:53.069Z"
   },
   {
    "duration": 0,
    "start_time": "2024-06-22T04:31:53.071Z"
   },
   {
    "duration": 0,
    "start_time": "2024-06-22T04:31:53.074Z"
   },
   {
    "duration": 0,
    "start_time": "2024-06-22T04:31:53.077Z"
   },
   {
    "duration": 0,
    "start_time": "2024-06-22T04:31:53.080Z"
   },
   {
    "duration": 0,
    "start_time": "2024-06-22T04:31:53.082Z"
   },
   {
    "duration": 0,
    "start_time": "2024-06-22T04:31:53.084Z"
   },
   {
    "duration": 0,
    "start_time": "2024-06-22T04:31:53.085Z"
   },
   {
    "duration": 0,
    "start_time": "2024-06-22T04:31:53.087Z"
   },
   {
    "duration": 0,
    "start_time": "2024-06-22T04:31:53.088Z"
   },
   {
    "duration": 0,
    "start_time": "2024-06-22T04:31:53.089Z"
   },
   {
    "duration": 0,
    "start_time": "2024-06-22T04:31:53.126Z"
   },
   {
    "duration": 0,
    "start_time": "2024-06-22T04:31:53.130Z"
   },
   {
    "duration": 0,
    "start_time": "2024-06-22T04:31:53.132Z"
   },
   {
    "duration": 0,
    "start_time": "2024-06-22T04:31:53.133Z"
   },
   {
    "duration": 0,
    "start_time": "2024-06-22T04:31:53.135Z"
   },
   {
    "duration": 0,
    "start_time": "2024-06-22T04:31:53.136Z"
   },
   {
    "duration": 0,
    "start_time": "2024-06-22T04:31:53.138Z"
   },
   {
    "duration": 0,
    "start_time": "2024-06-22T04:31:53.140Z"
   },
   {
    "duration": 0,
    "start_time": "2024-06-22T04:31:53.141Z"
   },
   {
    "duration": 0,
    "start_time": "2024-06-22T04:31:53.143Z"
   },
   {
    "duration": 0,
    "start_time": "2024-06-22T04:31:53.144Z"
   },
   {
    "duration": 0,
    "start_time": "2024-06-22T04:31:53.146Z"
   },
   {
    "duration": 0,
    "start_time": "2024-06-22T04:31:53.147Z"
   },
   {
    "duration": 0,
    "start_time": "2024-06-22T04:31:53.149Z"
   },
   {
    "duration": 0,
    "start_time": "2024-06-22T04:31:53.150Z"
   },
   {
    "duration": 0,
    "start_time": "2024-06-22T04:31:53.151Z"
   },
   {
    "duration": 0,
    "start_time": "2024-06-22T04:31:53.153Z"
   },
   {
    "duration": 0,
    "start_time": "2024-06-22T04:31:53.154Z"
   },
   {
    "duration": 0,
    "start_time": "2024-06-22T04:31:53.156Z"
   },
   {
    "duration": 5,
    "start_time": "2024-06-22T04:41:45.547Z"
   },
   {
    "duration": 4884,
    "start_time": "2024-06-22T04:51:40.317Z"
   },
   {
    "duration": 3,
    "start_time": "2024-06-22T04:51:45.207Z"
   },
   {
    "duration": 10,
    "start_time": "2024-06-22T04:51:45.214Z"
   },
   {
    "duration": 8,
    "start_time": "2024-06-22T04:51:45.227Z"
   },
   {
    "duration": 14,
    "start_time": "2024-06-22T04:51:45.242Z"
   },
   {
    "duration": 55,
    "start_time": "2024-06-22T04:51:45.259Z"
   },
   {
    "duration": 11,
    "start_time": "2024-06-22T04:51:45.316Z"
   },
   {
    "duration": 7,
    "start_time": "2024-06-22T04:51:45.330Z"
   },
   {
    "duration": 15,
    "start_time": "2024-06-22T04:51:45.340Z"
   },
   {
    "duration": 49,
    "start_time": "2024-06-22T04:51:45.358Z"
   },
   {
    "duration": 7,
    "start_time": "2024-06-22T04:51:45.411Z"
   },
   {
    "duration": 9,
    "start_time": "2024-06-22T04:51:45.421Z"
   },
   {
    "duration": 7,
    "start_time": "2024-06-22T04:51:45.432Z"
   },
   {
    "duration": 7,
    "start_time": "2024-06-22T04:51:45.447Z"
   },
   {
    "duration": 53,
    "start_time": "2024-06-22T04:51:45.456Z"
   },
   {
    "duration": 12,
    "start_time": "2024-06-22T04:51:45.512Z"
   },
   {
    "duration": 8,
    "start_time": "2024-06-22T04:51:45.527Z"
   },
   {
    "duration": 13,
    "start_time": "2024-06-22T04:51:45.539Z"
   },
   {
    "duration": 55,
    "start_time": "2024-06-22T04:51:45.556Z"
   },
   {
    "duration": 8,
    "start_time": "2024-06-22T04:51:45.614Z"
   },
   {
    "duration": 8,
    "start_time": "2024-06-22T04:51:45.625Z"
   },
   {
    "duration": 7,
    "start_time": "2024-06-22T04:51:45.637Z"
   },
   {
    "duration": 10,
    "start_time": "2024-06-22T04:51:45.647Z"
   },
   {
    "duration": 8,
    "start_time": "2024-06-22T04:51:45.708Z"
   },
   {
    "duration": 6,
    "start_time": "2024-06-22T04:51:45.719Z"
   },
   {
    "duration": 15,
    "start_time": "2024-06-22T04:51:45.729Z"
   },
   {
    "duration": 8,
    "start_time": "2024-06-22T04:51:45.748Z"
   },
   {
    "duration": 53,
    "start_time": "2024-06-22T04:51:45.760Z"
   },
   {
    "duration": 7,
    "start_time": "2024-06-22T04:51:45.816Z"
   },
   {
    "duration": 7,
    "start_time": "2024-06-22T04:51:45.826Z"
   },
   {
    "duration": 7,
    "start_time": "2024-06-22T04:51:45.836Z"
   },
   {
    "duration": 61,
    "start_time": "2024-06-22T04:51:45.845Z"
   },
   {
    "duration": 320,
    "start_time": "2024-06-22T04:51:45.909Z"
   },
   {
    "duration": 6,
    "start_time": "2024-06-22T04:51:46.232Z"
   },
   {
    "duration": 7,
    "start_time": "2024-06-22T04:51:46.242Z"
   },
   {
    "duration": 5,
    "start_time": "2024-06-22T04:51:46.253Z"
   },
   {
    "duration": 54,
    "start_time": "2024-06-22T04:51:46.262Z"
   },
   {
    "duration": 330,
    "start_time": "2024-06-22T04:51:46.319Z"
   },
   {
    "duration": 6,
    "start_time": "2024-06-22T04:51:46.652Z"
   },
   {
    "duration": 7,
    "start_time": "2024-06-22T04:51:46.662Z"
   },
   {
    "duration": 4,
    "start_time": "2024-06-22T04:51:46.706Z"
   },
   {
    "duration": 20,
    "start_time": "2024-06-22T04:51:46.714Z"
   },
   {
    "duration": 2585,
    "start_time": "2024-06-22T04:51:46.737Z"
   },
   {
    "duration": 0,
    "start_time": "2024-06-22T04:51:49.325Z"
   },
   {
    "duration": 0,
    "start_time": "2024-06-22T04:51:49.326Z"
   },
   {
    "duration": 0,
    "start_time": "2024-06-22T04:51:49.329Z"
   },
   {
    "duration": 0,
    "start_time": "2024-06-22T04:51:49.331Z"
   },
   {
    "duration": 0,
    "start_time": "2024-06-22T04:51:49.332Z"
   },
   {
    "duration": 0,
    "start_time": "2024-06-22T04:51:49.334Z"
   },
   {
    "duration": 0,
    "start_time": "2024-06-22T04:51:49.336Z"
   },
   {
    "duration": 0,
    "start_time": "2024-06-22T04:51:49.337Z"
   },
   {
    "duration": 0,
    "start_time": "2024-06-22T04:51:49.339Z"
   },
   {
    "duration": 0,
    "start_time": "2024-06-22T04:51:49.340Z"
   },
   {
    "duration": 0,
    "start_time": "2024-06-22T04:51:49.342Z"
   },
   {
    "duration": 0,
    "start_time": "2024-06-22T04:51:49.344Z"
   },
   {
    "duration": 0,
    "start_time": "2024-06-22T04:51:49.346Z"
   },
   {
    "duration": 0,
    "start_time": "2024-06-22T04:51:49.348Z"
   },
   {
    "duration": 0,
    "start_time": "2024-06-22T04:51:49.351Z"
   },
   {
    "duration": 0,
    "start_time": "2024-06-22T04:51:49.353Z"
   },
   {
    "duration": 0,
    "start_time": "2024-06-22T04:51:49.356Z"
   },
   {
    "duration": 0,
    "start_time": "2024-06-22T04:51:49.358Z"
   },
   {
    "duration": 0,
    "start_time": "2024-06-22T04:51:49.360Z"
   },
   {
    "duration": 0,
    "start_time": "2024-06-22T04:51:49.407Z"
   },
   {
    "duration": 0,
    "start_time": "2024-06-22T04:51:49.409Z"
   },
   {
    "duration": 0,
    "start_time": "2024-06-22T04:51:49.412Z"
   },
   {
    "duration": 0,
    "start_time": "2024-06-22T04:51:49.414Z"
   },
   {
    "duration": 0,
    "start_time": "2024-06-22T04:51:49.416Z"
   },
   {
    "duration": 0,
    "start_time": "2024-06-22T04:51:49.419Z"
   },
   {
    "duration": 0,
    "start_time": "2024-06-22T04:51:49.420Z"
   },
   {
    "duration": 0,
    "start_time": "2024-06-22T04:51:49.422Z"
   },
   {
    "duration": 0,
    "start_time": "2024-06-22T04:51:49.424Z"
   },
   {
    "duration": 0,
    "start_time": "2024-06-22T04:51:49.426Z"
   },
   {
    "duration": 0,
    "start_time": "2024-06-22T04:51:49.428Z"
   },
   {
    "duration": 0,
    "start_time": "2024-06-22T04:51:49.431Z"
   },
   {
    "duration": 0,
    "start_time": "2024-06-22T04:51:49.433Z"
   },
   {
    "duration": 0,
    "start_time": "2024-06-22T04:51:49.435Z"
   },
   {
    "duration": 0,
    "start_time": "2024-06-22T04:51:49.437Z"
   },
   {
    "duration": 0,
    "start_time": "2024-06-22T04:51:49.439Z"
   },
   {
    "duration": 0,
    "start_time": "2024-06-22T04:51:49.441Z"
   },
   {
    "duration": 0,
    "start_time": "2024-06-22T04:51:49.443Z"
   },
   {
    "duration": 329,
    "start_time": "2024-06-22T13:59:22.829Z"
   },
   {
    "duration": 22,
    "start_time": "2024-06-22T13:59:27.798Z"
   },
   {
    "duration": 5008,
    "start_time": "2024-06-22T13:59:37.918Z"
   },
   {
    "duration": 5,
    "start_time": "2024-06-22T13:59:42.930Z"
   },
   {
    "duration": 13,
    "start_time": "2024-06-22T13:59:42.939Z"
   },
   {
    "duration": 10,
    "start_time": "2024-06-22T13:59:42.955Z"
   },
   {
    "duration": 56,
    "start_time": "2024-06-22T13:59:42.970Z"
   },
   {
    "duration": 12,
    "start_time": "2024-06-22T13:59:43.030Z"
   },
   {
    "duration": 23,
    "start_time": "2024-06-22T13:59:43.046Z"
   },
   {
    "duration": 7,
    "start_time": "2024-06-22T13:59:43.072Z"
   },
   {
    "duration": 31,
    "start_time": "2024-06-22T13:59:43.083Z"
   },
   {
    "duration": 10,
    "start_time": "2024-06-22T13:59:43.117Z"
   },
   {
    "duration": 9,
    "start_time": "2024-06-22T13:59:43.130Z"
   },
   {
    "duration": 13,
    "start_time": "2024-06-22T13:59:43.142Z"
   },
   {
    "duration": 7,
    "start_time": "2024-06-22T13:59:43.159Z"
   },
   {
    "duration": 3,
    "start_time": "2024-06-22T13:59:43.226Z"
   },
   {
    "duration": 4,
    "start_time": "2024-06-22T13:59:43.232Z"
   },
   {
    "duration": 8,
    "start_time": "2024-06-22T13:59:43.239Z"
   },
   {
    "duration": 9,
    "start_time": "2024-06-22T13:59:43.250Z"
   },
   {
    "duration": 481,
    "start_time": "2024-06-22T13:59:43.263Z"
   },
   {
    "duration": 0,
    "start_time": "2024-06-22T13:59:43.749Z"
   },
   {
    "duration": 0,
    "start_time": "2024-06-22T13:59:43.752Z"
   },
   {
    "duration": 0,
    "start_time": "2024-06-22T13:59:43.755Z"
   },
   {
    "duration": 0,
    "start_time": "2024-06-22T13:59:43.758Z"
   },
   {
    "duration": 0,
    "start_time": "2024-06-22T13:59:43.759Z"
   },
   {
    "duration": 0,
    "start_time": "2024-06-22T13:59:43.762Z"
   },
   {
    "duration": 0,
    "start_time": "2024-06-22T13:59:43.766Z"
   },
   {
    "duration": 0,
    "start_time": "2024-06-22T13:59:43.769Z"
   },
   {
    "duration": 0,
    "start_time": "2024-06-22T13:59:43.771Z"
   },
   {
    "duration": 0,
    "start_time": "2024-06-22T13:59:43.774Z"
   },
   {
    "duration": 0,
    "start_time": "2024-06-22T13:59:43.812Z"
   },
   {
    "duration": 0,
    "start_time": "2024-06-22T13:59:43.815Z"
   },
   {
    "duration": 0,
    "start_time": "2024-06-22T13:59:43.817Z"
   },
   {
    "duration": 0,
    "start_time": "2024-06-22T13:59:43.819Z"
   },
   {
    "duration": 1,
    "start_time": "2024-06-22T13:59:43.821Z"
   },
   {
    "duration": 0,
    "start_time": "2024-06-22T13:59:43.824Z"
   },
   {
    "duration": 0,
    "start_time": "2024-06-22T13:59:43.827Z"
   },
   {
    "duration": 1,
    "start_time": "2024-06-22T13:59:43.829Z"
   },
   {
    "duration": 0,
    "start_time": "2024-06-22T13:59:43.832Z"
   },
   {
    "duration": 0,
    "start_time": "2024-06-22T13:59:43.833Z"
   },
   {
    "duration": 0,
    "start_time": "2024-06-22T13:59:43.835Z"
   },
   {
    "duration": 0,
    "start_time": "2024-06-22T13:59:43.838Z"
   },
   {
    "duration": 0,
    "start_time": "2024-06-22T13:59:43.840Z"
   },
   {
    "duration": 0,
    "start_time": "2024-06-22T13:59:43.843Z"
   },
   {
    "duration": 0,
    "start_time": "2024-06-22T13:59:43.845Z"
   },
   {
    "duration": 0,
    "start_time": "2024-06-22T13:59:43.847Z"
   },
   {
    "duration": 0,
    "start_time": "2024-06-22T13:59:43.850Z"
   },
   {
    "duration": 0,
    "start_time": "2024-06-22T13:59:43.914Z"
   },
   {
    "duration": 0,
    "start_time": "2024-06-22T13:59:43.916Z"
   },
   {
    "duration": 0,
    "start_time": "2024-06-22T13:59:43.918Z"
   },
   {
    "duration": 0,
    "start_time": "2024-06-22T13:59:43.920Z"
   },
   {
    "duration": 0,
    "start_time": "2024-06-22T13:59:43.921Z"
   },
   {
    "duration": 0,
    "start_time": "2024-06-22T13:59:43.922Z"
   },
   {
    "duration": 0,
    "start_time": "2024-06-22T13:59:43.924Z"
   },
   {
    "duration": 0,
    "start_time": "2024-06-22T13:59:43.925Z"
   },
   {
    "duration": 0,
    "start_time": "2024-06-22T13:59:43.927Z"
   },
   {
    "duration": 0,
    "start_time": "2024-06-22T13:59:43.930Z"
   },
   {
    "duration": 0,
    "start_time": "2024-06-22T13:59:43.933Z"
   },
   {
    "duration": 0,
    "start_time": "2024-06-22T13:59:43.936Z"
   },
   {
    "duration": 0,
    "start_time": "2024-06-22T13:59:43.938Z"
   },
   {
    "duration": 0,
    "start_time": "2024-06-22T13:59:43.939Z"
   },
   {
    "duration": 0,
    "start_time": "2024-06-22T13:59:43.941Z"
   },
   {
    "duration": 0,
    "start_time": "2024-06-22T13:59:43.943Z"
   },
   {
    "duration": 0,
    "start_time": "2024-06-22T13:59:43.944Z"
   },
   {
    "duration": 0,
    "start_time": "2024-06-22T13:59:43.946Z"
   },
   {
    "duration": 0,
    "start_time": "2024-06-22T13:59:43.950Z"
   },
   {
    "duration": 0,
    "start_time": "2024-06-22T13:59:43.952Z"
   },
   {
    "duration": 0,
    "start_time": "2024-06-22T13:59:44.017Z"
   },
   {
    "duration": 0,
    "start_time": "2024-06-22T13:59:44.019Z"
   },
   {
    "duration": 0,
    "start_time": "2024-06-22T13:59:44.022Z"
   },
   {
    "duration": 0,
    "start_time": "2024-06-22T13:59:44.023Z"
   },
   {
    "duration": 0,
    "start_time": "2024-06-22T13:59:44.025Z"
   },
   {
    "duration": 0,
    "start_time": "2024-06-22T13:59:44.027Z"
   },
   {
    "duration": 0,
    "start_time": "2024-06-22T13:59:44.028Z"
   },
   {
    "duration": 0,
    "start_time": "2024-06-22T13:59:44.032Z"
   },
   {
    "duration": 0,
    "start_time": "2024-06-22T13:59:44.034Z"
   },
   {
    "duration": 0,
    "start_time": "2024-06-22T13:59:44.036Z"
   },
   {
    "duration": 0,
    "start_time": "2024-06-22T13:59:44.038Z"
   },
   {
    "duration": 0,
    "start_time": "2024-06-22T13:59:44.040Z"
   },
   {
    "duration": 0,
    "start_time": "2024-06-22T13:59:44.042Z"
   },
   {
    "duration": 0,
    "start_time": "2024-06-22T13:59:44.045Z"
   },
   {
    "duration": 0,
    "start_time": "2024-06-22T13:59:44.048Z"
   },
   {
    "duration": 0,
    "start_time": "2024-06-22T13:59:44.050Z"
   },
   {
    "duration": 0,
    "start_time": "2024-06-22T13:59:44.052Z"
   },
   {
    "duration": 5334,
    "start_time": "2024-06-24T13:44:23.169Z"
   },
   {
    "duration": 7,
    "start_time": "2024-06-24T13:44:28.507Z"
   },
   {
    "duration": 19,
    "start_time": "2024-06-24T13:44:28.524Z"
   },
   {
    "duration": 12,
    "start_time": "2024-06-24T13:44:28.548Z"
   },
   {
    "duration": 19,
    "start_time": "2024-06-24T13:44:28.564Z"
   },
   {
    "duration": 39,
    "start_time": "2024-06-24T13:44:28.587Z"
   },
   {
    "duration": 16,
    "start_time": "2024-06-24T13:44:28.629Z"
   },
   {
    "duration": 9,
    "start_time": "2024-06-24T13:44:28.649Z"
   },
   {
    "duration": 15,
    "start_time": "2024-06-24T13:44:28.661Z"
   },
   {
    "duration": 45,
    "start_time": "2024-06-24T13:44:28.684Z"
   },
   {
    "duration": 9,
    "start_time": "2024-06-24T13:44:28.732Z"
   },
   {
    "duration": 14,
    "start_time": "2024-06-24T13:44:28.744Z"
   },
   {
    "duration": 6,
    "start_time": "2024-06-24T13:44:28.761Z"
   },
   {
    "duration": 4,
    "start_time": "2024-06-24T13:44:28.771Z"
   },
   {
    "duration": 45,
    "start_time": "2024-06-24T13:44:28.778Z"
   },
   {
    "duration": 8,
    "start_time": "2024-06-24T13:44:28.826Z"
   },
   {
    "duration": 9,
    "start_time": "2024-06-24T13:44:28.836Z"
   },
   {
    "duration": 9,
    "start_time": "2024-06-24T13:44:28.850Z"
   },
   {
    "duration": 6,
    "start_time": "2024-06-24T13:44:28.862Z"
   },
   {
    "duration": 58,
    "start_time": "2024-06-24T13:44:28.871Z"
   },
   {
    "duration": 9,
    "start_time": "2024-06-24T13:44:28.932Z"
   },
   {
    "duration": 7,
    "start_time": "2024-06-24T13:44:28.944Z"
   },
   {
    "duration": 9,
    "start_time": "2024-06-24T13:44:28.954Z"
   },
   {
    "duration": 6,
    "start_time": "2024-06-24T13:44:28.965Z"
   },
   {
    "duration": 9,
    "start_time": "2024-06-24T13:44:29.024Z"
   },
   {
    "duration": 6,
    "start_time": "2024-06-24T13:44:29.036Z"
   },
   {
    "duration": 5,
    "start_time": "2024-06-24T13:44:29.045Z"
   },
   {
    "duration": 13,
    "start_time": "2024-06-24T13:44:29.061Z"
   },
   {
    "duration": 53,
    "start_time": "2024-06-24T13:44:29.077Z"
   },
   {
    "duration": 9,
    "start_time": "2024-06-24T13:44:29.133Z"
   },
   {
    "duration": 10,
    "start_time": "2024-06-24T13:44:29.145Z"
   },
   {
    "duration": 6,
    "start_time": "2024-06-24T13:44:29.158Z"
   },
   {
    "duration": 10,
    "start_time": "2024-06-24T13:44:29.167Z"
   },
   {
    "duration": 61,
    "start_time": "2024-06-24T13:44:29.180Z"
   },
   {
    "duration": 351,
    "start_time": "2024-06-24T13:44:29.244Z"
   },
   {
    "duration": 6,
    "start_time": "2024-06-24T13:44:29.598Z"
   },
   {
    "duration": 7,
    "start_time": "2024-06-24T13:44:29.622Z"
   },
   {
    "duration": 7,
    "start_time": "2024-06-24T13:44:29.632Z"
   },
   {
    "duration": 26,
    "start_time": "2024-06-24T13:44:29.642Z"
   },
   {
    "duration": 382,
    "start_time": "2024-06-24T13:44:29.672Z"
   },
   {
    "duration": 5,
    "start_time": "2024-06-24T13:44:30.057Z"
   },
   {
    "duration": 10,
    "start_time": "2024-06-24T13:44:30.065Z"
   },
   {
    "duration": 4,
    "start_time": "2024-06-24T13:44:30.081Z"
   },
   {
    "duration": 53,
    "start_time": "2024-06-24T13:44:30.088Z"
   },
   {
    "duration": 2636,
    "start_time": "2024-06-24T13:44:30.144Z"
   },
   {
    "duration": 0,
    "start_time": "2024-06-24T13:44:32.784Z"
   },
   {
    "duration": 0,
    "start_time": "2024-06-24T13:44:32.787Z"
   },
   {
    "duration": 0,
    "start_time": "2024-06-24T13:44:32.789Z"
   },
   {
    "duration": 0,
    "start_time": "2024-06-24T13:44:32.792Z"
   },
   {
    "duration": 0,
    "start_time": "2024-06-24T13:44:32.794Z"
   },
   {
    "duration": 0,
    "start_time": "2024-06-24T13:44:32.797Z"
   },
   {
    "duration": 0,
    "start_time": "2024-06-24T13:44:32.799Z"
   },
   {
    "duration": 0,
    "start_time": "2024-06-24T13:44:32.823Z"
   },
   {
    "duration": 1,
    "start_time": "2024-06-24T13:44:32.824Z"
   },
   {
    "duration": 0,
    "start_time": "2024-06-24T13:44:32.827Z"
   },
   {
    "duration": 0,
    "start_time": "2024-06-24T13:44:32.831Z"
   },
   {
    "duration": 0,
    "start_time": "2024-06-24T13:44:32.833Z"
   },
   {
    "duration": 0,
    "start_time": "2024-06-24T13:44:32.836Z"
   },
   {
    "duration": 0,
    "start_time": "2024-06-24T13:44:32.839Z"
   },
   {
    "duration": 0,
    "start_time": "2024-06-24T13:44:32.842Z"
   },
   {
    "duration": 0,
    "start_time": "2024-06-24T13:44:32.845Z"
   },
   {
    "duration": 0,
    "start_time": "2024-06-24T13:44:32.847Z"
   },
   {
    "duration": 0,
    "start_time": "2024-06-24T13:44:32.849Z"
   },
   {
    "duration": 0,
    "start_time": "2024-06-24T13:44:32.852Z"
   },
   {
    "duration": 0,
    "start_time": "2024-06-24T13:44:32.854Z"
   },
   {
    "duration": 0,
    "start_time": "2024-06-24T13:44:32.857Z"
   },
   {
    "duration": 0,
    "start_time": "2024-06-24T13:44:32.859Z"
   },
   {
    "duration": 0,
    "start_time": "2024-06-24T13:44:32.861Z"
   },
   {
    "duration": 0,
    "start_time": "2024-06-24T13:44:32.862Z"
   },
   {
    "duration": 0,
    "start_time": "2024-06-24T13:44:32.873Z"
   },
   {
    "duration": 0,
    "start_time": "2024-06-24T13:44:32.925Z"
   },
   {
    "duration": 0,
    "start_time": "2024-06-24T13:44:32.928Z"
   },
   {
    "duration": 0,
    "start_time": "2024-06-24T13:44:32.930Z"
   },
   {
    "duration": 0,
    "start_time": "2024-06-24T13:44:32.932Z"
   },
   {
    "duration": 0,
    "start_time": "2024-06-24T13:44:32.935Z"
   },
   {
    "duration": 0,
    "start_time": "2024-06-24T13:44:32.937Z"
   },
   {
    "duration": 0,
    "start_time": "2024-06-24T13:44:32.940Z"
   },
   {
    "duration": 0,
    "start_time": "2024-06-24T13:44:32.942Z"
   },
   {
    "duration": 0,
    "start_time": "2024-06-24T13:44:32.945Z"
   },
   {
    "duration": 0,
    "start_time": "2024-06-24T13:44:32.947Z"
   },
   {
    "duration": 0,
    "start_time": "2024-06-24T13:44:32.949Z"
   },
   {
    "duration": 0,
    "start_time": "2024-06-24T13:44:32.952Z"
   },
   {
    "duration": 28,
    "start_time": "2024-06-24T13:44:44.975Z"
   },
   {
    "duration": 14,
    "start_time": "2024-06-24T13:44:54.333Z"
   },
   {
    "duration": 136,
    "start_time": "2024-06-24T13:58:25.047Z"
   },
   {
    "duration": 4,
    "start_time": "2024-06-24T13:58:59.182Z"
   },
   {
    "duration": 5,
    "start_time": "2024-06-24T13:59:06.033Z"
   },
   {
    "duration": 9,
    "start_time": "2024-06-24T13:59:06.843Z"
   },
   {
    "duration": 5,
    "start_time": "2024-06-24T13:59:12.463Z"
   },
   {
    "duration": 5,
    "start_time": "2024-06-24T13:59:13.809Z"
   },
   {
    "duration": 13,
    "start_time": "2024-06-24T13:59:17.944Z"
   },
   {
    "duration": 7,
    "start_time": "2024-06-24T13:59:22.904Z"
   },
   {
    "duration": 1287,
    "start_time": "2024-06-24T14:00:04.377Z"
   },
   {
    "duration": 5,
    "start_time": "2024-06-24T14:00:05.667Z"
   },
   {
    "duration": 12,
    "start_time": "2024-06-24T14:00:05.677Z"
   },
   {
    "duration": 36,
    "start_time": "2024-06-24T14:00:05.693Z"
   },
   {
    "duration": 17,
    "start_time": "2024-06-24T14:00:05.734Z"
   },
   {
    "duration": 8,
    "start_time": "2024-06-24T14:00:05.754Z"
   },
   {
    "duration": 10,
    "start_time": "2024-06-24T14:00:05.765Z"
   },
   {
    "duration": 46,
    "start_time": "2024-06-24T14:00:05.778Z"
   },
   {
    "duration": 15,
    "start_time": "2024-06-24T14:00:05.827Z"
   },
   {
    "duration": 9,
    "start_time": "2024-06-24T14:00:05.844Z"
   },
   {
    "duration": 6,
    "start_time": "2024-06-24T14:00:05.857Z"
   },
   {
    "duration": 14,
    "start_time": "2024-06-24T14:00:05.866Z"
   },
   {
    "duration": 6,
    "start_time": "2024-06-24T14:00:05.922Z"
   },
   {
    "duration": 7,
    "start_time": "2024-06-24T14:00:05.936Z"
   },
   {
    "duration": 8,
    "start_time": "2024-06-24T14:00:05.946Z"
   },
   {
    "duration": 7,
    "start_time": "2024-06-24T14:00:05.957Z"
   },
   {
    "duration": 63,
    "start_time": "2024-06-24T14:00:05.967Z"
   },
   {
    "duration": 8,
    "start_time": "2024-06-24T14:00:06.033Z"
   },
   {
    "duration": 7,
    "start_time": "2024-06-24T14:00:06.044Z"
   },
   {
    "duration": 7,
    "start_time": "2024-06-24T14:00:06.056Z"
   },
   {
    "duration": 4,
    "start_time": "2024-06-24T14:00:06.066Z"
   },
   {
    "duration": 53,
    "start_time": "2024-06-24T14:00:06.072Z"
   },
   {
    "duration": 10,
    "start_time": "2024-06-24T14:00:06.128Z"
   },
   {
    "duration": 6,
    "start_time": "2024-06-24T14:00:06.141Z"
   },
   {
    "duration": 6,
    "start_time": "2024-06-24T14:00:06.150Z"
   },
   {
    "duration": 66,
    "start_time": "2024-06-24T14:00:06.160Z"
   },
   {
    "duration": 10,
    "start_time": "2024-06-24T14:00:06.232Z"
   },
   {
    "duration": 10,
    "start_time": "2024-06-24T14:00:06.245Z"
   },
   {
    "duration": 9,
    "start_time": "2024-06-24T14:00:06.258Z"
   },
   {
    "duration": 8,
    "start_time": "2024-06-24T14:00:06.270Z"
   },
   {
    "duration": 6,
    "start_time": "2024-06-24T14:00:06.324Z"
   },
   {
    "duration": 25,
    "start_time": "2024-06-24T14:00:06.333Z"
   },
   {
    "duration": 337,
    "start_time": "2024-06-24T14:00:06.361Z"
   },
   {
    "duration": 6,
    "start_time": "2024-06-24T14:00:06.701Z"
   },
   {
    "duration": 7,
    "start_time": "2024-06-24T14:00:06.724Z"
   },
   {
    "duration": 6,
    "start_time": "2024-06-24T14:00:06.734Z"
   },
   {
    "duration": 20,
    "start_time": "2024-06-24T14:00:06.744Z"
   },
   {
    "duration": 335,
    "start_time": "2024-06-24T14:00:06.767Z"
   },
   {
    "duration": 5,
    "start_time": "2024-06-24T14:00:07.106Z"
   },
   {
    "duration": 7,
    "start_time": "2024-06-24T14:00:07.123Z"
   },
   {
    "duration": 4,
    "start_time": "2024-06-24T14:00:07.144Z"
   },
   {
    "duration": 20,
    "start_time": "2024-06-24T14:00:07.151Z"
   },
   {
    "duration": 2502,
    "start_time": "2024-06-24T14:00:07.174Z"
   },
   {
    "duration": 0,
    "start_time": "2024-06-24T14:00:09.681Z"
   },
   {
    "duration": 0,
    "start_time": "2024-06-24T14:00:09.684Z"
   },
   {
    "duration": 0,
    "start_time": "2024-06-24T14:00:09.687Z"
   },
   {
    "duration": 0,
    "start_time": "2024-06-24T14:00:09.689Z"
   },
   {
    "duration": 0,
    "start_time": "2024-06-24T14:00:09.692Z"
   },
   {
    "duration": 0,
    "start_time": "2024-06-24T14:00:09.693Z"
   },
   {
    "duration": 0,
    "start_time": "2024-06-24T14:00:09.695Z"
   },
   {
    "duration": 0,
    "start_time": "2024-06-24T14:00:09.697Z"
   },
   {
    "duration": 0,
    "start_time": "2024-06-24T14:00:09.698Z"
   },
   {
    "duration": 0,
    "start_time": "2024-06-24T14:00:09.700Z"
   },
   {
    "duration": 0,
    "start_time": "2024-06-24T14:00:09.701Z"
   },
   {
    "duration": 0,
    "start_time": "2024-06-24T14:00:09.731Z"
   },
   {
    "duration": 0,
    "start_time": "2024-06-24T14:00:09.740Z"
   },
   {
    "duration": 0,
    "start_time": "2024-06-24T14:00:09.741Z"
   },
   {
    "duration": 0,
    "start_time": "2024-06-24T14:00:09.743Z"
   },
   {
    "duration": 0,
    "start_time": "2024-06-24T14:00:09.745Z"
   },
   {
    "duration": 0,
    "start_time": "2024-06-24T14:00:09.747Z"
   },
   {
    "duration": 0,
    "start_time": "2024-06-24T14:00:09.751Z"
   },
   {
    "duration": 0,
    "start_time": "2024-06-24T14:00:09.755Z"
   },
   {
    "duration": 0,
    "start_time": "2024-06-24T14:00:09.757Z"
   },
   {
    "duration": 0,
    "start_time": "2024-06-24T14:00:09.760Z"
   },
   {
    "duration": 0,
    "start_time": "2024-06-24T14:00:09.762Z"
   },
   {
    "duration": 0,
    "start_time": "2024-06-24T14:00:09.764Z"
   },
   {
    "duration": 0,
    "start_time": "2024-06-24T14:00:09.768Z"
   },
   {
    "duration": 0,
    "start_time": "2024-06-24T14:00:09.824Z"
   },
   {
    "duration": 0,
    "start_time": "2024-06-24T14:00:09.826Z"
   },
   {
    "duration": 0,
    "start_time": "2024-06-24T14:00:09.828Z"
   },
   {
    "duration": 0,
    "start_time": "2024-06-24T14:00:09.830Z"
   },
   {
    "duration": 0,
    "start_time": "2024-06-24T14:00:09.833Z"
   },
   {
    "duration": 0,
    "start_time": "2024-06-24T14:00:09.836Z"
   },
   {
    "duration": 0,
    "start_time": "2024-06-24T14:00:09.839Z"
   },
   {
    "duration": 0,
    "start_time": "2024-06-24T14:00:09.842Z"
   },
   {
    "duration": 0,
    "start_time": "2024-06-24T14:00:09.844Z"
   },
   {
    "duration": 0,
    "start_time": "2024-06-24T14:00:09.846Z"
   },
   {
    "duration": 0,
    "start_time": "2024-06-24T14:00:09.848Z"
   },
   {
    "duration": 0,
    "start_time": "2024-06-24T14:00:09.851Z"
   },
   {
    "duration": 0,
    "start_time": "2024-06-24T14:00:09.853Z"
   },
   {
    "duration": 26,
    "start_time": "2024-06-24T14:04:52.537Z"
   },
   {
    "duration": 10,
    "start_time": "2024-06-24T14:04:59.105Z"
   },
   {
    "duration": 24,
    "start_time": "2024-06-24T14:05:02.959Z"
   },
   {
    "duration": 23,
    "start_time": "2024-06-24T14:05:06.624Z"
   },
   {
    "duration": 4,
    "start_time": "2024-06-24T14:05:11.525Z"
   },
   {
    "duration": 25,
    "start_time": "2024-06-24T14:08:22.933Z"
   },
   {
    "duration": 24,
    "start_time": "2024-06-24T14:08:28.975Z"
   },
   {
    "duration": 214,
    "start_time": "2024-06-24T14:08:31.278Z"
   },
   {
    "duration": 5,
    "start_time": "2024-06-24T14:11:26.604Z"
   },
   {
    "duration": 7,
    "start_time": "2024-06-24T14:11:27.070Z"
   },
   {
    "duration": 4,
    "start_time": "2024-06-24T14:11:27.465Z"
   },
   {
    "duration": 21,
    "start_time": "2024-06-24T14:11:27.830Z"
   },
   {
    "duration": 175,
    "start_time": "2024-06-24T14:11:28.270Z"
   },
   {
    "duration": 6,
    "start_time": "2024-06-24T14:12:03.746Z"
   },
   {
    "duration": 6,
    "start_time": "2024-06-24T14:12:04.243Z"
   },
   {
    "duration": 8,
    "start_time": "2024-06-24T14:12:04.618Z"
   },
   {
    "duration": 4,
    "start_time": "2024-06-24T14:12:04.969Z"
   },
   {
    "duration": 19,
    "start_time": "2024-06-24T14:12:05.390Z"
   },
   {
    "duration": 165,
    "start_time": "2024-06-24T14:12:06.001Z"
   },
   {
    "duration": 8,
    "start_time": "2024-06-24T14:14:48.051Z"
   },
   {
    "duration": 4,
    "start_time": "2024-06-24T14:14:48.913Z"
   },
   {
    "duration": 6,
    "start_time": "2024-06-24T14:14:49.675Z"
   },
   {
    "duration": 5,
    "start_time": "2024-06-24T14:14:50.215Z"
   },
   {
    "duration": 8,
    "start_time": "2024-06-24T14:14:50.704Z"
   },
   {
    "duration": 4,
    "start_time": "2024-06-24T14:14:51.149Z"
   },
   {
    "duration": 17,
    "start_time": "2024-06-24T14:14:51.624Z"
   },
   {
    "duration": 164,
    "start_time": "2024-06-24T14:14:52.202Z"
   },
   {
    "duration": 5,
    "start_time": "2024-06-24T14:15:19.321Z"
   },
   {
    "duration": 13,
    "start_time": "2024-06-24T14:15:19.819Z"
   },
   {
    "duration": 5,
    "start_time": "2024-06-24T14:15:20.515Z"
   },
   {
    "duration": 24,
    "start_time": "2024-06-24T14:15:21.135Z"
   },
   {
    "duration": 171,
    "start_time": "2024-06-24T14:15:21.651Z"
   },
   {
    "duration": 7,
    "start_time": "2024-06-24T14:15:53.445Z"
   },
   {
    "duration": 4,
    "start_time": "2024-06-24T14:15:53.813Z"
   },
   {
    "duration": 5,
    "start_time": "2024-06-24T14:15:54.183Z"
   },
   {
    "duration": 8,
    "start_time": "2024-06-24T14:15:54.555Z"
   },
   {
    "duration": 4,
    "start_time": "2024-06-24T14:15:54.943Z"
   },
   {
    "duration": 22,
    "start_time": "2024-06-24T14:15:55.352Z"
   },
   {
    "duration": 164,
    "start_time": "2024-06-24T14:15:55.851Z"
   },
   {
    "duration": 17,
    "start_time": "2024-06-24T14:16:37.863Z"
   },
   {
    "duration": 17,
    "start_time": "2024-06-24T14:17:00.155Z"
   },
   {
    "duration": 16,
    "start_time": "2024-06-24T14:17:39.889Z"
   },
   {
    "duration": 16,
    "start_time": "2024-06-24T14:17:50.010Z"
   },
   {
    "duration": 16,
    "start_time": "2024-06-24T14:17:55.222Z"
   },
   {
    "duration": 8,
    "start_time": "2024-06-24T14:17:55.692Z"
   },
   {
    "duration": 5,
    "start_time": "2024-06-24T14:17:56.758Z"
   },
   {
    "duration": 5,
    "start_time": "2024-06-24T14:17:57.855Z"
   },
   {
    "duration": 11,
    "start_time": "2024-06-24T14:17:58.265Z"
   },
   {
    "duration": 4,
    "start_time": "2024-06-24T14:17:58.664Z"
   },
   {
    "duration": 20,
    "start_time": "2024-06-24T14:17:59.121Z"
   },
   {
    "duration": 17,
    "start_time": "2024-06-24T14:17:59.733Z"
   },
   {
    "duration": 18,
    "start_time": "2024-06-24T14:20:21.418Z"
   },
   {
    "duration": 9,
    "start_time": "2024-06-24T14:20:23.203Z"
   },
   {
    "duration": 1314,
    "start_time": "2024-06-24T14:20:33.804Z"
   },
   {
    "duration": 4,
    "start_time": "2024-06-24T14:20:35.122Z"
   },
   {
    "duration": 11,
    "start_time": "2024-06-24T14:20:35.129Z"
   },
   {
    "duration": 15,
    "start_time": "2024-06-24T14:20:35.143Z"
   },
   {
    "duration": 64,
    "start_time": "2024-06-24T14:20:35.163Z"
   },
   {
    "duration": 13,
    "start_time": "2024-06-24T14:20:35.229Z"
   },
   {
    "duration": 10,
    "start_time": "2024-06-24T14:20:35.245Z"
   },
   {
    "duration": 8,
    "start_time": "2024-06-24T14:20:35.259Z"
   },
   {
    "duration": 61,
    "start_time": "2024-06-24T14:20:35.271Z"
   },
   {
    "duration": 11,
    "start_time": "2024-06-24T14:20:35.336Z"
   },
   {
    "duration": 7,
    "start_time": "2024-06-24T14:20:35.350Z"
   },
   {
    "duration": 8,
    "start_time": "2024-06-24T14:20:35.360Z"
   },
   {
    "duration": 52,
    "start_time": "2024-06-24T14:20:35.371Z"
   },
   {
    "duration": 8,
    "start_time": "2024-06-24T14:20:35.432Z"
   },
   {
    "duration": 10,
    "start_time": "2024-06-24T14:20:35.443Z"
   },
   {
    "duration": 7,
    "start_time": "2024-06-24T14:20:35.458Z"
   },
   {
    "duration": 57,
    "start_time": "2024-06-24T14:20:35.468Z"
   },
   {
    "duration": 10,
    "start_time": "2024-06-24T14:20:35.531Z"
   },
   {
    "duration": 8,
    "start_time": "2024-06-24T14:20:35.545Z"
   },
   {
    "duration": 9,
    "start_time": "2024-06-24T14:20:35.557Z"
   },
   {
    "duration": 5,
    "start_time": "2024-06-24T14:20:35.570Z"
   },
   {
    "duration": 7,
    "start_time": "2024-06-24T14:20:35.622Z"
   },
   {
    "duration": 10,
    "start_time": "2024-06-24T14:20:35.633Z"
   },
   {
    "duration": 6,
    "start_time": "2024-06-24T14:20:35.646Z"
   },
   {
    "duration": 5,
    "start_time": "2024-06-24T14:20:35.654Z"
   },
   {
    "duration": 67,
    "start_time": "2024-06-24T14:20:35.662Z"
   },
   {
    "duration": 15,
    "start_time": "2024-06-24T14:20:35.737Z"
   },
   {
    "duration": 9,
    "start_time": "2024-06-24T14:20:35.756Z"
   },
   {
    "duration": 8,
    "start_time": "2024-06-24T14:20:35.768Z"
   },
   {
    "duration": 7,
    "start_time": "2024-06-24T14:20:35.779Z"
   },
   {
    "duration": 6,
    "start_time": "2024-06-24T14:20:35.823Z"
   },
   {
    "duration": 21,
    "start_time": "2024-06-24T14:20:35.832Z"
   },
   {
    "duration": 393,
    "start_time": "2024-06-24T14:20:35.856Z"
   },
   {
    "duration": 9,
    "start_time": "2024-06-24T14:20:36.252Z"
   },
   {
    "duration": 9,
    "start_time": "2024-06-24T14:20:36.265Z"
   },
   {
    "duration": 5,
    "start_time": "2024-06-24T14:20:36.277Z"
   },
   {
    "duration": 62,
    "start_time": "2024-06-24T14:20:36.284Z"
   },
   {
    "duration": 329,
    "start_time": "2024-06-24T14:20:36.349Z"
   },
   {
    "duration": 17,
    "start_time": "2024-06-24T14:20:36.681Z"
   },
   {
    "duration": 90,
    "start_time": "2024-06-24T14:20:36.703Z"
   },
   {
    "duration": 19,
    "start_time": "2024-06-24T14:20:36.805Z"
   },
   {
    "duration": 7,
    "start_time": "2024-06-24T14:20:36.828Z"
   },
   {
    "duration": 10,
    "start_time": "2024-06-24T14:20:36.838Z"
   },
   {
    "duration": 6,
    "start_time": "2024-06-24T14:20:36.850Z"
   },
   {
    "duration": 66,
    "start_time": "2024-06-24T14:20:36.859Z"
   },
   {
    "duration": 2477,
    "start_time": "2024-06-24T14:20:36.928Z"
   },
   {
    "duration": 0,
    "start_time": "2024-06-24T14:20:39.408Z"
   },
   {
    "duration": 0,
    "start_time": "2024-06-24T14:20:39.423Z"
   },
   {
    "duration": 0,
    "start_time": "2024-06-24T14:20:39.425Z"
   },
   {
    "duration": 0,
    "start_time": "2024-06-24T14:20:39.427Z"
   },
   {
    "duration": 0,
    "start_time": "2024-06-24T14:20:39.429Z"
   },
   {
    "duration": 0,
    "start_time": "2024-06-24T14:20:39.431Z"
   },
   {
    "duration": 0,
    "start_time": "2024-06-24T14:20:39.433Z"
   },
   {
    "duration": 0,
    "start_time": "2024-06-24T14:20:39.434Z"
   },
   {
    "duration": 0,
    "start_time": "2024-06-24T14:20:39.436Z"
   },
   {
    "duration": 0,
    "start_time": "2024-06-24T14:20:39.438Z"
   },
   {
    "duration": 0,
    "start_time": "2024-06-24T14:20:39.439Z"
   },
   {
    "duration": 0,
    "start_time": "2024-06-24T14:20:39.441Z"
   },
   {
    "duration": 0,
    "start_time": "2024-06-24T14:20:39.443Z"
   },
   {
    "duration": 0,
    "start_time": "2024-06-24T14:20:39.445Z"
   },
   {
    "duration": 0,
    "start_time": "2024-06-24T14:20:39.446Z"
   },
   {
    "duration": 0,
    "start_time": "2024-06-24T14:20:39.448Z"
   },
   {
    "duration": 0,
    "start_time": "2024-06-24T14:20:39.450Z"
   },
   {
    "duration": 0,
    "start_time": "2024-06-24T14:20:39.452Z"
   },
   {
    "duration": 0,
    "start_time": "2024-06-24T14:20:39.453Z"
   },
   {
    "duration": 0,
    "start_time": "2024-06-24T14:20:39.455Z"
   },
   {
    "duration": 0,
    "start_time": "2024-06-24T14:20:39.457Z"
   },
   {
    "duration": 0,
    "start_time": "2024-06-24T14:20:39.459Z"
   },
   {
    "duration": 0,
    "start_time": "2024-06-24T14:20:39.461Z"
   },
   {
    "duration": 0,
    "start_time": "2024-06-24T14:20:39.463Z"
   },
   {
    "duration": 0,
    "start_time": "2024-06-24T14:20:39.464Z"
   },
   {
    "duration": 0,
    "start_time": "2024-06-24T14:20:39.524Z"
   },
   {
    "duration": 0,
    "start_time": "2024-06-24T14:20:39.525Z"
   },
   {
    "duration": 0,
    "start_time": "2024-06-24T14:20:39.528Z"
   },
   {
    "duration": 0,
    "start_time": "2024-06-24T14:20:39.530Z"
   },
   {
    "duration": 0,
    "start_time": "2024-06-24T14:20:39.532Z"
   },
   {
    "duration": 0,
    "start_time": "2024-06-24T14:20:39.534Z"
   },
   {
    "duration": 0,
    "start_time": "2024-06-24T14:20:39.536Z"
   },
   {
    "duration": 0,
    "start_time": "2024-06-24T14:20:39.538Z"
   },
   {
    "duration": 0,
    "start_time": "2024-06-24T14:20:39.539Z"
   },
   {
    "duration": 0,
    "start_time": "2024-06-24T14:20:39.541Z"
   },
   {
    "duration": 0,
    "start_time": "2024-06-24T14:20:39.543Z"
   },
   {
    "duration": 0,
    "start_time": "2024-06-24T14:20:39.545Z"
   },
   {
    "duration": 32,
    "start_time": "2024-06-24T14:21:51.031Z"
   },
   {
    "duration": 7,
    "start_time": "2024-06-24T14:30:29.448Z"
   },
   {
    "duration": 7,
    "start_time": "2024-06-24T14:30:30.348Z"
   },
   {
    "duration": 23,
    "start_time": "2024-06-24T14:30:31.024Z"
   },
   {
    "duration": 9,
    "start_time": "2024-06-24T14:31:40.051Z"
   },
   {
    "duration": 23,
    "start_time": "2024-06-24T14:31:41.469Z"
   },
   {
    "duration": 8,
    "start_time": "2024-06-24T14:32:10.118Z"
   },
   {
    "duration": 12,
    "start_time": "2024-06-24T14:32:10.725Z"
   },
   {
    "duration": 11,
    "start_time": "2024-06-24T14:32:11.441Z"
   },
   {
    "duration": 11,
    "start_time": "2024-06-24T14:32:12.156Z"
   },
   {
    "duration": 7,
    "start_time": "2024-06-24T14:32:30.293Z"
   },
   {
    "duration": 354,
    "start_time": "2024-06-24T14:32:31.168Z"
   },
   {
    "duration": 169,
    "start_time": "2024-06-24T14:33:01.118Z"
   },
   {
    "duration": 1316,
    "start_time": "2024-06-24T14:33:08.982Z"
   },
   {
    "duration": 6,
    "start_time": "2024-06-24T14:33:10.301Z"
   },
   {
    "duration": 10,
    "start_time": "2024-06-24T14:33:10.322Z"
   },
   {
    "duration": 15,
    "start_time": "2024-06-24T14:33:10.336Z"
   },
   {
    "duration": 15,
    "start_time": "2024-06-24T14:33:10.354Z"
   },
   {
    "duration": 9,
    "start_time": "2024-06-24T14:33:10.372Z"
   },
   {
    "duration": 47,
    "start_time": "2024-06-24T14:33:10.384Z"
   },
   {
    "duration": 9,
    "start_time": "2024-06-24T14:33:10.434Z"
   },
   {
    "duration": 14,
    "start_time": "2024-06-24T14:33:10.446Z"
   },
   {
    "duration": 8,
    "start_time": "2024-06-24T14:33:10.466Z"
   },
   {
    "duration": 49,
    "start_time": "2024-06-24T14:33:10.477Z"
   },
   {
    "duration": 9,
    "start_time": "2024-06-24T14:33:10.532Z"
   },
   {
    "duration": 7,
    "start_time": "2024-06-24T14:33:10.544Z"
   },
   {
    "duration": 8,
    "start_time": "2024-06-24T14:33:10.553Z"
   },
   {
    "duration": 9,
    "start_time": "2024-06-24T14:33:10.564Z"
   },
   {
    "duration": 52,
    "start_time": "2024-06-24T14:33:10.575Z"
   },
   {
    "duration": 17,
    "start_time": "2024-06-24T14:33:10.629Z"
   },
   {
    "duration": 10,
    "start_time": "2024-06-24T14:33:10.649Z"
   },
   {
    "duration": 8,
    "start_time": "2024-06-24T14:33:10.661Z"
   },
   {
    "duration": 53,
    "start_time": "2024-06-24T14:33:10.671Z"
   },
   {
    "duration": 5,
    "start_time": "2024-06-24T14:33:10.728Z"
   },
   {
    "duration": 5,
    "start_time": "2024-06-24T14:33:10.737Z"
   },
   {
    "duration": 10,
    "start_time": "2024-06-24T14:33:10.746Z"
   },
   {
    "duration": 5,
    "start_time": "2024-06-24T14:33:10.759Z"
   },
   {
    "duration": 5,
    "start_time": "2024-06-24T14:33:10.767Z"
   },
   {
    "duration": 15,
    "start_time": "2024-06-24T14:33:10.825Z"
   },
   {
    "duration": 11,
    "start_time": "2024-06-24T14:33:10.843Z"
   },
   {
    "duration": 8,
    "start_time": "2024-06-24T14:33:10.865Z"
   },
   {
    "duration": 8,
    "start_time": "2024-06-24T14:33:10.876Z"
   },
   {
    "duration": 6,
    "start_time": "2024-06-24T14:33:10.923Z"
   },
   {
    "duration": 6,
    "start_time": "2024-06-24T14:33:10.933Z"
   },
   {
    "duration": 22,
    "start_time": "2024-06-24T14:33:10.942Z"
   },
   {
    "duration": 392,
    "start_time": "2024-06-24T14:33:10.967Z"
   },
   {
    "duration": 5,
    "start_time": "2024-06-24T14:33:11.363Z"
   },
   {
    "duration": 8,
    "start_time": "2024-06-24T14:33:11.372Z"
   },
   {
    "duration": 5,
    "start_time": "2024-06-24T14:33:11.383Z"
   },
   {
    "duration": 20,
    "start_time": "2024-06-24T14:33:11.423Z"
   },
   {
    "duration": 321,
    "start_time": "2024-06-24T14:33:11.446Z"
   },
   {
    "duration": 9,
    "start_time": "2024-06-24T14:33:11.770Z"
   },
   {
    "duration": 8,
    "start_time": "2024-06-24T14:33:11.782Z"
   },
   {
    "duration": 34,
    "start_time": "2024-06-24T14:33:11.793Z"
   },
   {
    "duration": 9,
    "start_time": "2024-06-24T14:33:11.831Z"
   },
   {
    "duration": 12,
    "start_time": "2024-06-24T14:33:11.844Z"
   },
   {
    "duration": 7,
    "start_time": "2024-06-24T14:33:11.859Z"
   },
   {
    "duration": 440,
    "start_time": "2024-06-24T14:33:11.869Z"
   },
   {
    "duration": 414,
    "start_time": "2024-06-24T14:33:12.312Z"
   },
   {
    "duration": 0,
    "start_time": "2024-06-24T14:33:12.729Z"
   },
   {
    "duration": 0,
    "start_time": "2024-06-24T14:33:12.731Z"
   },
   {
    "duration": 0,
    "start_time": "2024-06-24T14:33:12.733Z"
   },
   {
    "duration": 0,
    "start_time": "2024-06-24T14:33:12.736Z"
   },
   {
    "duration": 0,
    "start_time": "2024-06-24T14:33:12.738Z"
   },
   {
    "duration": 0,
    "start_time": "2024-06-24T14:33:12.740Z"
   },
   {
    "duration": 0,
    "start_time": "2024-06-24T14:33:12.741Z"
   },
   {
    "duration": 0,
    "start_time": "2024-06-24T14:33:12.743Z"
   },
   {
    "duration": 0,
    "start_time": "2024-06-24T14:33:12.745Z"
   },
   {
    "duration": 0,
    "start_time": "2024-06-24T14:33:12.747Z"
   },
   {
    "duration": 0,
    "start_time": "2024-06-24T14:33:12.749Z"
   },
   {
    "duration": 0,
    "start_time": "2024-06-24T14:33:12.751Z"
   },
   {
    "duration": 0,
    "start_time": "2024-06-24T14:33:12.752Z"
   },
   {
    "duration": 0,
    "start_time": "2024-06-24T14:33:12.754Z"
   },
   {
    "duration": 0,
    "start_time": "2024-06-24T14:33:12.756Z"
   },
   {
    "duration": 0,
    "start_time": "2024-06-24T14:33:12.759Z"
   },
   {
    "duration": 0,
    "start_time": "2024-06-24T14:33:12.761Z"
   },
   {
    "duration": 0,
    "start_time": "2024-06-24T14:33:12.763Z"
   },
   {
    "duration": 0,
    "start_time": "2024-06-24T14:33:12.766Z"
   },
   {
    "duration": 0,
    "start_time": "2024-06-24T14:33:12.768Z"
   },
   {
    "duration": 0,
    "start_time": "2024-06-24T14:33:12.823Z"
   },
   {
    "duration": 0,
    "start_time": "2024-06-24T14:33:12.825Z"
   },
   {
    "duration": 0,
    "start_time": "2024-06-24T14:33:12.827Z"
   },
   {
    "duration": 0,
    "start_time": "2024-06-24T14:33:12.828Z"
   },
   {
    "duration": 0,
    "start_time": "2024-06-24T14:33:12.830Z"
   },
   {
    "duration": 0,
    "start_time": "2024-06-24T14:33:12.832Z"
   },
   {
    "duration": 0,
    "start_time": "2024-06-24T14:33:12.835Z"
   },
   {
    "duration": 0,
    "start_time": "2024-06-24T14:33:12.837Z"
   },
   {
    "duration": 0,
    "start_time": "2024-06-24T14:33:12.839Z"
   },
   {
    "duration": 0,
    "start_time": "2024-06-24T14:33:12.842Z"
   },
   {
    "duration": 0,
    "start_time": "2024-06-24T14:33:12.844Z"
   },
   {
    "duration": 0,
    "start_time": "2024-06-24T14:33:12.846Z"
   },
   {
    "duration": 0,
    "start_time": "2024-06-24T14:33:12.849Z"
   },
   {
    "duration": 0,
    "start_time": "2024-06-24T14:33:12.851Z"
   },
   {
    "duration": 0,
    "start_time": "2024-06-24T14:33:12.853Z"
   },
   {
    "duration": 0,
    "start_time": "2024-06-24T14:33:12.855Z"
   },
   {
    "duration": 1319,
    "start_time": "2024-06-24T14:33:24.741Z"
   },
   {
    "duration": 3,
    "start_time": "2024-06-24T14:33:26.064Z"
   },
   {
    "duration": 9,
    "start_time": "2024-06-24T14:33:26.071Z"
   },
   {
    "duration": 42,
    "start_time": "2024-06-24T14:33:26.082Z"
   },
   {
    "duration": 16,
    "start_time": "2024-06-24T14:33:26.128Z"
   },
   {
    "duration": 9,
    "start_time": "2024-06-24T14:33:26.148Z"
   },
   {
    "duration": 9,
    "start_time": "2024-06-24T14:33:26.161Z"
   },
   {
    "duration": 50,
    "start_time": "2024-06-24T14:33:26.173Z"
   },
   {
    "duration": 15,
    "start_time": "2024-06-24T14:33:26.226Z"
   },
   {
    "duration": 8,
    "start_time": "2024-06-24T14:33:26.244Z"
   },
   {
    "duration": 7,
    "start_time": "2024-06-24T14:33:26.255Z"
   },
   {
    "duration": 8,
    "start_time": "2024-06-24T14:33:26.264Z"
   },
   {
    "duration": 7,
    "start_time": "2024-06-24T14:33:26.323Z"
   },
   {
    "duration": 8,
    "start_time": "2024-06-24T14:33:26.339Z"
   },
   {
    "duration": 9,
    "start_time": "2024-06-24T14:33:26.351Z"
   },
   {
    "duration": 9,
    "start_time": "2024-06-24T14:33:26.363Z"
   },
   {
    "duration": 17,
    "start_time": "2024-06-24T14:33:26.423Z"
   },
   {
    "duration": 10,
    "start_time": "2024-06-24T14:33:26.444Z"
   },
   {
    "duration": 7,
    "start_time": "2024-06-24T14:33:26.458Z"
   },
   {
    "duration": 9,
    "start_time": "2024-06-24T14:33:26.468Z"
   },
   {
    "duration": 4,
    "start_time": "2024-06-24T14:33:26.524Z"
   },
   {
    "duration": 6,
    "start_time": "2024-06-24T14:33:26.531Z"
   },
   {
    "duration": 9,
    "start_time": "2024-06-24T14:33:26.540Z"
   },
   {
    "duration": 6,
    "start_time": "2024-06-24T14:33:26.552Z"
   },
   {
    "duration": 5,
    "start_time": "2024-06-24T14:33:26.561Z"
   },
   {
    "duration": 61,
    "start_time": "2024-06-24T14:33:26.570Z"
   },
   {
    "duration": 8,
    "start_time": "2024-06-24T14:33:26.634Z"
   },
   {
    "duration": 9,
    "start_time": "2024-06-24T14:33:26.645Z"
   },
   {
    "duration": 8,
    "start_time": "2024-06-24T14:33:26.657Z"
   },
   {
    "duration": 5,
    "start_time": "2024-06-24T14:33:26.668Z"
   },
   {
    "duration": 6,
    "start_time": "2024-06-24T14:33:26.724Z"
   },
   {
    "duration": 24,
    "start_time": "2024-06-24T14:33:26.733Z"
   },
   {
    "duration": 347,
    "start_time": "2024-06-24T14:33:26.759Z"
   },
   {
    "duration": 13,
    "start_time": "2024-06-24T14:33:27.109Z"
   },
   {
    "duration": 9,
    "start_time": "2024-06-24T14:33:27.125Z"
   },
   {
    "duration": 6,
    "start_time": "2024-06-24T14:33:27.137Z"
   },
   {
    "duration": 19,
    "start_time": "2024-06-24T14:33:27.146Z"
   },
   {
    "duration": 359,
    "start_time": "2024-06-24T14:33:27.168Z"
   },
   {
    "duration": 8,
    "start_time": "2024-06-24T14:33:27.531Z"
   },
   {
    "duration": 9,
    "start_time": "2024-06-24T14:33:27.542Z"
   },
   {
    "duration": 14,
    "start_time": "2024-06-24T14:33:27.563Z"
   },
   {
    "duration": 39,
    "start_time": "2024-06-24T14:33:27.584Z"
   },
   {
    "duration": 12,
    "start_time": "2024-06-24T14:33:27.626Z"
   },
   {
    "duration": 6,
    "start_time": "2024-06-24T14:33:27.641Z"
   },
   {
    "duration": 405,
    "start_time": "2024-06-24T14:33:27.650Z"
   },
   {
    "duration": 16,
    "start_time": "2024-06-24T14:33:28.058Z"
   },
   {
    "duration": 10,
    "start_time": "2024-06-24T14:33:28.077Z"
   },
   {
    "duration": 33,
    "start_time": "2024-06-24T14:33:28.090Z"
   },
   {
    "duration": 10,
    "start_time": "2024-06-24T14:33:28.126Z"
   },
   {
    "duration": 8,
    "start_time": "2024-06-24T14:33:28.144Z"
   },
   {
    "duration": 19,
    "start_time": "2024-06-24T14:33:28.155Z"
   },
   {
    "duration": 404,
    "start_time": "2024-06-24T14:33:28.179Z"
   },
   {
    "duration": 7,
    "start_time": "2024-06-24T14:33:28.586Z"
   },
   {
    "duration": 255,
    "start_time": "2024-06-24T14:33:28.596Z"
   },
   {
    "duration": 7,
    "start_time": "2024-06-24T14:33:28.855Z"
   },
   {
    "duration": 8,
    "start_time": "2024-06-24T14:33:28.865Z"
   },
   {
    "duration": 4,
    "start_time": "2024-06-24T14:33:28.878Z"
   },
   {
    "duration": 40,
    "start_time": "2024-06-24T14:33:28.885Z"
   },
   {
    "duration": 6,
    "start_time": "2024-06-24T14:33:28.929Z"
   },
   {
    "duration": 281,
    "start_time": "2024-06-24T14:33:28.938Z"
   },
   {
    "duration": 7,
    "start_time": "2024-06-24T14:33:29.224Z"
   },
   {
    "duration": 4,
    "start_time": "2024-06-24T14:33:29.235Z"
   },
   {
    "duration": 5,
    "start_time": "2024-06-24T14:33:29.242Z"
   },
   {
    "duration": 8,
    "start_time": "2024-06-24T14:33:29.250Z"
   },
   {
    "duration": 7,
    "start_time": "2024-06-24T14:33:29.261Z"
   },
   {
    "duration": 60,
    "start_time": "2024-06-24T14:33:29.271Z"
   },
   {
    "duration": 10,
    "start_time": "2024-06-24T14:33:29.334Z"
   },
   {
    "duration": 7,
    "start_time": "2024-06-24T14:33:29.348Z"
   },
   {
    "duration": 9,
    "start_time": "2024-06-24T14:33:29.358Z"
   },
   {
    "duration": 53,
    "start_time": "2024-06-24T14:33:29.371Z"
   },
   {
    "duration": 7,
    "start_time": "2024-06-24T14:33:29.427Z"
   },
   {
    "duration": 6,
    "start_time": "2024-06-24T14:33:29.437Z"
   },
   {
    "duration": 8,
    "start_time": "2024-06-24T14:33:29.446Z"
   },
   {
    "duration": 8,
    "start_time": "2024-06-24T14:33:29.457Z"
   },
   {
    "duration": 59,
    "start_time": "2024-06-24T14:33:29.468Z"
   },
   {
    "duration": 11,
    "start_time": "2024-06-24T14:33:29.530Z"
   },
   {
    "duration": 6,
    "start_time": "2024-06-24T14:33:29.546Z"
   },
   {
    "duration": 7,
    "start_time": "2024-06-24T14:33:29.555Z"
   },
   {
    "duration": 9,
    "start_time": "2024-06-24T14:33:29.566Z"
   },
   {
    "duration": 8,
    "start_time": "2024-06-24T14:33:29.623Z"
   },
   {
    "duration": 7,
    "start_time": "2024-06-24T14:33:29.633Z"
   },
   {
    "duration": 1228,
    "start_time": "2024-06-24T14:48:36.171Z"
   },
   {
    "duration": 3,
    "start_time": "2024-06-24T14:48:37.403Z"
   },
   {
    "duration": 10,
    "start_time": "2024-06-24T14:48:37.422Z"
   },
   {
    "duration": 15,
    "start_time": "2024-06-24T14:48:37.434Z"
   },
   {
    "duration": 15,
    "start_time": "2024-06-24T14:48:37.453Z"
   },
   {
    "duration": 8,
    "start_time": "2024-06-24T14:48:37.472Z"
   },
   {
    "duration": 45,
    "start_time": "2024-06-24T14:48:37.483Z"
   },
   {
    "duration": 8,
    "start_time": "2024-06-24T14:48:37.531Z"
   },
   {
    "duration": 15,
    "start_time": "2024-06-24T14:48:37.542Z"
   },
   {
    "duration": 10,
    "start_time": "2024-06-24T14:48:37.560Z"
   },
   {
    "duration": 53,
    "start_time": "2024-06-24T14:48:37.574Z"
   },
   {
    "duration": 9,
    "start_time": "2024-06-24T14:48:37.630Z"
   },
   {
    "duration": 7,
    "start_time": "2024-06-24T14:48:37.642Z"
   },
   {
    "duration": 8,
    "start_time": "2024-06-24T14:48:37.659Z"
   },
   {
    "duration": 56,
    "start_time": "2024-06-24T14:48:37.669Z"
   },
   {
    "duration": 7,
    "start_time": "2024-06-24T14:48:37.728Z"
   },
   {
    "duration": 15,
    "start_time": "2024-06-24T14:48:37.738Z"
   },
   {
    "duration": 8,
    "start_time": "2024-06-24T14:48:37.757Z"
   },
   {
    "duration": 7,
    "start_time": "2024-06-24T14:48:37.768Z"
   },
   {
    "duration": 52,
    "start_time": "2024-06-24T14:48:37.777Z"
   },
   {
    "duration": 4,
    "start_time": "2024-06-24T14:48:37.832Z"
   },
   {
    "duration": 5,
    "start_time": "2024-06-24T14:48:37.840Z"
   },
   {
    "duration": 9,
    "start_time": "2024-06-24T14:48:37.849Z"
   },
   {
    "duration": 7,
    "start_time": "2024-06-24T14:48:37.860Z"
   },
   {
    "duration": 57,
    "start_time": "2024-06-24T14:48:37.869Z"
   },
   {
    "duration": 13,
    "start_time": "2024-06-24T14:48:37.930Z"
   },
   {
    "duration": 7,
    "start_time": "2024-06-24T14:48:37.947Z"
   },
   {
    "duration": 10,
    "start_time": "2024-06-24T14:48:37.957Z"
   },
   {
    "duration": 54,
    "start_time": "2024-06-24T14:48:37.970Z"
   },
   {
    "duration": 6,
    "start_time": "2024-06-24T14:48:38.027Z"
   },
   {
    "duration": 7,
    "start_time": "2024-06-24T14:48:38.035Z"
   },
   {
    "duration": 26,
    "start_time": "2024-06-24T14:48:38.044Z"
   },
   {
    "duration": 363,
    "start_time": "2024-06-24T14:48:38.072Z"
   },
   {
    "duration": 7,
    "start_time": "2024-06-24T14:48:38.438Z"
   },
   {
    "duration": 13,
    "start_time": "2024-06-24T14:48:38.448Z"
   },
   {
    "duration": 7,
    "start_time": "2024-06-24T14:48:38.464Z"
   },
   {
    "duration": 54,
    "start_time": "2024-06-24T14:48:38.475Z"
   },
   {
    "duration": 331,
    "start_time": "2024-06-24T14:48:38.532Z"
   },
   {
    "duration": 8,
    "start_time": "2024-06-24T14:48:38.866Z"
   },
   {
    "duration": 8,
    "start_time": "2024-06-24T14:48:38.876Z"
   },
   {
    "duration": 9,
    "start_time": "2024-06-24T14:48:38.922Z"
   },
   {
    "duration": 9,
    "start_time": "2024-06-24T14:48:38.934Z"
   },
   {
    "duration": 13,
    "start_time": "2024-06-24T14:48:38.945Z"
   },
   {
    "duration": 6,
    "start_time": "2024-06-24T14:48:38.961Z"
   },
   {
    "duration": 406,
    "start_time": "2024-06-24T14:48:38.971Z"
   },
   {
    "duration": 17,
    "start_time": "2024-06-24T14:48:39.379Z"
   },
   {
    "duration": 27,
    "start_time": "2024-06-24T14:48:39.399Z"
   },
   {
    "duration": 11,
    "start_time": "2024-06-24T14:48:39.429Z"
   },
   {
    "duration": 10,
    "start_time": "2024-06-24T14:48:39.443Z"
   },
   {
    "duration": 5,
    "start_time": "2024-06-24T14:48:39.456Z"
   },
   {
    "duration": 64,
    "start_time": "2024-06-24T14:48:39.464Z"
   },
   {
    "duration": 392,
    "start_time": "2024-06-24T14:48:39.532Z"
   },
   {
    "duration": 11,
    "start_time": "2024-06-24T14:48:39.931Z"
   },
   {
    "duration": 254,
    "start_time": "2024-06-24T14:48:39.945Z"
   },
   {
    "duration": 23,
    "start_time": "2024-06-24T14:48:40.202Z"
   },
   {
    "duration": 13,
    "start_time": "2024-06-24T14:48:40.228Z"
   },
   {
    "duration": 4,
    "start_time": "2024-06-24T14:48:40.244Z"
   },
   {
    "duration": 6,
    "start_time": "2024-06-24T14:48:40.250Z"
   },
   {
    "duration": 6,
    "start_time": "2024-06-24T14:48:40.260Z"
   },
   {
    "duration": 298,
    "start_time": "2024-06-24T14:48:40.268Z"
   },
   {
    "duration": 8,
    "start_time": "2024-06-24T14:48:40.569Z"
   },
   {
    "duration": 3,
    "start_time": "2024-06-24T14:48:40.580Z"
   },
   {
    "duration": 37,
    "start_time": "2024-06-24T14:48:40.586Z"
   },
   {
    "duration": 9,
    "start_time": "2024-06-24T14:48:40.626Z"
   },
   {
    "duration": 9,
    "start_time": "2024-06-24T14:48:40.638Z"
   },
   {
    "duration": 13,
    "start_time": "2024-06-24T14:48:40.650Z"
   },
   {
    "duration": 11,
    "start_time": "2024-06-24T14:48:40.666Z"
   },
   {
    "duration": 52,
    "start_time": "2024-06-24T14:48:40.681Z"
   },
   {
    "duration": 14,
    "start_time": "2024-06-24T14:48:40.737Z"
   },
   {
    "duration": 9,
    "start_time": "2024-06-24T14:48:40.754Z"
   },
   {
    "duration": 7,
    "start_time": "2024-06-24T14:48:40.767Z"
   },
   {
    "duration": 7,
    "start_time": "2024-06-24T14:48:40.777Z"
   },
   {
    "duration": 11,
    "start_time": "2024-06-24T14:48:40.824Z"
   },
   {
    "duration": 10,
    "start_time": "2024-06-24T14:48:40.838Z"
   },
   {
    "duration": 14,
    "start_time": "2024-06-24T14:48:40.852Z"
   },
   {
    "duration": 11,
    "start_time": "2024-06-24T14:48:40.869Z"
   },
   {
    "duration": 43,
    "start_time": "2024-06-24T14:48:40.883Z"
   },
   {
    "duration": 8,
    "start_time": "2024-06-24T14:48:40.929Z"
   },
   {
    "duration": 11,
    "start_time": "2024-06-24T14:48:40.940Z"
   },
   {
    "duration": 8,
    "start_time": "2024-06-24T14:48:40.954Z"
   },
   {
    "duration": 59,
    "start_time": "2024-06-24T14:48:40.965Z"
   },
   {
    "duration": 1316,
    "start_time": "2024-06-24T15:21:57.074Z"
   },
   {
    "duration": 4,
    "start_time": "2024-06-24T15:21:58.393Z"
   },
   {
    "duration": 25,
    "start_time": "2024-06-24T15:21:58.400Z"
   },
   {
    "duration": 15,
    "start_time": "2024-06-24T15:21:58.430Z"
   },
   {
    "duration": 15,
    "start_time": "2024-06-24T15:21:58.448Z"
   },
   {
    "duration": 8,
    "start_time": "2024-06-24T15:21:58.466Z"
   },
   {
    "duration": 49,
    "start_time": "2024-06-24T15:21:58.478Z"
   },
   {
    "duration": 8,
    "start_time": "2024-06-24T15:21:58.530Z"
   },
   {
    "duration": 17,
    "start_time": "2024-06-24T15:21:58.541Z"
   },
   {
    "duration": 8,
    "start_time": "2024-06-24T15:21:58.565Z"
   },
   {
    "duration": 50,
    "start_time": "2024-06-24T15:21:58.577Z"
   },
   {
    "duration": 11,
    "start_time": "2024-06-24T15:21:58.629Z"
   },
   {
    "duration": 6,
    "start_time": "2024-06-24T15:21:58.643Z"
   },
   {
    "duration": 8,
    "start_time": "2024-06-24T15:21:58.652Z"
   },
   {
    "duration": 9,
    "start_time": "2024-06-24T15:21:58.663Z"
   },
   {
    "duration": 52,
    "start_time": "2024-06-24T15:21:58.675Z"
   },
   {
    "duration": 13,
    "start_time": "2024-06-24T15:21:58.730Z"
   },
   {
    "duration": 9,
    "start_time": "2024-06-24T15:21:58.747Z"
   },
   {
    "duration": 9,
    "start_time": "2024-06-24T15:21:58.758Z"
   },
   {
    "duration": 56,
    "start_time": "2024-06-24T15:21:58.770Z"
   },
   {
    "duration": 4,
    "start_time": "2024-06-24T15:21:58.829Z"
   },
   {
    "duration": 6,
    "start_time": "2024-06-24T15:21:58.836Z"
   },
   {
    "duration": 9,
    "start_time": "2024-06-24T15:21:58.845Z"
   },
   {
    "duration": 6,
    "start_time": "2024-06-24T15:21:58.856Z"
   },
   {
    "duration": 5,
    "start_time": "2024-06-24T15:21:58.866Z"
   },
   {
    "duration": 61,
    "start_time": "2024-06-24T15:21:58.874Z"
   },
   {
    "duration": 8,
    "start_time": "2024-06-24T15:21:58.938Z"
   },
   {
    "duration": 9,
    "start_time": "2024-06-24T15:21:58.956Z"
   },
   {
    "duration": 54,
    "start_time": "2024-06-24T15:21:58.968Z"
   },
   {
    "duration": 5,
    "start_time": "2024-06-24T15:21:59.026Z"
   },
   {
    "duration": 7,
    "start_time": "2024-06-24T15:21:59.034Z"
   },
   {
    "duration": 26,
    "start_time": "2024-06-24T15:21:59.044Z"
   },
   {
    "duration": 350,
    "start_time": "2024-06-24T15:21:59.073Z"
   },
   {
    "duration": 6,
    "start_time": "2024-06-24T15:21:59.426Z"
   },
   {
    "duration": 9,
    "start_time": "2024-06-24T15:21:59.435Z"
   },
   {
    "duration": 6,
    "start_time": "2024-06-24T15:21:59.447Z"
   },
   {
    "duration": 21,
    "start_time": "2024-06-24T15:21:59.456Z"
   },
   {
    "duration": 373,
    "start_time": "2024-06-24T15:21:59.481Z"
   },
   {
    "duration": 8,
    "start_time": "2024-06-24T15:21:59.857Z"
   },
   {
    "duration": 7,
    "start_time": "2024-06-24T15:21:59.869Z"
   },
   {
    "duration": 10,
    "start_time": "2024-06-24T15:21:59.879Z"
   },
   {
    "duration": 13,
    "start_time": "2024-06-24T15:21:59.925Z"
   },
   {
    "duration": 13,
    "start_time": "2024-06-24T15:21:59.941Z"
   },
   {
    "duration": 8,
    "start_time": "2024-06-24T15:21:59.969Z"
   },
   {
    "duration": 401,
    "start_time": "2024-06-24T15:21:59.980Z"
   },
   {
    "duration": 18,
    "start_time": "2024-06-24T15:22:00.385Z"
   },
   {
    "duration": 22,
    "start_time": "2024-06-24T15:22:00.406Z"
   },
   {
    "duration": 11,
    "start_time": "2024-06-24T15:22:00.431Z"
   },
   {
    "duration": 10,
    "start_time": "2024-06-24T15:22:00.445Z"
   },
   {
    "duration": 6,
    "start_time": "2024-06-24T15:22:00.458Z"
   },
   {
    "duration": 68,
    "start_time": "2024-06-24T15:22:00.469Z"
   },
   {
    "duration": 373,
    "start_time": "2024-06-24T15:22:00.540Z"
   },
   {
    "duration": 17,
    "start_time": "2024-06-24T15:22:00.916Z"
   },
   {
    "duration": 253,
    "start_time": "2024-06-24T15:22:00.936Z"
   },
   {
    "duration": 8,
    "start_time": "2024-06-24T15:22:01.193Z"
   },
   {
    "duration": 23,
    "start_time": "2024-06-24T15:22:01.204Z"
   },
   {
    "duration": 5,
    "start_time": "2024-06-24T15:22:01.230Z"
   },
   {
    "duration": 5,
    "start_time": "2024-06-24T15:22:01.241Z"
   },
   {
    "duration": 6,
    "start_time": "2024-06-24T15:22:01.249Z"
   },
   {
    "duration": 296,
    "start_time": "2024-06-24T15:22:01.258Z"
   },
   {
    "duration": 7,
    "start_time": "2024-06-24T15:22:01.558Z"
   },
   {
    "duration": 6,
    "start_time": "2024-06-24T15:22:01.570Z"
   },
   {
    "duration": 5,
    "start_time": "2024-06-24T15:22:01.580Z"
   },
   {
    "duration": 37,
    "start_time": "2024-06-24T15:22:01.589Z"
   },
   {
    "duration": 8,
    "start_time": "2024-06-24T15:22:01.630Z"
   },
   {
    "duration": 14,
    "start_time": "2024-06-24T15:22:01.645Z"
   },
   {
    "duration": 12,
    "start_time": "2024-06-24T15:22:01.664Z"
   },
   {
    "duration": 5,
    "start_time": "2024-06-24T15:22:01.722Z"
   },
   {
    "duration": 10,
    "start_time": "2024-06-24T15:22:01.731Z"
   },
   {
    "duration": 8,
    "start_time": "2024-06-24T15:22:01.747Z"
   },
   {
    "duration": 6,
    "start_time": "2024-06-24T15:22:01.759Z"
   },
   {
    "duration": 55,
    "start_time": "2024-06-24T15:22:01.768Z"
   },
   {
    "duration": 9,
    "start_time": "2024-06-24T15:22:01.826Z"
   },
   {
    "duration": 7,
    "start_time": "2024-06-24T15:22:01.838Z"
   },
   {
    "duration": 11,
    "start_time": "2024-06-24T15:22:01.848Z"
   },
   {
    "duration": 11,
    "start_time": "2024-06-24T15:22:01.862Z"
   },
   {
    "duration": 47,
    "start_time": "2024-06-24T15:22:01.876Z"
   },
   {
    "duration": 6,
    "start_time": "2024-06-24T15:22:01.927Z"
   },
   {
    "duration": 12,
    "start_time": "2024-06-24T15:22:01.936Z"
   },
   {
    "duration": 8,
    "start_time": "2024-06-24T15:22:01.951Z"
   },
   {
    "duration": 7,
    "start_time": "2024-06-24T15:22:01.962Z"
   },
   {
    "duration": 401,
    "start_time": "2024-06-24T15:25:38.892Z"
   },
   {
    "duration": 1353,
    "start_time": "2024-06-24T15:25:45.338Z"
   },
   {
    "duration": 5,
    "start_time": "2024-06-24T15:25:46.695Z"
   },
   {
    "duration": 22,
    "start_time": "2024-06-24T15:25:46.703Z"
   },
   {
    "duration": 16,
    "start_time": "2024-06-24T15:25:46.728Z"
   },
   {
    "duration": 15,
    "start_time": "2024-06-24T15:25:46.746Z"
   },
   {
    "duration": 9,
    "start_time": "2024-06-24T15:25:46.765Z"
   },
   {
    "duration": 49,
    "start_time": "2024-06-24T15:25:46.777Z"
   },
   {
    "duration": 8,
    "start_time": "2024-06-24T15:25:46.829Z"
   },
   {
    "duration": 15,
    "start_time": "2024-06-24T15:25:46.840Z"
   },
   {
    "duration": 8,
    "start_time": "2024-06-24T15:25:46.861Z"
   },
   {
    "duration": 52,
    "start_time": "2024-06-24T15:25:46.872Z"
   },
   {
    "duration": 8,
    "start_time": "2024-06-24T15:25:46.927Z"
   },
   {
    "duration": 7,
    "start_time": "2024-06-24T15:25:46.937Z"
   },
   {
    "duration": 8,
    "start_time": "2024-06-24T15:25:46.947Z"
   },
   {
    "duration": 10,
    "start_time": "2024-06-24T15:25:46.958Z"
   },
   {
    "duration": 53,
    "start_time": "2024-06-24T15:25:46.971Z"
   },
   {
    "duration": 14,
    "start_time": "2024-06-24T15:25:47.027Z"
   },
   {
    "duration": 10,
    "start_time": "2024-06-24T15:25:47.044Z"
   },
   {
    "duration": 7,
    "start_time": "2024-06-24T15:25:47.057Z"
   },
   {
    "duration": 7,
    "start_time": "2024-06-24T15:25:47.067Z"
   },
   {
    "duration": 4,
    "start_time": "2024-06-24T15:25:47.124Z"
   },
   {
    "duration": 5,
    "start_time": "2024-06-24T15:25:47.131Z"
   },
   {
    "duration": 9,
    "start_time": "2024-06-24T15:25:47.139Z"
   },
   {
    "duration": 6,
    "start_time": "2024-06-24T15:25:47.151Z"
   },
   {
    "duration": 5,
    "start_time": "2024-06-24T15:25:47.160Z"
   },
   {
    "duration": 63,
    "start_time": "2024-06-24T15:25:47.168Z"
   },
   {
    "duration": 7,
    "start_time": "2024-06-24T15:25:47.234Z"
   },
   {
    "duration": 8,
    "start_time": "2024-06-24T15:25:47.253Z"
   },
   {
    "duration": 8,
    "start_time": "2024-06-24T15:25:47.264Z"
   },
   {
    "duration": 50,
    "start_time": "2024-06-24T15:25:47.275Z"
   },
   {
    "duration": 6,
    "start_time": "2024-06-24T15:25:47.328Z"
   },
   {
    "duration": 24,
    "start_time": "2024-06-24T15:25:47.337Z"
   },
   {
    "duration": 376,
    "start_time": "2024-06-24T15:25:47.364Z"
   },
   {
    "duration": 5,
    "start_time": "2024-06-24T15:25:47.746Z"
   },
   {
    "duration": 8,
    "start_time": "2024-06-24T15:25:47.753Z"
   },
   {
    "duration": 5,
    "start_time": "2024-06-24T15:25:47.764Z"
   },
   {
    "duration": 57,
    "start_time": "2024-06-24T15:25:47.772Z"
   },
   {
    "duration": 308,
    "start_time": "2024-06-24T15:25:47.832Z"
   },
   {
    "duration": 7,
    "start_time": "2024-06-24T15:25:48.143Z"
   },
   {
    "duration": 7,
    "start_time": "2024-06-24T15:25:48.153Z"
   },
   {
    "duration": 9,
    "start_time": "2024-06-24T15:25:48.163Z"
   },
   {
    "duration": 46,
    "start_time": "2024-06-24T15:25:48.176Z"
   },
   {
    "duration": 12,
    "start_time": "2024-06-24T15:25:48.225Z"
   },
   {
    "duration": 6,
    "start_time": "2024-06-24T15:25:48.239Z"
   },
   {
    "duration": 417,
    "start_time": "2024-06-24T15:25:48.248Z"
   },
   {
    "duration": 421,
    "start_time": "2024-06-24T15:25:48.668Z"
   },
   {
    "duration": 0,
    "start_time": "2024-06-24T15:25:49.092Z"
   },
   {
    "duration": 0,
    "start_time": "2024-06-24T15:25:49.094Z"
   },
   {
    "duration": 0,
    "start_time": "2024-06-24T15:25:49.096Z"
   },
   {
    "duration": 1,
    "start_time": "2024-06-24T15:25:49.098Z"
   },
   {
    "duration": 0,
    "start_time": "2024-06-24T15:25:49.101Z"
   },
   {
    "duration": 0,
    "start_time": "2024-06-24T15:25:49.123Z"
   },
   {
    "duration": 0,
    "start_time": "2024-06-24T15:25:49.126Z"
   },
   {
    "duration": 0,
    "start_time": "2024-06-24T15:25:49.128Z"
   },
   {
    "duration": 0,
    "start_time": "2024-06-24T15:25:49.131Z"
   },
   {
    "duration": 0,
    "start_time": "2024-06-24T15:25:49.135Z"
   },
   {
    "duration": 0,
    "start_time": "2024-06-24T15:25:49.137Z"
   },
   {
    "duration": 0,
    "start_time": "2024-06-24T15:25:49.139Z"
   },
   {
    "duration": 0,
    "start_time": "2024-06-24T15:25:49.140Z"
   },
   {
    "duration": 0,
    "start_time": "2024-06-24T15:25:49.143Z"
   },
   {
    "duration": 1,
    "start_time": "2024-06-24T15:25:49.144Z"
   },
   {
    "duration": 0,
    "start_time": "2024-06-24T15:25:49.147Z"
   },
   {
    "duration": 0,
    "start_time": "2024-06-24T15:25:49.151Z"
   },
   {
    "duration": 0,
    "start_time": "2024-06-24T15:25:49.153Z"
   },
   {
    "duration": 0,
    "start_time": "2024-06-24T15:25:49.156Z"
   },
   {
    "duration": 0,
    "start_time": "2024-06-24T15:25:49.158Z"
   },
   {
    "duration": 0,
    "start_time": "2024-06-24T15:25:49.160Z"
   },
   {
    "duration": 0,
    "start_time": "2024-06-24T15:25:49.223Z"
   },
   {
    "duration": 0,
    "start_time": "2024-06-24T15:25:49.225Z"
   },
   {
    "duration": 0,
    "start_time": "2024-06-24T15:25:49.227Z"
   },
   {
    "duration": 0,
    "start_time": "2024-06-24T15:25:49.230Z"
   },
   {
    "duration": 0,
    "start_time": "2024-06-24T15:25:49.233Z"
   },
   {
    "duration": 0,
    "start_time": "2024-06-24T15:25:49.234Z"
   },
   {
    "duration": 0,
    "start_time": "2024-06-24T15:25:49.238Z"
   },
   {
    "duration": 0,
    "start_time": "2024-06-24T15:25:49.239Z"
   },
   {
    "duration": 0,
    "start_time": "2024-06-24T15:25:49.241Z"
   },
   {
    "duration": 0,
    "start_time": "2024-06-24T15:25:49.244Z"
   },
   {
    "duration": 0,
    "start_time": "2024-06-24T15:25:49.247Z"
   },
   {
    "duration": 0,
    "start_time": "2024-06-24T15:25:49.249Z"
   },
   {
    "duration": 0,
    "start_time": "2024-06-24T15:25:49.252Z"
   },
   {
    "duration": 0,
    "start_time": "2024-06-24T15:25:49.254Z"
   },
   {
    "duration": 0,
    "start_time": "2024-06-24T15:25:49.257Z"
   },
   {
    "duration": 35,
    "start_time": "2024-06-24T15:26:05.456Z"
   },
   {
    "duration": 1300,
    "start_time": "2024-06-24T15:26:44.261Z"
   },
   {
    "duration": 4,
    "start_time": "2024-06-24T15:26:45.564Z"
   },
   {
    "duration": 8,
    "start_time": "2024-06-24T15:26:45.571Z"
   },
   {
    "duration": 15,
    "start_time": "2024-06-24T15:26:45.583Z"
   },
   {
    "duration": 18,
    "start_time": "2024-06-24T15:26:45.625Z"
   },
   {
    "duration": 9,
    "start_time": "2024-06-24T15:26:45.646Z"
   },
   {
    "duration": 10,
    "start_time": "2024-06-24T15:26:45.659Z"
   },
   {
    "duration": 50,
    "start_time": "2024-06-24T15:26:45.673Z"
   },
   {
    "duration": 16,
    "start_time": "2024-06-24T15:26:45.726Z"
   },
   {
    "duration": 10,
    "start_time": "2024-06-24T15:26:45.748Z"
   },
   {
    "duration": 7,
    "start_time": "2024-06-24T15:26:45.761Z"
   },
   {
    "duration": 55,
    "start_time": "2024-06-24T15:26:45.771Z"
   },
   {
    "duration": 8,
    "start_time": "2024-06-24T15:26:45.828Z"
   },
   {
    "duration": 8,
    "start_time": "2024-06-24T15:26:45.839Z"
   },
   {
    "duration": 10,
    "start_time": "2024-06-24T15:26:45.850Z"
   },
   {
    "duration": 7,
    "start_time": "2024-06-24T15:26:45.863Z"
   },
   {
    "duration": 58,
    "start_time": "2024-06-24T15:26:45.873Z"
   },
   {
    "duration": 9,
    "start_time": "2024-06-24T15:26:45.935Z"
   },
   {
    "duration": 7,
    "start_time": "2024-06-24T15:26:45.948Z"
   },
   {
    "duration": 7,
    "start_time": "2024-06-24T15:26:45.958Z"
   },
   {
    "duration": 4,
    "start_time": "2024-06-24T15:26:45.967Z"
   },
   {
    "duration": 7,
    "start_time": "2024-06-24T15:26:46.024Z"
   },
   {
    "duration": 9,
    "start_time": "2024-06-24T15:26:46.034Z"
   },
   {
    "duration": 7,
    "start_time": "2024-06-24T15:26:46.045Z"
   },
   {
    "duration": 5,
    "start_time": "2024-06-24T15:26:46.055Z"
   },
   {
    "duration": 62,
    "start_time": "2024-06-24T15:26:46.063Z"
   },
   {
    "duration": 8,
    "start_time": "2024-06-24T15:26:46.128Z"
   },
   {
    "duration": 10,
    "start_time": "2024-06-24T15:26:46.148Z"
   },
   {
    "duration": 8,
    "start_time": "2024-06-24T15:26:46.161Z"
   },
   {
    "duration": 52,
    "start_time": "2024-06-24T15:26:46.172Z"
   },
   {
    "duration": 6,
    "start_time": "2024-06-24T15:26:46.227Z"
   },
   {
    "duration": 20,
    "start_time": "2024-06-24T15:26:46.237Z"
   },
   {
    "duration": 344,
    "start_time": "2024-06-24T15:26:46.259Z"
   },
   {
    "duration": 17,
    "start_time": "2024-06-24T15:26:46.606Z"
   },
   {
    "duration": 17,
    "start_time": "2024-06-24T15:26:46.626Z"
   },
   {
    "duration": 6,
    "start_time": "2024-06-24T15:26:46.646Z"
   },
   {
    "duration": 24,
    "start_time": "2024-06-24T15:26:46.656Z"
   },
   {
    "duration": 359,
    "start_time": "2024-06-24T15:26:46.683Z"
   },
   {
    "duration": 9,
    "start_time": "2024-06-24T15:26:47.045Z"
   },
   {
    "duration": 7,
    "start_time": "2024-06-24T15:26:47.057Z"
   },
   {
    "duration": 9,
    "start_time": "2024-06-24T15:26:47.067Z"
   },
   {
    "duration": 50,
    "start_time": "2024-06-24T15:26:47.079Z"
   },
   {
    "duration": 12,
    "start_time": "2024-06-24T15:26:47.132Z"
   },
   {
    "duration": 6,
    "start_time": "2024-06-24T15:26:47.147Z"
   },
   {
    "duration": 414,
    "start_time": "2024-06-24T15:26:47.156Z"
   },
   {
    "duration": 16,
    "start_time": "2024-06-24T15:26:47.573Z"
   },
   {
    "duration": 30,
    "start_time": "2024-06-24T15:26:47.592Z"
   },
   {
    "duration": 11,
    "start_time": "2024-06-24T15:26:47.625Z"
   },
   {
    "duration": 9,
    "start_time": "2024-06-24T15:26:47.639Z"
   },
   {
    "duration": 6,
    "start_time": "2024-06-24T15:26:47.651Z"
   },
   {
    "duration": 63,
    "start_time": "2024-06-24T15:26:47.660Z"
   },
   {
    "duration": 394,
    "start_time": "2024-06-24T15:26:47.726Z"
   },
   {
    "duration": 7,
    "start_time": "2024-06-24T15:26:48.124Z"
   },
   {
    "duration": 250,
    "start_time": "2024-06-24T15:26:48.133Z"
   },
   {
    "duration": 7,
    "start_time": "2024-06-24T15:26:48.386Z"
   },
   {
    "duration": 27,
    "start_time": "2024-06-24T15:26:48.395Z"
   },
   {
    "duration": 4,
    "start_time": "2024-06-24T15:26:48.425Z"
   },
   {
    "duration": 4,
    "start_time": "2024-06-24T15:26:48.432Z"
   },
   {
    "duration": 6,
    "start_time": "2024-06-24T15:26:48.439Z"
   },
   {
    "duration": 296,
    "start_time": "2024-06-24T15:26:48.448Z"
   },
   {
    "duration": 14,
    "start_time": "2024-06-24T15:26:48.746Z"
   },
   {
    "duration": 4,
    "start_time": "2024-06-24T15:26:48.763Z"
   },
   {
    "duration": 5,
    "start_time": "2024-06-24T15:26:48.769Z"
   },
   {
    "duration": 8,
    "start_time": "2024-06-24T15:26:48.777Z"
   },
   {
    "duration": 40,
    "start_time": "2024-06-24T15:26:48.788Z"
   },
   {
    "duration": 12,
    "start_time": "2024-06-24T15:26:48.832Z"
   },
   {
    "duration": 10,
    "start_time": "2024-06-24T15:26:48.848Z"
   },
   {
    "duration": 6,
    "start_time": "2024-06-24T15:26:48.861Z"
   },
   {
    "duration": 58,
    "start_time": "2024-06-24T15:26:48.869Z"
   },
   {
    "duration": 9,
    "start_time": "2024-06-24T15:26:48.930Z"
   },
   {
    "duration": 7,
    "start_time": "2024-06-24T15:26:48.942Z"
   },
   {
    "duration": 6,
    "start_time": "2024-06-24T15:26:48.952Z"
   },
   {
    "duration": 10,
    "start_time": "2024-06-24T15:26:48.964Z"
   },
   {
    "duration": 8,
    "start_time": "2024-06-24T15:26:49.022Z"
   },
   {
    "duration": 13,
    "start_time": "2024-06-24T15:26:49.033Z"
   },
   {
    "duration": 12,
    "start_time": "2024-06-24T15:26:49.050Z"
   },
   {
    "duration": 6,
    "start_time": "2024-06-24T15:26:49.066Z"
   },
   {
    "duration": 49,
    "start_time": "2024-06-24T15:26:49.076Z"
   },
   {
    "duration": 10,
    "start_time": "2024-06-24T15:26:49.128Z"
   },
   {
    "duration": 8,
    "start_time": "2024-06-24T15:26:49.141Z"
   },
   {
    "duration": 6,
    "start_time": "2024-06-24T15:26:49.152Z"
   },
   {
    "duration": 9,
    "start_time": "2024-06-24T15:32:07.365Z"
   },
   {
    "duration": 324,
    "start_time": "2024-06-24T17:34:31.937Z"
   },
   {
    "duration": 5044,
    "start_time": "2024-06-24T17:35:29.180Z"
   },
   {
    "duration": 9,
    "start_time": "2024-06-24T17:35:34.227Z"
   },
   {
    "duration": 13,
    "start_time": "2024-06-24T17:35:34.240Z"
   },
   {
    "duration": 15,
    "start_time": "2024-06-24T17:35:34.257Z"
   },
   {
    "duration": 17,
    "start_time": "2024-06-24T17:35:34.274Z"
   },
   {
    "duration": 45,
    "start_time": "2024-06-24T17:35:34.294Z"
   },
   {
    "duration": 12,
    "start_time": "2024-06-24T17:35:34.341Z"
   },
   {
    "duration": 7,
    "start_time": "2024-06-24T17:35:34.356Z"
   },
   {
    "duration": 14,
    "start_time": "2024-06-24T17:35:34.367Z"
   },
   {
    "duration": 48,
    "start_time": "2024-06-24T17:35:34.387Z"
   },
   {
    "duration": 7,
    "start_time": "2024-06-24T17:35:34.438Z"
   },
   {
    "duration": 10,
    "start_time": "2024-06-24T17:35:34.448Z"
   },
   {
    "duration": 6,
    "start_time": "2024-06-24T17:35:34.461Z"
   },
   {
    "duration": 7,
    "start_time": "2024-06-24T17:35:34.471Z"
   },
   {
    "duration": 55,
    "start_time": "2024-06-24T17:35:34.481Z"
   },
   {
    "duration": 7,
    "start_time": "2024-06-24T17:35:34.539Z"
   },
   {
    "duration": 15,
    "start_time": "2024-06-24T17:35:34.549Z"
   },
   {
    "duration": 8,
    "start_time": "2024-06-24T17:35:34.567Z"
   },
   {
    "duration": 55,
    "start_time": "2024-06-24T17:35:34.578Z"
   },
   {
    "duration": 8,
    "start_time": "2024-06-24T17:35:34.636Z"
   },
   {
    "duration": 4,
    "start_time": "2024-06-24T17:35:34.648Z"
   },
   {
    "duration": 5,
    "start_time": "2024-06-24T17:35:34.656Z"
   },
   {
    "duration": 9,
    "start_time": "2024-06-24T17:35:34.665Z"
   },
   {
    "duration": 5,
    "start_time": "2024-06-24T17:35:34.677Z"
   },
   {
    "duration": 6,
    "start_time": "2024-06-24T17:35:34.732Z"
   },
   {
    "duration": 15,
    "start_time": "2024-06-24T17:35:34.741Z"
   },
   {
    "duration": 7,
    "start_time": "2024-06-24T17:35:34.760Z"
   },
   {
    "duration": 9,
    "start_time": "2024-06-24T17:35:34.777Z"
   },
   {
    "duration": 7,
    "start_time": "2024-06-24T17:35:34.834Z"
   },
   {
    "duration": 6,
    "start_time": "2024-06-24T17:35:34.845Z"
   },
   {
    "duration": 8,
    "start_time": "2024-06-24T17:35:34.854Z"
   },
   {
    "duration": 23,
    "start_time": "2024-06-24T17:35:34.865Z"
   },
   {
    "duration": 330,
    "start_time": "2024-06-24T17:35:34.932Z"
   },
   {
    "duration": 5,
    "start_time": "2024-06-24T17:35:35.265Z"
   },
   {
    "duration": 8,
    "start_time": "2024-06-24T17:35:35.273Z"
   },
   {
    "duration": 6,
    "start_time": "2024-06-24T17:35:35.284Z"
   },
   {
    "duration": 57,
    "start_time": "2024-06-24T17:35:35.293Z"
   },
   {
    "duration": 318,
    "start_time": "2024-06-24T17:35:35.353Z"
   },
   {
    "duration": 2509,
    "start_time": "2024-06-24T17:35:35.674Z"
   },
   {
    "duration": 0,
    "start_time": "2024-06-24T17:35:38.186Z"
   },
   {
    "duration": 0,
    "start_time": "2024-06-24T17:35:38.188Z"
   },
   {
    "duration": 0,
    "start_time": "2024-06-24T17:35:38.191Z"
   },
   {
    "duration": 0,
    "start_time": "2024-06-24T17:35:38.194Z"
   },
   {
    "duration": 1,
    "start_time": "2024-06-24T17:35:38.196Z"
   },
   {
    "duration": 0,
    "start_time": "2024-06-24T17:35:38.199Z"
   },
   {
    "duration": 0,
    "start_time": "2024-06-24T17:35:38.202Z"
   },
   {
    "duration": 0,
    "start_time": "2024-06-24T17:35:38.233Z"
   },
   {
    "duration": 0,
    "start_time": "2024-06-24T17:35:38.235Z"
   },
   {
    "duration": 0,
    "start_time": "2024-06-24T17:35:38.237Z"
   },
   {
    "duration": 0,
    "start_time": "2024-06-24T17:35:38.240Z"
   },
   {
    "duration": 0,
    "start_time": "2024-06-24T17:35:38.242Z"
   },
   {
    "duration": 0,
    "start_time": "2024-06-24T17:35:38.244Z"
   },
   {
    "duration": 0,
    "start_time": "2024-06-24T17:35:38.246Z"
   },
   {
    "duration": 0,
    "start_time": "2024-06-24T17:35:38.248Z"
   },
   {
    "duration": 0,
    "start_time": "2024-06-24T17:35:38.250Z"
   },
   {
    "duration": 0,
    "start_time": "2024-06-24T17:35:38.253Z"
   },
   {
    "duration": 0,
    "start_time": "2024-06-24T17:35:38.255Z"
   },
   {
    "duration": 0,
    "start_time": "2024-06-24T17:35:38.259Z"
   },
   {
    "duration": 0,
    "start_time": "2024-06-24T17:35:38.262Z"
   },
   {
    "duration": 0,
    "start_time": "2024-06-24T17:35:38.266Z"
   },
   {
    "duration": 0,
    "start_time": "2024-06-24T17:35:38.268Z"
   },
   {
    "duration": 0,
    "start_time": "2024-06-24T17:35:38.270Z"
   },
   {
    "duration": 0,
    "start_time": "2024-06-24T17:35:38.332Z"
   },
   {
    "duration": 0,
    "start_time": "2024-06-24T17:35:38.334Z"
   },
   {
    "duration": 0,
    "start_time": "2024-06-24T17:35:38.336Z"
   },
   {
    "duration": 0,
    "start_time": "2024-06-24T17:35:38.338Z"
   },
   {
    "duration": 0,
    "start_time": "2024-06-24T17:35:38.339Z"
   },
   {
    "duration": 0,
    "start_time": "2024-06-24T17:35:38.342Z"
   },
   {
    "duration": 0,
    "start_time": "2024-06-24T17:35:38.345Z"
   },
   {
    "duration": 0,
    "start_time": "2024-06-24T17:35:38.347Z"
   },
   {
    "duration": 0,
    "start_time": "2024-06-24T17:35:38.350Z"
   },
   {
    "duration": 1,
    "start_time": "2024-06-24T17:35:38.352Z"
   },
   {
    "duration": 0,
    "start_time": "2024-06-24T17:35:38.355Z"
   },
   {
    "duration": 0,
    "start_time": "2024-06-24T17:35:38.357Z"
   },
   {
    "duration": 0,
    "start_time": "2024-06-24T17:35:38.359Z"
   },
   {
    "duration": 0,
    "start_time": "2024-06-24T17:35:38.361Z"
   },
   {
    "duration": 0,
    "start_time": "2024-06-24T17:35:38.363Z"
   },
   {
    "duration": 0,
    "start_time": "2024-06-24T17:35:38.365Z"
   },
   {
    "duration": 0,
    "start_time": "2024-06-24T17:35:38.367Z"
   },
   {
    "duration": 0,
    "start_time": "2024-06-24T17:35:38.370Z"
   },
   {
    "duration": 0,
    "start_time": "2024-06-24T17:35:38.372Z"
   },
   {
    "duration": 0,
    "start_time": "2024-06-24T17:35:38.433Z"
   },
   {
    "duration": 8,
    "start_time": "2024-06-24T18:14:06.518Z"
   },
   {
    "duration": 7,
    "start_time": "2024-06-24T18:14:07.052Z"
   },
   {
    "duration": 9,
    "start_time": "2024-06-24T18:14:07.435Z"
   },
   {
    "duration": 9,
    "start_time": "2024-06-24T18:14:07.818Z"
   },
   {
    "duration": 12,
    "start_time": "2024-06-24T18:14:08.197Z"
   },
   {
    "duration": 6,
    "start_time": "2024-06-24T18:14:08.624Z"
   },
   {
    "duration": 316,
    "start_time": "2024-06-24T18:14:09.066Z"
   },
   {
    "duration": 13,
    "start_time": "2024-06-24T18:14:32.252Z"
   },
   {
    "duration": 8,
    "start_time": "2024-06-24T19:50:24.117Z"
   },
   {
    "duration": 7,
    "start_time": "2024-06-24T19:50:24.528Z"
   },
   {
    "duration": 9,
    "start_time": "2024-06-24T19:50:24.905Z"
   },
   {
    "duration": 9,
    "start_time": "2024-06-24T19:50:25.271Z"
   },
   {
    "duration": 10,
    "start_time": "2024-06-24T19:50:25.617Z"
   },
   {
    "duration": 6,
    "start_time": "2024-06-24T19:50:26.021Z"
   },
   {
    "duration": 329,
    "start_time": "2024-06-24T19:50:26.639Z"
   },
   {
    "duration": 232,
    "start_time": "2024-06-24T19:51:04.893Z"
   },
   {
    "duration": 1256,
    "start_time": "2024-06-24T19:55:08.238Z"
   },
   {
    "duration": 5,
    "start_time": "2024-06-24T19:55:09.498Z"
   },
   {
    "duration": 27,
    "start_time": "2024-06-24T19:55:09.509Z"
   },
   {
    "duration": 16,
    "start_time": "2024-06-24T19:55:09.538Z"
   },
   {
    "duration": 15,
    "start_time": "2024-06-24T19:55:09.558Z"
   },
   {
    "duration": 8,
    "start_time": "2024-06-24T19:55:09.576Z"
   },
   {
    "duration": 46,
    "start_time": "2024-06-24T19:55:09.587Z"
   },
   {
    "duration": 8,
    "start_time": "2024-06-24T19:55:09.635Z"
   },
   {
    "duration": 15,
    "start_time": "2024-06-24T19:55:09.646Z"
   },
   {
    "duration": 10,
    "start_time": "2024-06-24T19:55:09.664Z"
   },
   {
    "duration": 8,
    "start_time": "2024-06-24T19:55:09.677Z"
   },
   {
    "duration": 8,
    "start_time": "2024-06-24T19:55:09.733Z"
   },
   {
    "duration": 7,
    "start_time": "2024-06-24T19:55:09.743Z"
   },
   {
    "duration": 8,
    "start_time": "2024-06-24T19:55:09.759Z"
   },
   {
    "duration": 10,
    "start_time": "2024-06-24T19:55:09.769Z"
   },
   {
    "duration": 52,
    "start_time": "2024-06-24T19:55:09.781Z"
   },
   {
    "duration": 17,
    "start_time": "2024-06-24T19:55:09.836Z"
   },
   {
    "duration": 10,
    "start_time": "2024-06-24T19:55:09.856Z"
   },
   {
    "duration": 8,
    "start_time": "2024-06-24T19:55:09.869Z"
   },
   {
    "duration": 53,
    "start_time": "2024-06-24T19:55:09.880Z"
   },
   {
    "duration": 4,
    "start_time": "2024-06-24T19:55:09.937Z"
   },
   {
    "duration": 6,
    "start_time": "2024-06-24T19:55:09.944Z"
   },
   {
    "duration": 9,
    "start_time": "2024-06-24T19:55:09.953Z"
   },
   {
    "duration": 6,
    "start_time": "2024-06-24T19:55:09.965Z"
   },
   {
    "duration": 5,
    "start_time": "2024-06-24T19:55:09.974Z"
   },
   {
    "duration": 13,
    "start_time": "2024-06-24T19:55:10.034Z"
   },
   {
    "duration": 8,
    "start_time": "2024-06-24T19:55:10.049Z"
   },
   {
    "duration": 9,
    "start_time": "2024-06-24T19:55:10.060Z"
   },
   {
    "duration": 8,
    "start_time": "2024-06-24T19:55:10.073Z"
   },
   {
    "duration": 50,
    "start_time": "2024-06-24T19:55:10.083Z"
   },
   {
    "duration": 7,
    "start_time": "2024-06-24T19:55:10.135Z"
   },
   {
    "duration": 22,
    "start_time": "2024-06-24T19:55:10.146Z"
   },
   {
    "duration": 347,
    "start_time": "2024-06-24T19:55:10.171Z"
   },
   {
    "duration": 12,
    "start_time": "2024-06-24T19:55:10.522Z"
   },
   {
    "duration": 10,
    "start_time": "2024-06-24T19:55:10.539Z"
   },
   {
    "duration": 8,
    "start_time": "2024-06-24T19:55:10.552Z"
   },
   {
    "duration": 32,
    "start_time": "2024-06-24T19:55:10.564Z"
   },
   {
    "duration": 358,
    "start_time": "2024-06-24T19:55:10.598Z"
   },
   {
    "duration": 2663,
    "start_time": "2024-06-24T19:55:10.959Z"
   },
   {
    "duration": 0,
    "start_time": "2024-06-24T19:55:13.629Z"
   },
   {
    "duration": 0,
    "start_time": "2024-06-24T19:55:13.634Z"
   },
   {
    "duration": 0,
    "start_time": "2024-06-24T19:55:13.635Z"
   },
   {
    "duration": 0,
    "start_time": "2024-06-24T19:55:13.637Z"
   },
   {
    "duration": 0,
    "start_time": "2024-06-24T19:55:13.639Z"
   },
   {
    "duration": 1,
    "start_time": "2024-06-24T19:55:13.640Z"
   },
   {
    "duration": 0,
    "start_time": "2024-06-24T19:55:13.642Z"
   },
   {
    "duration": 0,
    "start_time": "2024-06-24T19:55:13.643Z"
   },
   {
    "duration": 0,
    "start_time": "2024-06-24T19:55:13.646Z"
   },
   {
    "duration": 0,
    "start_time": "2024-06-24T19:55:13.647Z"
   },
   {
    "duration": 0,
    "start_time": "2024-06-24T19:55:13.649Z"
   },
   {
    "duration": 0,
    "start_time": "2024-06-24T19:55:13.650Z"
   },
   {
    "duration": 0,
    "start_time": "2024-06-24T19:55:13.652Z"
   },
   {
    "duration": 0,
    "start_time": "2024-06-24T19:55:13.653Z"
   },
   {
    "duration": 0,
    "start_time": "2024-06-24T19:55:13.659Z"
   },
   {
    "duration": 0,
    "start_time": "2024-06-24T19:55:13.661Z"
   },
   {
    "duration": 1,
    "start_time": "2024-06-24T19:55:13.662Z"
   },
   {
    "duration": 0,
    "start_time": "2024-06-24T19:55:13.665Z"
   },
   {
    "duration": 0,
    "start_time": "2024-06-24T19:55:13.667Z"
   },
   {
    "duration": 0,
    "start_time": "2024-06-24T19:55:13.668Z"
   },
   {
    "duration": 0,
    "start_time": "2024-06-24T19:55:13.670Z"
   },
   {
    "duration": 0,
    "start_time": "2024-06-24T19:55:13.672Z"
   },
   {
    "duration": 0,
    "start_time": "2024-06-24T19:55:13.673Z"
   },
   {
    "duration": 0,
    "start_time": "2024-06-24T19:55:13.675Z"
   },
   {
    "duration": 0,
    "start_time": "2024-06-24T19:55:13.677Z"
   },
   {
    "duration": 0,
    "start_time": "2024-06-24T19:55:13.733Z"
   },
   {
    "duration": 0,
    "start_time": "2024-06-24T19:55:13.735Z"
   },
   {
    "duration": 0,
    "start_time": "2024-06-24T19:55:13.737Z"
   },
   {
    "duration": 0,
    "start_time": "2024-06-24T19:55:13.739Z"
   },
   {
    "duration": 0,
    "start_time": "2024-06-24T19:55:13.740Z"
   },
   {
    "duration": 0,
    "start_time": "2024-06-24T19:55:13.742Z"
   },
   {
    "duration": 0,
    "start_time": "2024-06-24T19:55:13.744Z"
   },
   {
    "duration": 0,
    "start_time": "2024-06-24T19:55:13.745Z"
   },
   {
    "duration": 0,
    "start_time": "2024-06-24T19:55:13.748Z"
   },
   {
    "duration": 0,
    "start_time": "2024-06-24T19:55:13.749Z"
   },
   {
    "duration": 0,
    "start_time": "2024-06-24T19:55:13.751Z"
   },
   {
    "duration": 0,
    "start_time": "2024-06-24T19:55:13.753Z"
   },
   {
    "duration": 0,
    "start_time": "2024-06-24T19:55:13.755Z"
   },
   {
    "duration": 0,
    "start_time": "2024-06-24T19:55:13.757Z"
   },
   {
    "duration": 0,
    "start_time": "2024-06-24T19:55:13.763Z"
   },
   {
    "duration": 0,
    "start_time": "2024-06-24T19:55:13.765Z"
   },
   {
    "duration": 0,
    "start_time": "2024-06-24T19:55:13.766Z"
   },
   {
    "duration": 0,
    "start_time": "2024-06-24T19:55:13.768Z"
   },
   {
    "duration": 8,
    "start_time": "2024-06-24T19:55:37.922Z"
   },
   {
    "duration": 7,
    "start_time": "2024-06-24T19:55:38.632Z"
   },
   {
    "duration": 11,
    "start_time": "2024-06-24T19:55:39.104Z"
   },
   {
    "duration": 11,
    "start_time": "2024-06-24T19:55:39.522Z"
   },
   {
    "duration": 14,
    "start_time": "2024-06-24T19:55:39.941Z"
   },
   {
    "duration": 7,
    "start_time": "2024-06-24T19:55:40.389Z"
   },
   {
    "duration": 338,
    "start_time": "2024-06-24T19:55:41.150Z"
   },
   {
    "duration": 48,
    "start_time": "2024-06-24T20:06:13.980Z"
   },
   {
    "duration": 200,
    "start_time": "2024-06-24T20:06:28.755Z"
   },
   {
    "duration": 31,
    "start_time": "2024-06-24T20:06:47.280Z"
   },
   {
    "duration": 30,
    "start_time": "2024-06-24T20:07:36.836Z"
   },
   {
    "duration": 8,
    "start_time": "2024-06-24T20:07:37.479Z"
   },
   {
    "duration": 6,
    "start_time": "2024-06-24T20:07:38.010Z"
   },
   {
    "duration": 10,
    "start_time": "2024-06-24T20:07:38.699Z"
   },
   {
    "duration": 9,
    "start_time": "2024-06-24T20:07:39.572Z"
   },
   {
    "duration": 11,
    "start_time": "2024-06-24T20:07:40.102Z"
   },
   {
    "duration": 7,
    "start_time": "2024-06-24T20:07:42.620Z"
   },
   {
    "duration": 341,
    "start_time": "2024-06-24T20:07:44.097Z"
   },
   {
    "duration": 58,
    "start_time": "2024-06-24T20:08:35.818Z"
   },
   {
    "duration": 200,
    "start_time": "2024-06-24T20:08:42.741Z"
   },
   {
    "duration": 42,
    "start_time": "2024-06-24T20:10:23.334Z"
   },
   {
    "duration": 30,
    "start_time": "2024-06-24T20:11:30.155Z"
   },
   {
    "duration": 64,
    "start_time": "2024-06-24T20:18:25.158Z"
   },
   {
    "duration": 399,
    "start_time": "2024-06-24T20:18:31.322Z"
   },
   {
    "duration": 364,
    "start_time": "2024-06-24T20:19:05.605Z"
   },
   {
    "duration": 47,
    "start_time": "2024-06-24T20:34:09.104Z"
   },
   {
    "duration": 542,
    "start_time": "2024-06-24T20:34:14.007Z"
   },
   {
    "duration": 361,
    "start_time": "2024-06-24T20:34:24.725Z"
   },
   {
    "duration": 1473,
    "start_time": "2024-06-24T20:34:31.114Z"
   },
   {
    "duration": 362,
    "start_time": "2024-06-24T20:34:39.898Z"
   },
   {
    "duration": 2412,
    "start_time": "2024-06-24T20:52:52.164Z"
   },
   {
    "duration": 510,
    "start_time": "2024-06-24T20:53:09.500Z"
   },
   {
    "duration": 450,
    "start_time": "2024-06-24T22:11:44.741Z"
   },
   {
    "duration": 422,
    "start_time": "2024-06-24T22:11:54.844Z"
   },
   {
    "duration": 477,
    "start_time": "2024-06-24T22:14:11.426Z"
   },
   {
    "duration": 453,
    "start_time": "2024-06-24T22:14:20.437Z"
   },
   {
    "duration": 52,
    "start_time": "2024-06-24T22:51:55.660Z"
   },
   {
    "duration": 565,
    "start_time": "2024-06-24T22:52:05.833Z"
   },
   {
    "duration": 516,
    "start_time": "2024-06-24T22:55:07.616Z"
   },
   {
    "duration": 325,
    "start_time": "2024-06-24T22:58:27.844Z"
   },
   {
    "duration": 324,
    "start_time": "2024-06-24T22:58:36.747Z"
   },
   {
    "duration": 207,
    "start_time": "2024-06-25T00:58:09.476Z"
   },
   {
    "duration": 28,
    "start_time": "2024-06-25T00:59:30.322Z"
   },
   {
    "duration": 28,
    "start_time": "2024-06-25T01:02:13.641Z"
   },
   {
    "duration": 28,
    "start_time": "2024-06-25T01:02:16.890Z"
   },
   {
    "duration": 19,
    "start_time": "2024-06-25T01:02:29.542Z"
   },
   {
    "duration": 173,
    "start_time": "2024-06-25T01:02:30.967Z"
   },
   {
    "duration": 192,
    "start_time": "2024-06-25T01:02:43.728Z"
   },
   {
    "duration": 55,
    "start_time": "2024-06-25T01:05:50.803Z"
   },
   {
    "duration": 230,
    "start_time": "2024-06-25T01:06:01.647Z"
   },
   {
    "duration": 23,
    "start_time": "2024-06-25T01:09:28.201Z"
   },
   {
    "duration": 12,
    "start_time": "2024-06-25T01:09:32.331Z"
   },
   {
    "duration": 180,
    "start_time": "2024-06-25T01:11:39.332Z"
   },
   {
    "duration": 11,
    "start_time": "2024-06-25T01:11:57.282Z"
   },
   {
    "duration": 86,
    "start_time": "2024-06-25T01:11:59.328Z"
   },
   {
    "duration": 89,
    "start_time": "2024-06-25T01:12:12.866Z"
   },
   {
    "duration": 28,
    "start_time": "2024-06-25T01:12:37.808Z"
   },
   {
    "duration": 4,
    "start_time": "2024-06-25T01:12:52.194Z"
   },
   {
    "duration": 90,
    "start_time": "2024-06-25T01:13:01.681Z"
   },
   {
    "duration": 4,
    "start_time": "2024-06-25T01:13:12.608Z"
   },
   {
    "duration": 91,
    "start_time": "2024-06-25T01:14:51.706Z"
   },
   {
    "duration": 11,
    "start_time": "2024-06-25T01:14:53.023Z"
   },
   {
    "duration": 89,
    "start_time": "2024-06-25T01:14:53.938Z"
   },
   {
    "duration": 6,
    "start_time": "2024-06-25T01:15:28.621Z"
   },
   {
    "duration": 11,
    "start_time": "2024-06-25T01:15:29.524Z"
   },
   {
    "duration": 100,
    "start_time": "2024-06-25T01:15:30.213Z"
   },
   {
    "duration": 98,
    "start_time": "2024-06-25T01:15:39.997Z"
   },
   {
    "duration": 10,
    "start_time": "2024-06-25T01:17:18.781Z"
   },
   {
    "duration": 97,
    "start_time": "2024-06-25T01:17:19.717Z"
   },
   {
    "duration": 32,
    "start_time": "2024-06-25T01:17:46.713Z"
   },
   {
    "duration": 25,
    "start_time": "2024-06-25T01:18:13.646Z"
   },
   {
    "duration": 22,
    "start_time": "2024-06-25T01:18:23.835Z"
   },
   {
    "duration": 11,
    "start_time": "2024-06-25T01:21:03.968Z"
   },
   {
    "duration": 7,
    "start_time": "2024-06-25T01:24:46.491Z"
   },
   {
    "duration": 12,
    "start_time": "2024-06-25T01:24:46.915Z"
   },
   {
    "duration": 89,
    "start_time": "2024-06-25T01:24:47.317Z"
   },
   {
    "duration": 100,
    "start_time": "2024-06-25T01:29:16.788Z"
   },
   {
    "duration": 7,
    "start_time": "2024-06-25T01:29:24.521Z"
   },
   {
    "duration": 11,
    "start_time": "2024-06-25T01:29:24.983Z"
   },
   {
    "duration": 100,
    "start_time": "2024-06-25T01:29:36.389Z"
   },
   {
    "duration": 110,
    "start_time": "2024-06-25T01:30:30.649Z"
   },
   {
    "duration": 21,
    "start_time": "2024-06-25T01:35:19.957Z"
   },
   {
    "duration": 12,
    "start_time": "2024-06-25T01:35:39.068Z"
   },
   {
    "duration": 9,
    "start_time": "2024-06-25T01:35:49.973Z"
   },
   {
    "duration": 36,
    "start_time": "2024-06-25T01:35:58.297Z"
   },
   {
    "duration": 20,
    "start_time": "2024-06-25T01:36:14.424Z"
   },
   {
    "duration": 10,
    "start_time": "2024-06-25T01:39:50.485Z"
   },
   {
    "duration": 14,
    "start_time": "2024-06-25T01:40:03.376Z"
   },
   {
    "duration": 13,
    "start_time": "2024-06-25T01:42:50.468Z"
   },
   {
    "duration": 582,
    "start_time": "2024-06-25T01:43:08.845Z"
   },
   {
    "duration": 15,
    "start_time": "2024-06-25T01:45:02.607Z"
   },
   {
    "duration": 141,
    "start_time": "2024-06-25T01:45:24.612Z"
   },
   {
    "duration": 105,
    "start_time": "2024-06-25T01:48:35.267Z"
   },
   {
    "duration": 9,
    "start_time": "2024-06-25T01:49:32.823Z"
   },
   {
    "duration": 176,
    "start_time": "2024-06-25T01:49:40.693Z"
   },
   {
    "duration": 41,
    "start_time": "2024-06-25T01:50:02.985Z"
   },
   {
    "duration": 111,
    "start_time": "2024-06-25T01:50:27.157Z"
   },
   {
    "duration": 34,
    "start_time": "2024-06-25T01:50:34.811Z"
   },
   {
    "duration": 13,
    "start_time": "2024-06-25T01:50:39.874Z"
   },
   {
    "duration": 137,
    "start_time": "2024-06-25T01:54:25.379Z"
   },
   {
    "duration": 137,
    "start_time": "2024-06-25T01:54:35.133Z"
   },
   {
    "duration": 131,
    "start_time": "2024-06-25T01:54:43.665Z"
   },
   {
    "duration": 147,
    "start_time": "2024-06-25T01:54:53.206Z"
   },
   {
    "duration": 40,
    "start_time": "2024-06-25T01:56:41.816Z"
   },
   {
    "duration": 313,
    "start_time": "2024-06-25T13:19:28.954Z"
   },
   {
    "duration": 5015,
    "start_time": "2024-06-25T13:19:40.136Z"
   },
   {
    "duration": 3,
    "start_time": "2024-06-25T13:19:45.156Z"
   },
   {
    "duration": 15,
    "start_time": "2024-06-25T13:19:45.163Z"
   },
   {
    "duration": 15,
    "start_time": "2024-06-25T13:19:45.180Z"
   },
   {
    "duration": 42,
    "start_time": "2024-06-25T13:19:45.199Z"
   },
   {
    "duration": 9,
    "start_time": "2024-06-25T13:19:45.244Z"
   },
   {
    "duration": 15,
    "start_time": "2024-06-25T13:19:45.256Z"
   },
   {
    "duration": 9,
    "start_time": "2024-06-25T13:19:45.273Z"
   },
   {
    "duration": 51,
    "start_time": "2024-06-25T13:19:45.285Z"
   },
   {
    "duration": 10,
    "start_time": "2024-06-25T13:19:45.340Z"
   },
   {
    "duration": 8,
    "start_time": "2024-06-25T13:19:45.352Z"
   },
   {
    "duration": 11,
    "start_time": "2024-06-25T13:19:45.362Z"
   },
   {
    "duration": 6,
    "start_time": "2024-06-25T13:19:45.376Z"
   },
   {
    "duration": 9,
    "start_time": "2024-06-25T13:19:45.433Z"
   },
   {
    "duration": 11,
    "start_time": "2024-06-25T13:19:45.445Z"
   },
   {
    "duration": 6,
    "start_time": "2024-06-25T13:19:45.460Z"
   },
   {
    "duration": 14,
    "start_time": "2024-06-25T13:19:45.470Z"
   },
   {
    "duration": 10,
    "start_time": "2024-06-25T13:19:45.534Z"
   },
   {
    "duration": 7,
    "start_time": "2024-06-25T13:19:45.548Z"
   },
   {
    "duration": 10,
    "start_time": "2024-06-25T13:19:45.559Z"
   },
   {
    "duration": 4,
    "start_time": "2024-06-25T13:19:45.572Z"
   },
   {
    "duration": 6,
    "start_time": "2024-06-25T13:19:45.578Z"
   },
   {
    "duration": 11,
    "start_time": "2024-06-25T13:19:45.632Z"
   },
   {
    "duration": 6,
    "start_time": "2024-06-25T13:19:45.645Z"
   },
   {
    "duration": 5,
    "start_time": "2024-06-25T13:19:45.654Z"
   },
   {
    "duration": 13,
    "start_time": "2024-06-25T13:19:45.662Z"
   },
   {
    "duration": 8,
    "start_time": "2024-06-25T13:19:45.679Z"
   },
   {
    "duration": 10,
    "start_time": "2024-06-25T13:19:45.734Z"
   },
   {
    "duration": 11,
    "start_time": "2024-06-25T13:19:45.747Z"
   },
   {
    "duration": 8,
    "start_time": "2024-06-25T13:19:45.761Z"
   },
   {
    "duration": 7,
    "start_time": "2024-06-25T13:19:45.773Z"
   },
   {
    "duration": 62,
    "start_time": "2024-06-25T13:19:45.783Z"
   },
   {
    "duration": 349,
    "start_time": "2024-06-25T13:19:45.849Z"
   },
   {
    "duration": 6,
    "start_time": "2024-06-25T13:19:46.201Z"
   },
   {
    "duration": 23,
    "start_time": "2024-06-25T13:19:46.210Z"
   },
   {
    "duration": 6,
    "start_time": "2024-06-25T13:19:46.235Z"
   },
   {
    "duration": 21,
    "start_time": "2024-06-25T13:19:46.245Z"
   },
   {
    "duration": 341,
    "start_time": "2024-06-25T13:19:46.269Z"
   },
   {
    "duration": 403,
    "start_time": "2024-06-25T13:19:46.613Z"
   },
   {
    "duration": 1,
    "start_time": "2024-06-25T13:19:47.022Z"
   },
   {
    "duration": 0,
    "start_time": "2024-06-25T13:19:47.033Z"
   },
   {
    "duration": 0,
    "start_time": "2024-06-25T13:19:47.035Z"
   },
   {
    "duration": 0,
    "start_time": "2024-06-25T13:19:47.038Z"
   },
   {
    "duration": 0,
    "start_time": "2024-06-25T13:19:47.042Z"
   },
   {
    "duration": 0,
    "start_time": "2024-06-25T13:19:47.044Z"
   },
   {
    "duration": 0,
    "start_time": "2024-06-25T13:19:47.045Z"
   },
   {
    "duration": 0,
    "start_time": "2024-06-25T13:19:47.048Z"
   },
   {
    "duration": 0,
    "start_time": "2024-06-25T13:19:47.050Z"
   },
   {
    "duration": 0,
    "start_time": "2024-06-25T13:19:47.053Z"
   },
   {
    "duration": 0,
    "start_time": "2024-06-25T13:19:47.055Z"
   },
   {
    "duration": 0,
    "start_time": "2024-06-25T13:19:47.057Z"
   },
   {
    "duration": 0,
    "start_time": "2024-06-25T13:19:47.059Z"
   },
   {
    "duration": 0,
    "start_time": "2024-06-25T13:19:47.062Z"
   },
   {
    "duration": 0,
    "start_time": "2024-06-25T13:19:47.064Z"
   },
   {
    "duration": 0,
    "start_time": "2024-06-25T13:19:47.067Z"
   },
   {
    "duration": 0,
    "start_time": "2024-06-25T13:19:47.068Z"
   },
   {
    "duration": 0,
    "start_time": "2024-06-25T13:19:47.070Z"
   },
   {
    "duration": 0,
    "start_time": "2024-06-25T13:19:47.073Z"
   },
   {
    "duration": 0,
    "start_time": "2024-06-25T13:19:47.136Z"
   },
   {
    "duration": 0,
    "start_time": "2024-06-25T13:19:47.138Z"
   },
   {
    "duration": 0,
    "start_time": "2024-06-25T13:19:47.141Z"
   },
   {
    "duration": 0,
    "start_time": "2024-06-25T13:19:47.144Z"
   },
   {
    "duration": 0,
    "start_time": "2024-06-25T13:19:47.145Z"
   },
   {
    "duration": 0,
    "start_time": "2024-06-25T13:19:47.147Z"
   },
   {
    "duration": 0,
    "start_time": "2024-06-25T13:19:47.150Z"
   },
   {
    "duration": 0,
    "start_time": "2024-06-25T13:19:47.152Z"
   },
   {
    "duration": 0,
    "start_time": "2024-06-25T13:19:47.155Z"
   },
   {
    "duration": 0,
    "start_time": "2024-06-25T13:19:47.157Z"
   },
   {
    "duration": 0,
    "start_time": "2024-06-25T13:19:47.161Z"
   },
   {
    "duration": 0,
    "start_time": "2024-06-25T13:19:47.163Z"
   },
   {
    "duration": 0,
    "start_time": "2024-06-25T13:19:47.169Z"
   },
   {
    "duration": 0,
    "start_time": "2024-06-25T13:19:47.175Z"
   },
   {
    "duration": 0,
    "start_time": "2024-06-25T13:19:47.178Z"
   },
   {
    "duration": 0,
    "start_time": "2024-06-25T13:19:47.180Z"
   },
   {
    "duration": 0,
    "start_time": "2024-06-25T13:19:47.233Z"
   },
   {
    "duration": 0,
    "start_time": "2024-06-25T13:19:47.235Z"
   },
   {
    "duration": 0,
    "start_time": "2024-06-25T13:19:47.239Z"
   },
   {
    "duration": 29,
    "start_time": "2024-06-25T13:28:52.407Z"
   },
   {
    "duration": 10,
    "start_time": "2024-06-25T13:28:59.452Z"
   },
   {
    "duration": 35,
    "start_time": "2024-06-25T13:35:46.508Z"
   },
   {
    "duration": 912,
    "start_time": "2024-06-25T15:26:10.101Z"
   },
   {
    "duration": 36,
    "start_time": "2024-06-25T15:26:19.293Z"
   },
   {
    "duration": 608,
    "start_time": "2024-06-25T15:26:31.670Z"
   },
   {
    "duration": 105,
    "start_time": "2024-06-25T15:29:12.557Z"
   },
   {
    "duration": 89,
    "start_time": "2024-06-25T15:31:06.847Z"
   },
   {
    "duration": 1334,
    "start_time": "2024-06-25T15:31:23.600Z"
   },
   {
    "duration": 4,
    "start_time": "2024-06-25T15:31:24.938Z"
   },
   {
    "duration": 12,
    "start_time": "2024-06-25T15:31:24.945Z"
   },
   {
    "duration": 17,
    "start_time": "2024-06-25T15:31:24.960Z"
   },
   {
    "duration": 53,
    "start_time": "2024-06-25T15:31:24.982Z"
   },
   {
    "duration": 8,
    "start_time": "2024-06-25T15:31:25.039Z"
   },
   {
    "duration": 11,
    "start_time": "2024-06-25T15:31:25.050Z"
   },
   {
    "duration": 8,
    "start_time": "2024-06-25T15:31:25.063Z"
   },
   {
    "duration": 15,
    "start_time": "2024-06-25T15:31:25.075Z"
   },
   {
    "duration": 9,
    "start_time": "2024-06-25T15:31:25.134Z"
   },
   {
    "duration": 8,
    "start_time": "2024-06-25T15:31:25.146Z"
   },
   {
    "duration": 8,
    "start_time": "2024-06-25T15:31:25.157Z"
   },
   {
    "duration": 7,
    "start_time": "2024-06-25T15:31:25.168Z"
   },
   {
    "duration": 51,
    "start_time": "2024-06-25T15:31:25.182Z"
   },
   {
    "duration": 9,
    "start_time": "2024-06-25T15:31:25.236Z"
   },
   {
    "duration": 8,
    "start_time": "2024-06-25T15:31:25.247Z"
   },
   {
    "duration": 16,
    "start_time": "2024-06-25T15:31:25.259Z"
   },
   {
    "duration": 10,
    "start_time": "2024-06-25T15:31:25.278Z"
   },
   {
    "duration": 7,
    "start_time": "2024-06-25T15:31:25.334Z"
   },
   {
    "duration": 7,
    "start_time": "2024-06-25T15:31:25.344Z"
   },
   {
    "duration": 3,
    "start_time": "2024-06-25T15:31:25.355Z"
   },
   {
    "duration": 5,
    "start_time": "2024-06-25T15:31:25.362Z"
   },
   {
    "duration": 9,
    "start_time": "2024-06-25T15:31:25.370Z"
   },
   {
    "duration": 6,
    "start_time": "2024-06-25T15:31:25.434Z"
   },
   {
    "duration": 6,
    "start_time": "2024-06-25T15:31:25.443Z"
   },
   {
    "duration": 13,
    "start_time": "2024-06-25T15:31:25.452Z"
   },
   {
    "duration": 8,
    "start_time": "2024-06-25T15:31:25.468Z"
   },
   {
    "duration": 54,
    "start_time": "2024-06-25T15:31:25.479Z"
   },
   {
    "duration": 8,
    "start_time": "2024-06-25T15:31:25.536Z"
   },
   {
    "duration": 6,
    "start_time": "2024-06-25T15:31:25.546Z"
   },
   {
    "duration": 9,
    "start_time": "2024-06-25T15:31:25.555Z"
   },
   {
    "duration": 22,
    "start_time": "2024-06-25T15:31:25.568Z"
   },
   {
    "duration": 338,
    "start_time": "2024-06-25T15:31:25.634Z"
   },
   {
    "duration": 5,
    "start_time": "2024-06-25T15:31:25.975Z"
   },
   {
    "duration": 7,
    "start_time": "2024-06-25T15:31:25.984Z"
   },
   {
    "duration": 6,
    "start_time": "2024-06-25T15:31:25.994Z"
   },
   {
    "duration": 48,
    "start_time": "2024-06-25T15:31:26.003Z"
   },
   {
    "duration": 325,
    "start_time": "2024-06-25T15:31:26.054Z"
   },
   {
    "duration": 668,
    "start_time": "2024-06-25T15:31:26.382Z"
   },
   {
    "duration": 0,
    "start_time": "2024-06-25T15:31:27.058Z"
   },
   {
    "duration": 0,
    "start_time": "2024-06-25T15:31:27.060Z"
   },
   {
    "duration": 0,
    "start_time": "2024-06-25T15:31:27.062Z"
   },
   {
    "duration": 0,
    "start_time": "2024-06-25T15:31:27.065Z"
   },
   {
    "duration": 0,
    "start_time": "2024-06-25T15:31:27.067Z"
   },
   {
    "duration": 0,
    "start_time": "2024-06-25T15:31:27.069Z"
   },
   {
    "duration": 0,
    "start_time": "2024-06-25T15:31:27.073Z"
   },
   {
    "duration": 0,
    "start_time": "2024-06-25T15:31:27.076Z"
   },
   {
    "duration": 0,
    "start_time": "2024-06-25T15:31:27.077Z"
   },
   {
    "duration": 0,
    "start_time": "2024-06-25T15:31:27.079Z"
   },
   {
    "duration": 0,
    "start_time": "2024-06-25T15:31:27.081Z"
   },
   {
    "duration": 0,
    "start_time": "2024-06-25T15:31:27.083Z"
   },
   {
    "duration": 0,
    "start_time": "2024-06-25T15:31:27.085Z"
   },
   {
    "duration": 0,
    "start_time": "2024-06-25T15:31:27.088Z"
   },
   {
    "duration": 0,
    "start_time": "2024-06-25T15:31:27.134Z"
   },
   {
    "duration": 0,
    "start_time": "2024-06-25T15:31:27.136Z"
   },
   {
    "duration": 0,
    "start_time": "2024-06-25T15:31:27.139Z"
   },
   {
    "duration": 0,
    "start_time": "2024-06-25T15:31:27.141Z"
   },
   {
    "duration": 0,
    "start_time": "2024-06-25T15:31:27.143Z"
   },
   {
    "duration": 0,
    "start_time": "2024-06-25T15:31:27.145Z"
   },
   {
    "duration": 0,
    "start_time": "2024-06-25T15:31:27.147Z"
   },
   {
    "duration": 0,
    "start_time": "2024-06-25T15:31:27.150Z"
   },
   {
    "duration": 0,
    "start_time": "2024-06-25T15:31:27.151Z"
   },
   {
    "duration": 0,
    "start_time": "2024-06-25T15:31:27.153Z"
   },
   {
    "duration": 0,
    "start_time": "2024-06-25T15:31:27.155Z"
   },
   {
    "duration": 0,
    "start_time": "2024-06-25T15:31:27.164Z"
   },
   {
    "duration": 0,
    "start_time": "2024-06-25T15:31:27.166Z"
   },
   {
    "duration": 0,
    "start_time": "2024-06-25T15:31:27.167Z"
   },
   {
    "duration": 0,
    "start_time": "2024-06-25T15:31:27.170Z"
   },
   {
    "duration": 0,
    "start_time": "2024-06-25T15:31:27.173Z"
   },
   {
    "duration": 0,
    "start_time": "2024-06-25T15:31:27.175Z"
   },
   {
    "duration": 0,
    "start_time": "2024-06-25T15:31:27.177Z"
   },
   {
    "duration": 0,
    "start_time": "2024-06-25T15:31:27.178Z"
   },
   {
    "duration": 0,
    "start_time": "2024-06-25T15:31:27.180Z"
   },
   {
    "duration": 0,
    "start_time": "2024-06-25T15:31:27.182Z"
   },
   {
    "duration": 0,
    "start_time": "2024-06-25T15:31:27.183Z"
   },
   {
    "duration": 0,
    "start_time": "2024-06-25T15:31:27.234Z"
   },
   {
    "duration": 0,
    "start_time": "2024-06-25T15:31:27.235Z"
   },
   {
    "duration": 0,
    "start_time": "2024-06-25T15:31:27.237Z"
   },
   {
    "duration": 302,
    "start_time": "2024-06-25T15:32:57.158Z"
   },
   {
    "duration": 82,
    "start_time": "2024-06-25T15:33:21.061Z"
   },
   {
    "duration": 16,
    "start_time": "2024-06-25T15:33:31.792Z"
   },
   {
    "duration": 17,
    "start_time": "2024-06-25T15:37:36.756Z"
   },
   {
    "duration": 19,
    "start_time": "2024-06-25T15:37:50.216Z"
   },
   {
    "duration": 20,
    "start_time": "2024-06-25T15:37:56.548Z"
   },
   {
    "duration": 23,
    "start_time": "2024-06-25T15:38:03.300Z"
   },
   {
    "duration": 27,
    "start_time": "2024-06-25T15:38:14.930Z"
   },
   {
    "duration": 27,
    "start_time": "2024-06-25T15:38:31.008Z"
   },
   {
    "duration": 14,
    "start_time": "2024-06-25T15:38:43.392Z"
   },
   {
    "duration": 15,
    "start_time": "2024-06-25T15:38:49.895Z"
   },
   {
    "duration": 17,
    "start_time": "2024-06-25T15:38:53.238Z"
   },
   {
    "duration": 17,
    "start_time": "2024-06-25T15:39:02.268Z"
   },
   {
    "duration": 2021,
    "start_time": "2024-06-25T15:40:48.915Z"
   },
   {
    "duration": 220,
    "start_time": "2024-06-25T15:41:27.732Z"
   },
   {
    "duration": 27,
    "start_time": "2024-06-25T15:41:39.071Z"
   },
   {
    "duration": 165,
    "start_time": "2024-06-25T15:41:41.080Z"
   },
   {
    "duration": 34,
    "start_time": "2024-06-25T15:41:57.539Z"
   },
   {
    "duration": 203,
    "start_time": "2024-06-25T15:42:27.066Z"
   },
   {
    "duration": 322,
    "start_time": "2024-06-25T15:42:52.964Z"
   },
   {
    "duration": 299,
    "start_time": "2024-06-25T15:43:24.010Z"
   },
   {
    "duration": 286,
    "start_time": "2024-06-25T15:43:32.904Z"
   },
   {
    "duration": 1275,
    "start_time": "2024-06-25T15:52:55.312Z"
   },
   {
    "duration": 3,
    "start_time": "2024-06-25T15:52:56.592Z"
   },
   {
    "duration": 31,
    "start_time": "2024-06-25T15:52:56.602Z"
   },
   {
    "duration": 15,
    "start_time": "2024-06-25T15:52:56.636Z"
   },
   {
    "duration": 16,
    "start_time": "2024-06-25T15:52:56.653Z"
   },
   {
    "duration": 8,
    "start_time": "2024-06-25T15:52:56.671Z"
   },
   {
    "duration": 53,
    "start_time": "2024-06-25T15:52:56.683Z"
   },
   {
    "duration": 8,
    "start_time": "2024-06-25T15:52:56.738Z"
   },
   {
    "duration": 14,
    "start_time": "2024-06-25T15:52:56.749Z"
   },
   {
    "duration": 10,
    "start_time": "2024-06-25T15:52:56.766Z"
   },
   {
    "duration": 8,
    "start_time": "2024-06-25T15:52:56.779Z"
   },
   {
    "duration": 49,
    "start_time": "2024-06-25T15:52:56.789Z"
   },
   {
    "duration": 6,
    "start_time": "2024-06-25T15:52:56.845Z"
   },
   {
    "duration": 8,
    "start_time": "2024-06-25T15:52:56.854Z"
   },
   {
    "duration": 8,
    "start_time": "2024-06-25T15:52:56.865Z"
   },
   {
    "duration": 7,
    "start_time": "2024-06-25T15:52:56.876Z"
   },
   {
    "duration": 14,
    "start_time": "2024-06-25T15:52:56.935Z"
   },
   {
    "duration": 10,
    "start_time": "2024-06-25T15:52:56.951Z"
   },
   {
    "duration": 7,
    "start_time": "2024-06-25T15:52:56.964Z"
   },
   {
    "duration": 8,
    "start_time": "2024-06-25T15:52:56.973Z"
   },
   {
    "duration": 50,
    "start_time": "2024-06-25T15:52:56.984Z"
   },
   {
    "duration": 8,
    "start_time": "2024-06-25T15:52:57.037Z"
   },
   {
    "duration": 10,
    "start_time": "2024-06-25T15:52:57.048Z"
   },
   {
    "duration": 6,
    "start_time": "2024-06-25T15:52:57.061Z"
   },
   {
    "duration": 8,
    "start_time": "2024-06-25T15:52:57.071Z"
   },
   {
    "duration": 67,
    "start_time": "2024-06-25T15:52:57.082Z"
   },
   {
    "duration": 8,
    "start_time": "2024-06-25T15:52:57.153Z"
   },
   {
    "duration": 11,
    "start_time": "2024-06-25T15:52:57.165Z"
   },
   {
    "duration": 8,
    "start_time": "2024-06-25T15:52:57.179Z"
   },
   {
    "duration": 42,
    "start_time": "2024-06-25T15:52:57.190Z"
   },
   {
    "duration": 6,
    "start_time": "2024-06-25T15:52:57.235Z"
   },
   {
    "duration": 21,
    "start_time": "2024-06-25T15:52:57.245Z"
   },
   {
    "duration": 347,
    "start_time": "2024-06-25T15:52:57.269Z"
   },
   {
    "duration": 16,
    "start_time": "2024-06-25T15:52:57.619Z"
   },
   {
    "duration": 10,
    "start_time": "2024-06-25T15:52:57.638Z"
   },
   {
    "duration": 6,
    "start_time": "2024-06-25T15:52:57.651Z"
   },
   {
    "duration": 26,
    "start_time": "2024-06-25T15:52:57.661Z"
   },
   {
    "duration": 348,
    "start_time": "2024-06-25T15:52:57.690Z"
   },
   {
    "duration": 106,
    "start_time": "2024-06-25T15:52:58.040Z"
   },
   {
    "duration": 323,
    "start_time": "2024-06-25T15:52:58.156Z"
   },
   {
    "duration": 17,
    "start_time": "2024-06-25T15:52:58.483Z"
   },
   {
    "duration": 10,
    "start_time": "2024-06-25T15:52:58.503Z"
   },
   {
    "duration": 20,
    "start_time": "2024-06-25T15:52:58.515Z"
   },
   {
    "duration": 11,
    "start_time": "2024-06-25T15:52:58.538Z"
   },
   {
    "duration": 6,
    "start_time": "2024-06-25T15:52:58.553Z"
   },
   {
    "duration": 23,
    "start_time": "2024-06-25T15:52:58.563Z"
   },
   {
    "duration": 395,
    "start_time": "2024-06-25T15:52:58.589Z"
   },
   {
    "duration": 6,
    "start_time": "2024-06-25T15:52:58.988Z"
   },
   {
    "duration": 252,
    "start_time": "2024-06-25T15:52:58.997Z"
   },
   {
    "duration": 6,
    "start_time": "2024-06-25T15:52:59.252Z"
   },
   {
    "duration": 8,
    "start_time": "2024-06-25T15:52:59.261Z"
   },
   {
    "duration": 4,
    "start_time": "2024-06-25T15:52:59.271Z"
   },
   {
    "duration": 5,
    "start_time": "2024-06-25T15:52:59.278Z"
   },
   {
    "duration": 50,
    "start_time": "2024-06-25T15:52:59.286Z"
   },
   {
    "duration": 271,
    "start_time": "2024-06-25T15:52:59.339Z"
   },
   {
    "duration": 20,
    "start_time": "2024-06-25T15:52:59.613Z"
   },
   {
    "duration": 4,
    "start_time": "2024-06-25T15:52:59.636Z"
   },
   {
    "duration": 6,
    "start_time": "2024-06-25T15:52:59.643Z"
   },
   {
    "duration": 9,
    "start_time": "2024-06-25T15:52:59.652Z"
   },
   {
    "duration": 9,
    "start_time": "2024-06-25T15:52:59.663Z"
   },
   {
    "duration": 58,
    "start_time": "2024-06-25T15:52:59.675Z"
   },
   {
    "duration": 12,
    "start_time": "2024-06-25T15:52:59.736Z"
   },
   {
    "duration": 6,
    "start_time": "2024-06-25T15:52:59.750Z"
   },
   {
    "duration": 10,
    "start_time": "2024-06-25T15:52:59.760Z"
   },
   {
    "duration": 8,
    "start_time": "2024-06-25T15:52:59.772Z"
   },
   {
    "duration": 52,
    "start_time": "2024-06-25T15:52:59.783Z"
   },
   {
    "duration": 7,
    "start_time": "2024-06-25T15:52:59.838Z"
   },
   {
    "duration": 9,
    "start_time": "2024-06-25T15:52:59.849Z"
   },
   {
    "duration": 11,
    "start_time": "2024-06-25T15:52:59.861Z"
   },
   {
    "duration": 55,
    "start_time": "2024-06-25T15:52:59.878Z"
   },
   {
    "duration": 13,
    "start_time": "2024-06-25T15:52:59.936Z"
   },
   {
    "duration": 10,
    "start_time": "2024-06-25T15:52:59.952Z"
   },
   {
    "duration": 7,
    "start_time": "2024-06-25T15:52:59.965Z"
   },
   {
    "duration": 11,
    "start_time": "2024-06-25T15:52:59.976Z"
   },
   {
    "duration": 49,
    "start_time": "2024-06-25T15:52:59.989Z"
   },
   {
    "duration": 9,
    "start_time": "2024-06-25T15:53:00.042Z"
   },
   {
    "duration": 379,
    "start_time": "2024-06-25T15:54:44.054Z"
   },
   {
    "duration": 330,
    "start_time": "2024-06-25T15:54:46.319Z"
   },
   {
    "duration": 343,
    "start_time": "2024-06-25T16:00:33.706Z"
   },
   {
    "duration": 313,
    "start_time": "2024-06-25T16:00:36.227Z"
   },
   {
    "duration": 1258,
    "start_time": "2024-06-25T16:00:45.008Z"
   },
   {
    "duration": 4,
    "start_time": "2024-06-25T16:00:46.270Z"
   },
   {
    "duration": 12,
    "start_time": "2024-06-25T16:00:46.279Z"
   },
   {
    "duration": 15,
    "start_time": "2024-06-25T16:00:46.293Z"
   },
   {
    "duration": 15,
    "start_time": "2024-06-25T16:00:46.332Z"
   },
   {
    "duration": 9,
    "start_time": "2024-06-25T16:00:46.350Z"
   },
   {
    "duration": 10,
    "start_time": "2024-06-25T16:00:46.362Z"
   },
   {
    "duration": 8,
    "start_time": "2024-06-25T16:00:46.374Z"
   },
   {
    "duration": 57,
    "start_time": "2024-06-25T16:00:46.386Z"
   },
   {
    "duration": 9,
    "start_time": "2024-06-25T16:00:46.446Z"
   },
   {
    "duration": 7,
    "start_time": "2024-06-25T16:00:46.458Z"
   },
   {
    "duration": 9,
    "start_time": "2024-06-25T16:00:46.468Z"
   },
   {
    "duration": 7,
    "start_time": "2024-06-25T16:00:46.480Z"
   },
   {
    "duration": 10,
    "start_time": "2024-06-25T16:00:46.540Z"
   },
   {
    "duration": 10,
    "start_time": "2024-06-25T16:00:46.552Z"
   },
   {
    "duration": 7,
    "start_time": "2024-06-25T16:00:46.564Z"
   },
   {
    "duration": 14,
    "start_time": "2024-06-25T16:00:46.574Z"
   },
   {
    "duration": 9,
    "start_time": "2024-06-25T16:00:46.634Z"
   },
   {
    "duration": 7,
    "start_time": "2024-06-25T16:00:46.646Z"
   },
   {
    "duration": 9,
    "start_time": "2024-06-25T16:00:46.656Z"
   },
   {
    "duration": 5,
    "start_time": "2024-06-25T16:00:46.667Z"
   },
   {
    "duration": 7,
    "start_time": "2024-06-25T16:00:46.675Z"
   },
   {
    "duration": 54,
    "start_time": "2024-06-25T16:00:46.684Z"
   },
   {
    "duration": 6,
    "start_time": "2024-06-25T16:00:46.741Z"
   },
   {
    "duration": 5,
    "start_time": "2024-06-25T16:00:46.750Z"
   },
   {
    "duration": 13,
    "start_time": "2024-06-25T16:00:46.758Z"
   },
   {
    "duration": 8,
    "start_time": "2024-06-25T16:00:46.774Z"
   },
   {
    "duration": 10,
    "start_time": "2024-06-25T16:00:46.835Z"
   },
   {
    "duration": 8,
    "start_time": "2024-06-25T16:00:46.847Z"
   },
   {
    "duration": 5,
    "start_time": "2024-06-25T16:00:46.859Z"
   },
   {
    "duration": 8,
    "start_time": "2024-06-25T16:00:46.869Z"
   },
   {
    "duration": 70,
    "start_time": "2024-06-25T16:00:46.880Z"
   },
   {
    "duration": 349,
    "start_time": "2024-06-25T16:00:46.953Z"
   },
   {
    "duration": 5,
    "start_time": "2024-06-25T16:00:47.305Z"
   },
   {
    "duration": 25,
    "start_time": "2024-06-25T16:00:47.313Z"
   },
   {
    "duration": 6,
    "start_time": "2024-06-25T16:00:47.340Z"
   },
   {
    "duration": 20,
    "start_time": "2024-06-25T16:00:47.349Z"
   },
   {
    "duration": 330,
    "start_time": "2024-06-25T16:00:47.371Z"
   },
   {
    "duration": 110,
    "start_time": "2024-06-25T16:00:47.704Z"
   },
   {
    "duration": 348,
    "start_time": "2024-06-25T16:00:47.818Z"
   },
   {
    "duration": 16,
    "start_time": "2024-06-25T16:00:48.177Z"
   },
   {
    "duration": 8,
    "start_time": "2024-06-25T16:00:48.196Z"
   },
   {
    "duration": 25,
    "start_time": "2024-06-25T16:00:48.207Z"
   },
   {
    "duration": 9,
    "start_time": "2024-06-25T16:00:48.235Z"
   },
   {
    "duration": 7,
    "start_time": "2024-06-25T16:00:48.247Z"
   },
   {
    "duration": 19,
    "start_time": "2024-06-25T16:00:48.258Z"
   },
   {
    "duration": 374,
    "start_time": "2024-06-25T16:00:48.280Z"
   },
   {
    "duration": 329,
    "start_time": "2024-06-25T16:00:48.657Z"
   },
   {
    "duration": 7,
    "start_time": "2024-06-25T16:00:48.989Z"
   },
   {
    "duration": 270,
    "start_time": "2024-06-25T16:00:48.998Z"
   },
   {
    "duration": 7,
    "start_time": "2024-06-25T16:00:49.270Z"
   },
   {
    "duration": 8,
    "start_time": "2024-06-25T16:00:49.280Z"
   },
   {
    "duration": 3,
    "start_time": "2024-06-25T16:00:49.291Z"
   },
   {
    "duration": 38,
    "start_time": "2024-06-25T16:00:49.297Z"
   },
   {
    "duration": 7,
    "start_time": "2024-06-25T16:00:49.338Z"
   },
   {
    "duration": 287,
    "start_time": "2024-06-25T16:00:49.348Z"
   },
   {
    "duration": 6,
    "start_time": "2024-06-25T16:00:49.640Z"
   },
   {
    "duration": 4,
    "start_time": "2024-06-25T16:00:49.649Z"
   },
   {
    "duration": 5,
    "start_time": "2024-06-25T16:00:49.657Z"
   },
   {
    "duration": 7,
    "start_time": "2024-06-25T16:00:49.665Z"
   },
   {
    "duration": 7,
    "start_time": "2024-06-25T16:00:49.675Z"
   },
   {
    "duration": 56,
    "start_time": "2024-06-25T16:00:49.685Z"
   },
   {
    "duration": 10,
    "start_time": "2024-06-25T16:00:49.744Z"
   },
   {
    "duration": 6,
    "start_time": "2024-06-25T16:00:49.757Z"
   },
   {
    "duration": 10,
    "start_time": "2024-06-25T16:00:49.766Z"
   },
   {
    "duration": 56,
    "start_time": "2024-06-25T16:00:49.780Z"
   },
   {
    "duration": 7,
    "start_time": "2024-06-25T16:00:49.838Z"
   },
   {
    "duration": 6,
    "start_time": "2024-06-25T16:00:49.848Z"
   },
   {
    "duration": 9,
    "start_time": "2024-06-25T16:00:49.857Z"
   },
   {
    "duration": 7,
    "start_time": "2024-06-25T16:00:49.869Z"
   },
   {
    "duration": 59,
    "start_time": "2024-06-25T16:00:49.879Z"
   },
   {
    "duration": 11,
    "start_time": "2024-06-25T16:00:49.941Z"
   },
   {
    "duration": 6,
    "start_time": "2024-06-25T16:00:49.955Z"
   },
   {
    "duration": 6,
    "start_time": "2024-06-25T16:00:49.964Z"
   },
   {
    "duration": 11,
    "start_time": "2024-06-25T16:00:49.973Z"
   },
   {
    "duration": 7,
    "start_time": "2024-06-25T16:00:50.034Z"
   },
   {
    "duration": 6,
    "start_time": "2024-06-25T16:00:50.044Z"
   },
   {
    "duration": 315,
    "start_time": "2024-06-25T16:02:56.751Z"
   },
   {
    "duration": 4878,
    "start_time": "2024-06-25T17:05:35.958Z"
   },
   {
    "duration": 4,
    "start_time": "2024-06-25T17:05:40.840Z"
   },
   {
    "duration": 13,
    "start_time": "2024-06-25T17:05:40.847Z"
   },
   {
    "duration": 15,
    "start_time": "2024-06-25T17:05:40.864Z"
   },
   {
    "duration": 51,
    "start_time": "2024-06-25T17:05:40.882Z"
   },
   {
    "duration": 8,
    "start_time": "2024-06-25T17:05:40.936Z"
   },
   {
    "duration": 12,
    "start_time": "2024-06-25T17:05:40.947Z"
   },
   {
    "duration": 8,
    "start_time": "2024-06-25T17:05:40.961Z"
   },
   {
    "duration": 16,
    "start_time": "2024-06-25T17:05:40.972Z"
   },
   {
    "duration": 8,
    "start_time": "2024-06-25T17:05:41.034Z"
   },
   {
    "duration": 7,
    "start_time": "2024-06-25T17:05:41.045Z"
   },
   {
    "duration": 12,
    "start_time": "2024-06-25T17:05:41.055Z"
   },
   {
    "duration": 6,
    "start_time": "2024-06-25T17:05:41.070Z"
   },
   {
    "duration": 8,
    "start_time": "2024-06-25T17:05:41.079Z"
   },
   {
    "duration": 50,
    "start_time": "2024-06-25T17:05:41.090Z"
   },
   {
    "duration": 7,
    "start_time": "2024-06-25T17:05:41.143Z"
   },
   {
    "duration": 13,
    "start_time": "2024-06-25T17:05:41.154Z"
   },
   {
    "duration": 10,
    "start_time": "2024-06-25T17:05:41.169Z"
   },
   {
    "duration": 57,
    "start_time": "2024-06-25T17:05:41.181Z"
   },
   {
    "duration": 8,
    "start_time": "2024-06-25T17:05:41.241Z"
   },
   {
    "duration": 5,
    "start_time": "2024-06-25T17:05:41.253Z"
   },
   {
    "duration": 6,
    "start_time": "2024-06-25T17:05:41.261Z"
   },
   {
    "duration": 64,
    "start_time": "2024-06-25T17:05:41.270Z"
   },
   {
    "duration": 12,
    "start_time": "2024-06-25T17:05:41.338Z"
   },
   {
    "duration": 6,
    "start_time": "2024-06-25T17:05:41.353Z"
   },
   {
    "duration": 15,
    "start_time": "2024-06-25T17:05:41.363Z"
   },
   {
    "duration": 12,
    "start_time": "2024-06-25T17:05:41.381Z"
   },
   {
    "duration": 10,
    "start_time": "2024-06-25T17:05:41.432Z"
   },
   {
    "duration": 9,
    "start_time": "2024-06-25T17:05:41.446Z"
   },
   {
    "duration": 5,
    "start_time": "2024-06-25T17:05:41.458Z"
   },
   {
    "duration": 6,
    "start_time": "2024-06-25T17:05:41.467Z"
   },
   {
    "duration": 68,
    "start_time": "2024-06-25T17:05:41.476Z"
   },
   {
    "duration": 344,
    "start_time": "2024-06-25T17:05:41.548Z"
   },
   {
    "duration": 6,
    "start_time": "2024-06-25T17:05:41.895Z"
   },
   {
    "duration": 29,
    "start_time": "2024-06-25T17:05:41.904Z"
   },
   {
    "duration": 8,
    "start_time": "2024-06-25T17:05:41.937Z"
   },
   {
    "duration": 20,
    "start_time": "2024-06-25T17:05:41.948Z"
   },
   {
    "duration": 340,
    "start_time": "2024-06-25T17:05:41.971Z"
   },
   {
    "duration": 54,
    "start_time": "2024-06-25T17:05:42.315Z"
   },
   {
    "duration": 349,
    "start_time": "2024-06-25T17:05:42.372Z"
   },
   {
    "duration": 17,
    "start_time": "2024-06-25T17:05:42.725Z"
   },
   {
    "duration": 8,
    "start_time": "2024-06-25T17:05:42.746Z"
   },
   {
    "duration": 12,
    "start_time": "2024-06-25T17:05:42.757Z"
   },
   {
    "duration": 9,
    "start_time": "2024-06-25T17:05:42.771Z"
   },
   {
    "duration": 5,
    "start_time": "2024-06-25T17:05:42.784Z"
   },
   {
    "duration": 22,
    "start_time": "2024-06-25T17:05:42.833Z"
   },
   {
    "duration": 364,
    "start_time": "2024-06-25T17:05:42.858Z"
   },
   {
    "duration": 350,
    "start_time": "2024-06-25T17:05:43.225Z"
   },
   {
    "duration": 8,
    "start_time": "2024-06-25T17:05:43.578Z"
   },
   {
    "duration": 316,
    "start_time": "2024-06-25T17:05:43.588Z"
   },
   {
    "duration": 7,
    "start_time": "2024-06-25T17:05:43.907Z"
   },
   {
    "duration": 7,
    "start_time": "2024-06-25T17:05:43.932Z"
   },
   {
    "duration": 4,
    "start_time": "2024-06-25T17:05:43.942Z"
   },
   {
    "duration": 4,
    "start_time": "2024-06-25T17:05:43.949Z"
   },
   {
    "duration": 7,
    "start_time": "2024-06-25T17:05:43.957Z"
   },
   {
    "duration": 322,
    "start_time": "2024-06-25T17:05:43.967Z"
   },
   {
    "duration": 7,
    "start_time": "2024-06-25T17:05:44.292Z"
   },
   {
    "duration": 3,
    "start_time": "2024-06-25T17:05:44.303Z"
   },
   {
    "duration": 5,
    "start_time": "2024-06-25T17:05:44.333Z"
   },
   {
    "duration": 11,
    "start_time": "2024-06-25T17:05:44.341Z"
   },
   {
    "duration": 9,
    "start_time": "2024-06-25T17:05:44.355Z"
   },
   {
    "duration": 12,
    "start_time": "2024-06-25T17:05:44.367Z"
   },
   {
    "duration": 50,
    "start_time": "2024-06-25T17:05:44.382Z"
   },
   {
    "duration": 7,
    "start_time": "2024-06-25T17:05:44.435Z"
   },
   {
    "duration": 9,
    "start_time": "2024-06-25T17:05:44.447Z"
   },
   {
    "duration": 8,
    "start_time": "2024-06-25T17:05:44.460Z"
   },
   {
    "duration": 6,
    "start_time": "2024-06-25T17:05:44.471Z"
   },
   {
    "duration": 54,
    "start_time": "2024-06-25T17:05:44.481Z"
   },
   {
    "duration": 12,
    "start_time": "2024-06-25T17:05:44.538Z"
   },
   {
    "duration": 8,
    "start_time": "2024-06-25T17:05:44.553Z"
   },
   {
    "duration": 12,
    "start_time": "2024-06-25T17:05:44.565Z"
   },
   {
    "duration": 53,
    "start_time": "2024-06-25T17:05:44.582Z"
   },
   {
    "duration": 7,
    "start_time": "2024-06-25T17:05:44.639Z"
   },
   {
    "duration": 8,
    "start_time": "2024-06-25T17:05:44.650Z"
   },
   {
    "duration": 10,
    "start_time": "2024-06-25T17:05:44.661Z"
   },
   {
    "duration": 8,
    "start_time": "2024-06-25T17:05:44.674Z"
   },
   {
    "duration": 7,
    "start_time": "2024-06-25T17:05:44.732Z"
   }
  ],
  "kernelspec": {
   "display_name": "Python 3 (ipykernel)",
   "language": "python",
   "name": "python3"
  },
  "language_info": {
   "codemirror_mode": {
    "name": "ipython",
    "version": 3
   },
   "file_extension": ".py",
   "mimetype": "text/x-python",
   "name": "python",
   "nbconvert_exporter": "python",
   "pygments_lexer": "ipython3",
   "version": "3.9.19"
  },
  "toc": {
   "base_numbering": 1,
   "nav_menu": {},
   "number_sections": true,
   "sideBar": true,
   "skip_h1_title": true,
   "title_cell": "Table of Contents",
   "title_sidebar": "Contents",
   "toc_cell": false,
   "toc_position": {},
   "toc_section_display": true,
   "toc_window_display": false
  }
 },
 "nbformat": 4,
 "nbformat_minor": 2
}
